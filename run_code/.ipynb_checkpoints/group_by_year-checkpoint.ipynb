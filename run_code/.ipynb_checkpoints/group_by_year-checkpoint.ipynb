{
 "cells": [
  {
   "cell_type": "code",
   "execution_count": 8,
   "id": "e0858c3a-4dcb-4565-8de7-b2ecfbf81163",
   "metadata": {
    "tags": []
   },
   "outputs": [],
   "source": [
    "import xarray as xr\n",
    "import numpy as np\n",
    "\n",
    "dss = xr.open_dataset('/data/ycheng/JRA/Data/2021/phy2m_20211231.nc',engine='netcdf4')\n",
    "\n"
   ]
  },
  {
   "cell_type": "code",
   "execution_count": 6,
   "id": "614ffb2d-6cdb-411a-902a-8a4cdc99f4b9",
   "metadata": {},
   "outputs": [],
   "source": [
    "lonres = dss['longitude'][1]-dss['longitude'][0]"
   ]
  },
  {
   "cell_type": "code",
   "execution_count": 45,
   "id": "75b19c25-d873-47e8-be59-52519ed66b2f",
   "metadata": {
    "tags": []
   },
   "outputs": [
    {
     "name": "stdout",
     "output_type": "stream",
     "text": [
      "shifting longitude to postive only values\n",
      "<xarray.DataArray 'longitude' (longitude: 288)>\n",
      "array([  0.  ,   1.25,   2.5 , ..., 356.25, 357.5 , 358.75])\n",
      "Coordinates:\n",
      "    number      int64 ...\n",
      "    step        timedelta64[ns] ...\n",
      "    nominalTop  float64 ...\n",
      "  * longitude   (longitude) float64 0.0 1.25 2.5 3.75 ... 356.2 357.5 358.8\n",
      "    surface     float64 ...\n"
     ]
    }
   ],
   "source": [
    "if any(dss['longitude'] < 0 ):\n",
    "    print('shifting longitude to postive only values')\n",
    "    dss['longitude'] = np.linspace(0, 360, dss['longitude'].shape[0], endpoint=False)\n",
    "print(dss['longitude'])"
   ]
  },
  {
   "cell_type": "code",
   "execution_count": 59,
   "id": "4439aff4-baad-42f7-aa36-f5c3910c305d",
   "metadata": {
    "tags": []
   },
   "outputs": [
    {
     "name": "stderr",
     "output_type": "stream",
     "text": [
      "Can't create file 'fcst_surf125.118_brtmp.1958010100_1958123121.923a8.idx'\n",
      "Traceback (most recent call last):\n",
      "  File \"/home/ycheng/.conda/envs/cpc/lib/python3.10/site-packages/cfgrib/messages.py\", line 535, in from_indexpath_or_filestream\n",
      "    self = cls.from_fieldset(filestream, index_keys, computed_keys)\n",
      "  File \"/home/ycheng/.conda/envs/cpc/lib/python3.10/site-packages/cfgrib/messages.py\", line 378, in from_fieldset\n",
      "    return cls.from_fieldset_and_iteritems(fieldset, iteritems, index_keys, computed_keys)\n",
      "  File \"/home/ycheng/.conda/envs/cpc/lib/python3.10/site-packages/cfgrib/messages.py\", line 391, in from_fieldset_and_iteritems\n",
      "    for field_id, raw_field in iteritems:\n",
      "  File \"/home/ycheng/.conda/envs/cpc/lib/python3.10/site-packages/cfgrib/messages.py\", line 291, in __iter__\n",
      "    for message in self.itervalues():\n",
      "  File \"/home/ycheng/.conda/envs/cpc/lib/python3.10/site-packages/cfgrib/messages.py\", line 267, in itervalues\n",
      "    with open(self.filestream.path, \"rb\") as file:\n",
      "FileNotFoundError: [Errno 2] No such file or directory: 'fcst_surf125.118_brtmp.1958010100_1958123121'\n",
      "Can't read index file 'fcst_surf125.118_brtmp.1958010100_1958123121.923a8.idx'\n",
      "Traceback (most recent call last):\n",
      "  File \"/home/ycheng/.conda/envs/cpc/lib/python3.10/site-packages/cfgrib/messages.py\", line 544, in from_indexpath_or_filestream\n",
      "    index_mtime = os.path.getmtime(indexpath)\n",
      "  File \"/home/ycheng/.conda/envs/cpc/lib/python3.10/genericpath.py\", line 55, in getmtime\n",
      "    return os.stat(filename).st_mtime\n",
      "FileNotFoundError: [Errno 2] No such file or directory: 'fcst_surf125.118_brtmp.1958010100_1958123121.923a8.idx'\n"
     ]
    },
    {
     "ename": "FileNotFoundError",
     "evalue": "[Errno 2] No such file or directory: 'fcst_surf125.118_brtmp.1958010100_1958123121'",
     "output_type": "error",
     "traceback": [
      "\u001b[0;31m---------------------------------------------------------------------------\u001b[0m",
      "\u001b[0;31mFileNotFoundError\u001b[0m                         Traceback (most recent call last)",
      "Cell \u001b[0;32mIn[59], line 1\u001b[0m\n\u001b[0;32m----> 1\u001b[0m ds \u001b[38;5;241m=\u001b[39m \u001b[43mxr\u001b[49m\u001b[38;5;241;43m.\u001b[39;49m\u001b[43mopen_dataset\u001b[49m\u001b[43m(\u001b[49m\u001b[38;5;124;43m'\u001b[39;49m\u001b[38;5;124;43mfcst_surf125.118_brtmp.1958010100_1958123121\u001b[39;49m\u001b[38;5;124;43m'\u001b[39;49m\u001b[43m,\u001b[49m\u001b[43mengine\u001b[49m\u001b[38;5;241;43m=\u001b[39;49m\u001b[38;5;124;43m'\u001b[39;49m\u001b[38;5;124;43mcfgrib\u001b[39;49m\u001b[38;5;124;43m'\u001b[39;49m\u001b[43m)\u001b[49m\n",
      "File \u001b[0;32m~/.conda/envs/cpc/lib/python3.10/site-packages/xarray/backends/api.py:526\u001b[0m, in \u001b[0;36mopen_dataset\u001b[0;34m(filename_or_obj, engine, chunks, cache, decode_cf, mask_and_scale, decode_times, decode_timedelta, use_cftime, concat_characters, decode_coords, drop_variables, inline_array, backend_kwargs, **kwargs)\u001b[0m\n\u001b[1;32m    514\u001b[0m decoders \u001b[38;5;241m=\u001b[39m _resolve_decoders_kwargs(\n\u001b[1;32m    515\u001b[0m     decode_cf,\n\u001b[1;32m    516\u001b[0m     open_backend_dataset_parameters\u001b[38;5;241m=\u001b[39mbackend\u001b[38;5;241m.\u001b[39mopen_dataset_parameters,\n\u001b[0;32m   (...)\u001b[0m\n\u001b[1;32m    522\u001b[0m     decode_coords\u001b[38;5;241m=\u001b[39mdecode_coords,\n\u001b[1;32m    523\u001b[0m )\n\u001b[1;32m    525\u001b[0m overwrite_encoded_chunks \u001b[38;5;241m=\u001b[39m kwargs\u001b[38;5;241m.\u001b[39mpop(\u001b[38;5;124m\"\u001b[39m\u001b[38;5;124moverwrite_encoded_chunks\u001b[39m\u001b[38;5;124m\"\u001b[39m, \u001b[38;5;28;01mNone\u001b[39;00m)\n\u001b[0;32m--> 526\u001b[0m backend_ds \u001b[38;5;241m=\u001b[39m \u001b[43mbackend\u001b[49m\u001b[38;5;241;43m.\u001b[39;49m\u001b[43mopen_dataset\u001b[49m\u001b[43m(\u001b[49m\n\u001b[1;32m    527\u001b[0m \u001b[43m    \u001b[49m\u001b[43mfilename_or_obj\u001b[49m\u001b[43m,\u001b[49m\n\u001b[1;32m    528\u001b[0m \u001b[43m    \u001b[49m\u001b[43mdrop_variables\u001b[49m\u001b[38;5;241;43m=\u001b[39;49m\u001b[43mdrop_variables\u001b[49m\u001b[43m,\u001b[49m\n\u001b[1;32m    529\u001b[0m \u001b[43m    \u001b[49m\u001b[38;5;241;43m*\u001b[39;49m\u001b[38;5;241;43m*\u001b[39;49m\u001b[43mdecoders\u001b[49m\u001b[43m,\u001b[49m\n\u001b[1;32m    530\u001b[0m \u001b[43m    \u001b[49m\u001b[38;5;241;43m*\u001b[39;49m\u001b[38;5;241;43m*\u001b[39;49m\u001b[43mkwargs\u001b[49m\u001b[43m,\u001b[49m\n\u001b[1;32m    531\u001b[0m \u001b[43m\u001b[49m\u001b[43m)\u001b[49m\n\u001b[1;32m    532\u001b[0m ds \u001b[38;5;241m=\u001b[39m _dataset_from_backend_dataset(\n\u001b[1;32m    533\u001b[0m     backend_ds,\n\u001b[1;32m    534\u001b[0m     filename_or_obj,\n\u001b[0;32m   (...)\u001b[0m\n\u001b[1;32m    542\u001b[0m     \u001b[38;5;241m*\u001b[39m\u001b[38;5;241m*\u001b[39mkwargs,\n\u001b[1;32m    543\u001b[0m )\n\u001b[1;32m    544\u001b[0m \u001b[38;5;28;01mreturn\u001b[39;00m ds\n",
      "File \u001b[0;32m~/.conda/envs/cpc/lib/python3.10/site-packages/cfgrib/xarray_plugin.py:109\u001b[0m, in \u001b[0;36mCfGribBackend.open_dataset\u001b[0;34m(self, filename_or_obj, mask_and_scale, decode_times, concat_characters, decode_coords, drop_variables, use_cftime, decode_timedelta, lock, indexpath, filter_by_keys, read_keys, encode_cf, squeeze, time_dims, errors, extra_coords)\u001b[0m\n\u001b[1;32m     87\u001b[0m \u001b[38;5;28;01mdef\u001b[39;00m \u001b[38;5;21mopen_dataset\u001b[39m(\n\u001b[1;32m     88\u001b[0m     \u001b[38;5;28mself\u001b[39m,\n\u001b[1;32m     89\u001b[0m     filename_or_obj: T\u001b[38;5;241m.\u001b[39mUnion[\u001b[38;5;28mstr\u001b[39m, abc\u001b[38;5;241m.\u001b[39mMappingFieldset[T\u001b[38;5;241m.\u001b[39mAny, abc\u001b[38;5;241m.\u001b[39mField]],\n\u001b[0;32m   (...)\u001b[0m\n\u001b[1;32m    106\u001b[0m     extra_coords: T\u001b[38;5;241m.\u001b[39mDict[\u001b[38;5;28mstr\u001b[39m, \u001b[38;5;28mstr\u001b[39m] \u001b[38;5;241m=\u001b[39m {},\n\u001b[1;32m    107\u001b[0m ) \u001b[38;5;241m-\u001b[39m\u001b[38;5;241m>\u001b[39m xr\u001b[38;5;241m.\u001b[39mDataset:\n\u001b[0;32m--> 109\u001b[0m     store \u001b[38;5;241m=\u001b[39m \u001b[43mCfGribDataStore\u001b[49m\u001b[43m(\u001b[49m\n\u001b[1;32m    110\u001b[0m \u001b[43m        \u001b[49m\u001b[43mfilename_or_obj\u001b[49m\u001b[43m,\u001b[49m\n\u001b[1;32m    111\u001b[0m \u001b[43m        \u001b[49m\u001b[43mindexpath\u001b[49m\u001b[38;5;241;43m=\u001b[39;49m\u001b[43mindexpath\u001b[49m\u001b[43m,\u001b[49m\n\u001b[1;32m    112\u001b[0m \u001b[43m        \u001b[49m\u001b[43mfilter_by_keys\u001b[49m\u001b[38;5;241;43m=\u001b[39;49m\u001b[43mfilter_by_keys\u001b[49m\u001b[43m,\u001b[49m\n\u001b[1;32m    113\u001b[0m \u001b[43m        \u001b[49m\u001b[43mread_keys\u001b[49m\u001b[38;5;241;43m=\u001b[39;49m\u001b[43mread_keys\u001b[49m\u001b[43m,\u001b[49m\n\u001b[1;32m    114\u001b[0m \u001b[43m        \u001b[49m\u001b[43mencode_cf\u001b[49m\u001b[38;5;241;43m=\u001b[39;49m\u001b[43mencode_cf\u001b[49m\u001b[43m,\u001b[49m\n\u001b[1;32m    115\u001b[0m \u001b[43m        \u001b[49m\u001b[43msqueeze\u001b[49m\u001b[38;5;241;43m=\u001b[39;49m\u001b[43msqueeze\u001b[49m\u001b[43m,\u001b[49m\n\u001b[1;32m    116\u001b[0m \u001b[43m        \u001b[49m\u001b[43mtime_dims\u001b[49m\u001b[38;5;241;43m=\u001b[39;49m\u001b[43mtime_dims\u001b[49m\u001b[43m,\u001b[49m\n\u001b[1;32m    117\u001b[0m \u001b[43m        \u001b[49m\u001b[43mlock\u001b[49m\u001b[38;5;241;43m=\u001b[39;49m\u001b[43mlock\u001b[49m\u001b[43m,\u001b[49m\n\u001b[1;32m    118\u001b[0m \u001b[43m        \u001b[49m\u001b[43merrors\u001b[49m\u001b[38;5;241;43m=\u001b[39;49m\u001b[43merrors\u001b[49m\u001b[43m,\u001b[49m\n\u001b[1;32m    119\u001b[0m \u001b[43m        \u001b[49m\u001b[43mextra_coords\u001b[49m\u001b[38;5;241;43m=\u001b[39;49m\u001b[43mextra_coords\u001b[49m\u001b[43m,\u001b[49m\n\u001b[1;32m    120\u001b[0m \u001b[43m    \u001b[49m\u001b[43m)\u001b[49m\n\u001b[1;32m    121\u001b[0m     \u001b[38;5;28;01mwith\u001b[39;00m xr\u001b[38;5;241m.\u001b[39mcore\u001b[38;5;241m.\u001b[39mutils\u001b[38;5;241m.\u001b[39mclose_on_error(store):\n\u001b[1;32m    122\u001b[0m         \u001b[38;5;28mvars\u001b[39m, attrs \u001b[38;5;241m=\u001b[39m store\u001b[38;5;241m.\u001b[39mload()  \u001b[38;5;66;03m# type: ignore\u001b[39;00m\n",
      "File \u001b[0;32m~/.conda/envs/cpc/lib/python3.10/site-packages/cfgrib/xarray_plugin.py:40\u001b[0m, in \u001b[0;36mCfGribDataStore.__init__\u001b[0;34m(self, filename, lock, **backend_kwargs)\u001b[0m\n\u001b[1;32m     38\u001b[0m \u001b[38;5;28;01melse\u001b[39;00m:\n\u001b[1;32m     39\u001b[0m     opener \u001b[38;5;241m=\u001b[39m dataset\u001b[38;5;241m.\u001b[39mopen_fieldset\n\u001b[0;32m---> 40\u001b[0m \u001b[38;5;28mself\u001b[39m\u001b[38;5;241m.\u001b[39mds \u001b[38;5;241m=\u001b[39m \u001b[43mopener\u001b[49m\u001b[43m(\u001b[49m\u001b[43mfilename\u001b[49m\u001b[43m,\u001b[49m\u001b[43m \u001b[49m\u001b[38;5;241;43m*\u001b[39;49m\u001b[38;5;241;43m*\u001b[39;49m\u001b[43mbackend_kwargs\u001b[49m\u001b[43m)\u001b[49m\n",
      "File \u001b[0;32m~/.conda/envs/cpc/lib/python3.10/site-packages/cfgrib/dataset.py:778\u001b[0m, in \u001b[0;36mopen_file\u001b[0;34m(path, grib_errors, indexpath, filter_by_keys, read_keys, time_dims, extra_coords, **kwargs)\u001b[0m\n\u001b[1;32m    775\u001b[0m stream \u001b[38;5;241m=\u001b[39m messages\u001b[38;5;241m.\u001b[39mFileStream(path, errors\u001b[38;5;241m=\u001b[39mgrib_errors)\n\u001b[1;32m    777\u001b[0m index_keys \u001b[38;5;241m=\u001b[39m compute_index_keys(time_dims, extra_coords)\n\u001b[0;32m--> 778\u001b[0m index \u001b[38;5;241m=\u001b[39m \u001b[43mopen_fileindex\u001b[49m\u001b[43m(\u001b[49m\u001b[43mstream\u001b[49m\u001b[43m,\u001b[49m\u001b[43m \u001b[49m\u001b[43mindexpath\u001b[49m\u001b[43m,\u001b[49m\u001b[43m \u001b[49m\u001b[43mindex_keys\u001b[49m\u001b[43m,\u001b[49m\u001b[43m \u001b[49m\u001b[43mfilter_by_keys\u001b[49m\u001b[38;5;241;43m=\u001b[39;49m\u001b[43mfilter_by_keys\u001b[49m\u001b[43m)\u001b[49m\n\u001b[1;32m    780\u001b[0m \u001b[38;5;28;01mreturn\u001b[39;00m open_from_index(index, read_keys, time_dims, extra_coords, \u001b[38;5;241m*\u001b[39m\u001b[38;5;241m*\u001b[39mkwargs)\n",
      "File \u001b[0;32m~/.conda/envs/cpc/lib/python3.10/site-packages/cfgrib/dataset.py:757\u001b[0m, in \u001b[0;36mopen_fileindex\u001b[0;34m(stream, indexpath, index_keys, filter_by_keys, computed_keys)\u001b[0m\n\u001b[1;32m    749\u001b[0m \u001b[38;5;28;01mdef\u001b[39;00m \u001b[38;5;21mopen_fileindex\u001b[39m(\n\u001b[1;32m    750\u001b[0m     stream: messages\u001b[38;5;241m.\u001b[39mFileStream,\n\u001b[1;32m    751\u001b[0m     indexpath: \u001b[38;5;28mstr\u001b[39m \u001b[38;5;241m=\u001b[39m messages\u001b[38;5;241m.\u001b[39mDEFAULT_INDEXPATH,\n\u001b[0;32m   (...)\u001b[0m\n\u001b[1;32m    754\u001b[0m     computed_keys: messages\u001b[38;5;241m.\u001b[39mComputedKeysType \u001b[38;5;241m=\u001b[39m cfmessage\u001b[38;5;241m.\u001b[39mCOMPUTED_KEYS,\n\u001b[1;32m    755\u001b[0m ) \u001b[38;5;241m-\u001b[39m\u001b[38;5;241m>\u001b[39m messages\u001b[38;5;241m.\u001b[39mFileIndex:\n\u001b[1;32m    756\u001b[0m     index_keys \u001b[38;5;241m=\u001b[39m \u001b[38;5;28msorted\u001b[39m(\u001b[38;5;28mset\u001b[39m(index_keys) \u001b[38;5;241m|\u001b[39m \u001b[38;5;28mset\u001b[39m(filter_by_keys))\n\u001b[0;32m--> 757\u001b[0m     index \u001b[38;5;241m=\u001b[39m \u001b[43mmessages\u001b[49m\u001b[38;5;241;43m.\u001b[39;49m\u001b[43mFileIndex\u001b[49m\u001b[38;5;241;43m.\u001b[39;49m\u001b[43mfrom_indexpath_or_filestream\u001b[49m\u001b[43m(\u001b[49m\n\u001b[1;32m    758\u001b[0m \u001b[43m        \u001b[49m\u001b[43mstream\u001b[49m\u001b[43m,\u001b[49m\u001b[43m \u001b[49m\u001b[43mindex_keys\u001b[49m\u001b[43m,\u001b[49m\u001b[43m \u001b[49m\u001b[43mindexpath\u001b[49m\u001b[38;5;241;43m=\u001b[39;49m\u001b[43mindexpath\u001b[49m\u001b[43m,\u001b[49m\u001b[43m \u001b[49m\u001b[43mcomputed_keys\u001b[49m\u001b[38;5;241;43m=\u001b[39;49m\u001b[43mcomputed_keys\u001b[49m\n\u001b[1;32m    759\u001b[0m \u001b[43m    \u001b[49m\u001b[43m)\u001b[49m\n\u001b[1;32m    760\u001b[0m     \u001b[38;5;28;01mreturn\u001b[39;00m index\u001b[38;5;241m.\u001b[39msubindex(filter_by_keys)\n",
      "File \u001b[0;32m~/.conda/envs/cpc/lib/python3.10/site-packages/cfgrib/messages.py:561\u001b[0m, in \u001b[0;36mFileIndex.from_indexpath_or_filestream\u001b[0;34m(cls, filestream, index_keys, indexpath, computed_keys, log)\u001b[0m\n\u001b[1;32m    558\u001b[0m \u001b[38;5;28;01mexcept\u001b[39;00m \u001b[38;5;167;01mException\u001b[39;00m:\n\u001b[1;32m    559\u001b[0m     log\u001b[38;5;241m.\u001b[39mexception(\u001b[38;5;124m\"\u001b[39m\u001b[38;5;124mCan\u001b[39m\u001b[38;5;124m'\u001b[39m\u001b[38;5;124mt read index file \u001b[39m\u001b[38;5;132;01m%r\u001b[39;00m\u001b[38;5;124m\"\u001b[39m, indexpath)\n\u001b[0;32m--> 561\u001b[0m \u001b[38;5;28;01mreturn\u001b[39;00m \u001b[38;5;28;43mcls\u001b[39;49m\u001b[38;5;241;43m.\u001b[39;49m\u001b[43mfrom_fieldset\u001b[49m\u001b[43m(\u001b[49m\u001b[43mfilestream\u001b[49m\u001b[43m,\u001b[49m\u001b[43m \u001b[49m\u001b[43mindex_keys\u001b[49m\u001b[43m,\u001b[49m\u001b[43m \u001b[49m\u001b[43mcomputed_keys\u001b[49m\u001b[43m)\u001b[49m\n",
      "File \u001b[0;32m~/.conda/envs/cpc/lib/python3.10/site-packages/cfgrib/messages.py:378\u001b[0m, in \u001b[0;36mFieldsetIndex.from_fieldset\u001b[0;34m(cls, fieldset, index_keys, computed_keys)\u001b[0m\n\u001b[1;32m    376\u001b[0m \u001b[38;5;28;01melse\u001b[39;00m:\n\u001b[1;32m    377\u001b[0m     iteritems \u001b[38;5;241m=\u001b[39m \u001b[38;5;28menumerate\u001b[39m(fieldset)\n\u001b[0;32m--> 378\u001b[0m \u001b[38;5;28;01mreturn\u001b[39;00m \u001b[38;5;28;43mcls\u001b[39;49m\u001b[38;5;241;43m.\u001b[39;49m\u001b[43mfrom_fieldset_and_iteritems\u001b[49m\u001b[43m(\u001b[49m\u001b[43mfieldset\u001b[49m\u001b[43m,\u001b[49m\u001b[43m \u001b[49m\u001b[43miteritems\u001b[49m\u001b[43m,\u001b[49m\u001b[43m \u001b[49m\u001b[43mindex_keys\u001b[49m\u001b[43m,\u001b[49m\u001b[43m \u001b[49m\u001b[43mcomputed_keys\u001b[49m\u001b[43m)\u001b[49m\n",
      "File \u001b[0;32m~/.conda/envs/cpc/lib/python3.10/site-packages/cfgrib/messages.py:391\u001b[0m, in \u001b[0;36mFieldsetIndex.from_fieldset_and_iteritems\u001b[0;34m(cls, fieldset, iteritems, index_keys, computed_keys)\u001b[0m\n\u001b[1;32m    389\u001b[0m index_keys \u001b[38;5;241m=\u001b[39m \u001b[38;5;28mlist\u001b[39m(index_keys)\n\u001b[1;32m    390\u001b[0m header_values_cache \u001b[38;5;241m=\u001b[39m {}  \u001b[38;5;66;03m# type: T.Dict[T.Tuple[T.Any, type], T.Any]\u001b[39;00m\n\u001b[0;32m--> 391\u001b[0m \u001b[38;5;28;01mfor\u001b[39;00m field_id, raw_field \u001b[38;5;129;01min\u001b[39;00m iteritems:\n\u001b[1;32m    392\u001b[0m     field \u001b[38;5;241m=\u001b[39m ComputedKeysAdapter(raw_field, computed_keys)\n\u001b[1;32m    393\u001b[0m     header_values \u001b[38;5;241m=\u001b[39m []\n",
      "File \u001b[0;32m~/.conda/envs/cpc/lib/python3.10/site-packages/cfgrib/messages.py:291\u001b[0m, in \u001b[0;36mFileStreamItems.__iter__\u001b[0;34m(self)\u001b[0m\n\u001b[1;32m    289\u001b[0m old_offset \u001b[38;5;241m=\u001b[39m \u001b[38;5;241m-\u001b[39m\u001b[38;5;241m1\u001b[39m\n\u001b[1;32m    290\u001b[0m count \u001b[38;5;241m=\u001b[39m \u001b[38;5;241m0\u001b[39m\n\u001b[0;32m--> 291\u001b[0m \u001b[38;5;28;01mfor\u001b[39;00m message \u001b[38;5;129;01min\u001b[39;00m \u001b[38;5;28mself\u001b[39m\u001b[38;5;241m.\u001b[39mitervalues():\n\u001b[1;32m    292\u001b[0m     offset \u001b[38;5;241m=\u001b[39m message\u001b[38;5;241m.\u001b[39mmessage_get(\u001b[38;5;124m\"\u001b[39m\u001b[38;5;124moffset\u001b[39m\u001b[38;5;124m\"\u001b[39m, \u001b[38;5;28mint\u001b[39m)\n\u001b[1;32m    293\u001b[0m     \u001b[38;5;28;01mif\u001b[39;00m offset \u001b[38;5;241m==\u001b[39m old_offset:\n",
      "File \u001b[0;32m~/.conda/envs/cpc/lib/python3.10/site-packages/cfgrib/messages.py:267\u001b[0m, in \u001b[0;36mFileStreamItems.itervalues\u001b[0;34m(self)\u001b[0m\n\u001b[1;32m    265\u001b[0m \u001b[38;5;28;01mdef\u001b[39;00m \u001b[38;5;21mitervalues\u001b[39m(\u001b[38;5;28mself\u001b[39m) \u001b[38;5;241m-\u001b[39m\u001b[38;5;241m>\u001b[39m T\u001b[38;5;241m.\u001b[39mIterator[Message]:\n\u001b[1;32m    266\u001b[0m     errors \u001b[38;5;241m=\u001b[39m \u001b[38;5;28mself\u001b[39m\u001b[38;5;241m.\u001b[39mfilestream\u001b[38;5;241m.\u001b[39merrors\n\u001b[0;32m--> 267\u001b[0m     \u001b[38;5;28;01mwith\u001b[39;00m \u001b[38;5;28;43mopen\u001b[39;49m\u001b[43m(\u001b[49m\u001b[38;5;28;43mself\u001b[39;49m\u001b[38;5;241;43m.\u001b[39;49m\u001b[43mfilestream\u001b[49m\u001b[38;5;241;43m.\u001b[39;49m\u001b[43mpath\u001b[49m\u001b[43m,\u001b[49m\u001b[43m \u001b[49m\u001b[38;5;124;43m\"\u001b[39;49m\u001b[38;5;124;43mrb\u001b[39;49m\u001b[38;5;124;43m\"\u001b[39;49m\u001b[43m)\u001b[49m \u001b[38;5;28;01mas\u001b[39;00m file:\n\u001b[1;32m    268\u001b[0m         \u001b[38;5;66;03m# enable MULTI-FIELD support on sequential reads (like when building the index)\u001b[39;00m\n\u001b[1;32m    269\u001b[0m         \u001b[38;5;28;01mwith\u001b[39;00m multi_enabled(file):\n\u001b[1;32m    270\u001b[0m             valid_message_found \u001b[38;5;241m=\u001b[39m \u001b[38;5;28;01mFalse\u001b[39;00m\n",
      "\u001b[0;31mFileNotFoundError\u001b[0m: [Errno 2] No such file or directory: 'fcst_surf125.118_brtmp.1958010100_1958123121'"
     ]
    }
   ],
   "source": [
    "ds = xr.open_dataset('/data/ycheng/JRA/Data/1958/fcst_surf125.118_brtmp.1958010100_1958123121',engine='cfgrib')"
   ]
  },
  {
   "cell_type": "code",
   "execution_count": 58,
   "id": "b1c6dbbb-66a6-4ff7-88e9-11f521c31591",
   "metadata": {
    "tags": []
   },
   "outputs": [
    {
     "name": "stdout",
     "output_type": "stream",
     "text": [
      "a\n"
     ]
    }
   ],
   "source": [
    "year = 2013\n",
    "if year <= 2014:\n",
    "    print('a')\n",
    "else:\n",
    "    print('b')"
   ]
  },
  {
   "cell_type": "code",
   "execution_count": null,
   "id": "55e6ed6d-0e7d-4ff4-a321-2c79623fc431",
   "metadata": {
    "tags": []
   },
   "outputs": [],
   "source": []
  },
  {
   "cell_type": "code",
   "execution_count": 37,
   "id": "2c733425-b568-4494-8b76-bb50991d9564",
   "metadata": {
    "tags": []
   },
   "outputs": [
    {
     "data": {
      "text/plain": [
       "288"
      ]
     },
     "execution_count": 37,
     "metadata": {},
     "output_type": "execute_result"
    }
   ],
   "source": []
  },
  {
   "cell_type": "code",
   "execution_count": null,
   "id": "a23f7494-8343-4052-a319-a2935581ba30",
   "metadata": {},
   "outputs": [],
   "source": []
  }
 ],
 "metadata": {
  "kernelspec": {
   "display_name": "Python 3 (ipykernel)",
   "language": "python",
   "name": "python3"
  },
  "language_info": {
   "codemirror_mode": {
    "name": "ipython",
    "version": 3
   },
   "file_extension": ".py",
   "mimetype": "text/x-python",
   "name": "python",
   "nbconvert_exporter": "python",
   "pygments_lexer": "ipython3",
   "version": "3.10.9"
  }
 },
 "nbformat": 4,
 "nbformat_minor": 5
}

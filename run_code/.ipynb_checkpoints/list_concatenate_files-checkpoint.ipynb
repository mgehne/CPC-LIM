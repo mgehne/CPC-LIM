{
 "cells": [
  {
   "cell_type": "code",
   "execution_count": 7,
   "id": "d07dc54c-6047-4ee5-a2e4-75e1e13cbfd2",
   "metadata": {},
   "outputs": [],
   "source": [
    "import numpy as np\n",
    "from datetime import datetime as dt,timedelta\n",
    "import xarray as xr\n",
    "import netCDF4 as nc\n",
    "import os\n",
    "from os import listdir\n",
    "from os.path import isfile, join"
   ]
  },
  {
   "cell_type": "code",
   "execution_count": 12,
   "id": "b0c009ca-02a4-4993-b12f-898297f34995",
   "metadata": {
    "tags": []
   },
   "outputs": [],
   "source": [
    "available_days={}\n",
    "T_START = dt(2018,1,1) #dt(YEAR,MONTH,1)\n",
    "# T_END = dt(2022,12,31) #dt(YEAR,MONTH,LASTDAY)\n",
    "T_END = dt(2023,1,1) #dt(YEAR,MONTH,LASTDAY)\n",
    "hindcastdays = [T_START + timedelta(days=i) for i in range((T_END-T_START).days+1)]\n",
    "days = [hindcastdays[0]-timedelta(days=7) + timedelta(days=i) for i in range((T_END-T_START).days+7)]\n"
   ]
  },
  {
   "cell_type": "code",
   "execution_count": 14,
   "id": "5133bfaf-9a50-4d4a-a9af-a12b73432753",
   "metadata": {},
   "outputs": [
    {
     "name": "stdout",
     "output_type": "stream",
     "text": [
      "<xarray.DataArray 'time' ()>\n",
      "array('2017-01-01T00:00:00.000000000', dtype='datetime64[ns]')\n",
      "Coordinates:\n",
      "    number             int64 0\n",
      "    step               timedelta64[ns] 00:00:00\n",
      "    meanSea            float64 0.0\n",
      "    heightAboveGround  float64 2.0\n",
      "    time               datetime64[ns] 2017-01-01 <xarray.DataArray 'time' ()>\n",
      "array('2022-12-31T00:00:00.000000000', dtype='datetime64[ns]')\n",
      "Coordinates:\n",
      "    number             int64 0\n",
      "    step               timedelta64[ns] 00:00:00\n",
      "    meanSea            float64 0.0\n",
      "    heightAboveGround  float64 2.0\n",
      "    time               datetime64[ns] 2022-12-31\n"
     ]
    }
   ],
   "source": [
    "RETROdata_path = '/data/ycheng/JRA/Data/Python/data_retrospective'\n",
    "RT_VARS = ['hgt','surf','phy2m','land']\n",
    "# RT_VARS = ['surf']\n",
    "\n",
    "    \n",
    "for var in RT_VARS:\n",
    "    filenames = sorted([join(f'{RETROdata_path}/{var}', f) for f in listdir(f'{RETROdata_path}/{var}') if isfile(join(f'{RETROdata_path}/{var}', f)) and f.endswith('.nc')])\n",
    "    # I need to mannually mkdir dir of var and move all var*nc to var/ first\n",
    "    available_days[var]=[]\n",
    "    for day in days:\n",
    "        available_days[var].append(day)\n",
    "\n",
    "    newFiles = [fname for day,fname in zip(available_days[var],filenames)]\n",
    "    # print(len(newFiles)); this one doesn't have 2022/12/31\n",
    "    # print(len(filenames)); this is the full one\n",
    "    # Use Maria's longitude to correct the longitude\n",
    "    ds_lon_ref = xr.open_dataset(f'/home/ycheng/LIM/Maria/run_code/data_retrospective/{var}All.nc')\n",
    "\n",
    "    dss = [xr.open_dataset(f) for f in filenames]\n",
    "    for dstmp in dss:\n",
    "        dstmp.coords['longitude'] = ds_lon_ref['longitude']\n",
    "    ds = xr.concat(dss,dim='time').sortby('time')\n",
    "    print(ds['time'][0], ds['time'][len(ds['time'])-1])\n",
    "    # os.system(f'rm -f {RETROdata_path}/{var}All.nc')\n",
    "    ds.to_netcdf(f'{RETROdata_path}/{var}All_newlon.nc')\n",
    "    "
   ]
  },
  {
   "cell_type": "code",
   "execution_count": null,
   "id": "219f8284-f9df-45a9-988b-a9793cb9fa92",
   "metadata": {},
   "outputs": [],
   "source": [
    "\n",
    "for varname in dataGetter.daily_files.keys():\n",
    "\n",
    "    # os.system(f'rm {dataGetter.savetopath}/{varname}All_TMP.nc')\n",
    "\n",
    "    ds = nc.Dataset(f'{dataGetter.savetopath}/{varname}All.nc')\n",
    "    oldtimes = nc.num2date(ds['time'][:],ds['time'].units,only_use_cftime_datetimes=False,only_use_python_datetimes=True)\n",
    "\n",
    "    newFiles = [fname for day,fname in zip(dataGetter.available_days[varname],dataGetter.daily_files[varname]) if day not in oldtimes]\n",
    "    # Why zipping available_days and daily_files? Aren't they the same?\n",
    "    \n",
    "    if len(newFiles)>0:\n",
    "\n",
    "        dss = [xr.open_dataset(f) for f in [f'{dataGetter.savetopath}/{varname}All.nc']+newFiles]\n",
    "\n",
    "        dstmp = xr.open_dataset(f'{dataGetter.savetopath}/{varname}All.nc')\n",
    "        lontmp = dstmp['longitude']\n",
    "        for dstmp in dss:\n",
    "            dstmp.coords['longitude'] = lontmp\n",
    "        ds = xr.concat(dss,dim='time').sortby('time')\n",
    "        print(ds['time'][0], ds['time'][len(ds['time'])-1])\n",
    "        ds.to_netcdf(f'{dataGetter.savetopath}/{varname}All_TMP.nc')\n",
    "        os.system(f'rm {dataGetter.savetopath}/{varname}All.nc')\n",
    "        os.system(f'mv {dataGetter.savetopath}/{varname}All_TMP.nc {dataGetter.savetopath}/{varname}All.nc')\n",
    "\n",
    "try:\n",
    "    os.system(f'rm {dataGetter.savetopath}/*_*')\n",
    "except:\n",
    "    pass\n"
   ]
  }
 ],
 "metadata": {
  "kernelspec": {
   "display_name": "Python 3 (ipykernel)",
   "language": "python",
   "name": "python3"
  },
  "language_info": {
   "codemirror_mode": {
    "name": "ipython",
    "version": 3
   },
   "file_extension": ".py",
   "mimetype": "text/x-python",
   "name": "python",
   "nbconvert_exporter": "python",
   "pygments_lexer": "ipython3",
   "version": "3.10.9"
  }
 },
 "nbformat": 4,
 "nbformat_minor": 5
}

{
 "cells": [
  {
   "cell_type": "code",
   "execution_count": null,
   "id": "a6f4d198-170e-423c-abb9-2646b8da6bd4",
   "metadata": {},
   "outputs": [],
   "source": [
    "import xarray as xr\n",
    "import os\n",
    "\n",
    "RETROdata_path = '/data/ycheng/JRA/Data/Python/data_retrospective'\n",
    "RT_VARS = ['hgt','surf','phy2m','land']\n",
    "     \n",
    "for var in RT_VARS:\n",
    "    print(f'--------- processing {var} ---------')\n",
    "    ds = xr.open_dataset(f'{RETROdata_path}/2017-2022/{var}All.nc')\n",
    "\n",
    "    # Define the start and end dates\n",
    "    start_date = '2017-12-25'\n",
    "    end_date = '2022-12-31'\n",
    "\n",
    "    # Select data within the specified date range\n",
    "    data = ds.sel(time=slice(start_date, end_date))\n",
    "    \n",
    "    try:\n",
    "        os.system(f'rm {RETROdata_path}/{var}All.nc')\n",
    "    except OSError:\n",
    "        pass\n",
    "    data.to_netcdf(f'{RETROdata_path}/{var}All.nc')\n",
    "    # Open the NetCDF file\n",
    "# varname=\n",
    "# dirin = '/data/ycheng/JRA/Data/Python/data_retrospective/2017-2022/'\n",
    "# ds = xr.open_dataset('your_file.nc')\n",
    "\n",
    "# # Define the start and end dates\n",
    "# start_date = '2023-01-01'\n",
    "# end_date = '2023-12-31'\n",
    "\n",
    "# # Select data within the specified date range\n",
    "# data = ds.sel(time=slice(start_date, end_date))\n",
    "\n",
    "# # Close the NetCDF file (optional)\n",
    "# ds.close()\n"
   ]
  }
 ],
 "metadata": {
  "kernelspec": {
   "display_name": "Python 3 (ipykernel)",
   "language": "python",
   "name": "python3"
  },
  "language_info": {
   "codemirror_mode": {
    "name": "ipython",
    "version": 3
   },
   "file_extension": ".py",
   "mimetype": "text/x-python",
   "name": "python",
   "nbconvert_exporter": "python",
   "pygments_lexer": "ipython3",
   "version": "3.10.9"
  }
 },
 "nbformat": 4,
 "nbformat_minor": 5
}

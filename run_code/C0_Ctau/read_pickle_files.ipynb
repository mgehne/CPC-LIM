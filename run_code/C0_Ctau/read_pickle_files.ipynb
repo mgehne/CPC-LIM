{
 "cells": [
  {
   "cell_type": "code",
   "execution_count": 63,
   "id": "0ac41b7d-363d-45f0-81b8-dd5d5ffec1c6",
   "metadata": {},
   "outputs": [],
   "source": [
    "import pickle\n",
    "import numpy as np\n",
    "from datetime import datetime as dt,timedelta\n",
    "import sys\n",
    "sys.path.append('../') # This allows import of lib that is one level up\n",
    "# from lib.tools import *\n",
    "import lib\n",
    "import xarray as xr\n"
   ]
  },
  {
   "cell_type": "code",
   "execution_count": 16,
   "id": "a841251e-ff45-48cf-98f9-866227038980",
   "metadata": {},
   "outputs": [],
   "source": [
    "def listify(x):\n",
    "    if isinstance(x,(tuple,list)):\n",
    "        return [i for i in x]\n",
    "    else:\n",
    "        return [x]"
   ]
  },
  {
   "cell_type": "code",
   "execution_count": 18,
   "id": "50dd9432-4f80-4921-a25b-08211bc386b7",
   "metadata": {},
   "outputs": [],
   "source": [
    "limkey=1\n",
    "EOF_FILE_PREFIX=f'/Projects/jalbers_process/CPC_LIM/yuan_ming/Data/v2p0_hindcast_fold_10/data_clim/tmp/EOF_JRA_58-10_sliding_climo_'\n",
    "fin = f'/Projects/jalbers_process/CPC_LIM/yuan_ming/CPC/Images_v2p0_hindcast_fold_10_dev_output_C0_Ctau_dev_output_C0_Ctau/model/{limkey}.p'"
   ]
  },
  {
   "cell_type": "code",
   "execution_count": 3,
   "id": "281cd6a2-157b-424e-8834-59873dedc550",
   "metadata": {},
   "outputs": [
    {
     "name": "stderr",
     "output_type": "stream",
     "text": [
      "ERROR 1: PROJ: proj_create_from_database: Open of /home/ycheng/.conda/envs/lim_test/share/proj failed\n"
     ]
    }
   ],
   "source": [
    "data = pickle.load(open(fin, \"rb\" ) )\n"
   ]
  },
  {
   "cell_type": "code",
   "execution_count": 30,
   "id": "b26a7909-f121-444d-abaa-e1324e7f6683",
   "metadata": {},
   "outputs": [],
   "source": [
    "C0=data.C0"
   ]
  },
  {
   "cell_type": "code",
   "execution_count": 34,
   "id": "c0b978d2-4387-469c-81b3-d526ee19d0d7",
   "metadata": {},
   "outputs": [
    {
     "data": {
      "text/plain": [
       "matrix([[ 2.56892920e+02, -2.73529827e+00, -2.46901205e+00, ...,\n",
       "         -3.56363049e+00,  2.43814509e+01, -1.22121845e+01],\n",
       "        [-2.73529827e+00,  1.33501885e+02, -1.10583597e-01, ...,\n",
       "          1.55832567e+01,  2.60407326e+01,  5.47414508e+00],\n",
       "        [-2.46901205e+00, -1.10583597e-01,  1.05308750e+02, ...,\n",
       "         -1.23643770e+01,  1.17561982e+01,  1.66118315e+00],\n",
       "        ...,\n",
       "        [-3.56363049e+00,  1.55832567e+01, -1.23643770e+01, ...,\n",
       "          5.64180182e+01,  3.02041122e-01,  1.35042687e-01],\n",
       "        [ 2.43814509e+01,  2.60407326e+01,  1.17561982e+01, ...,\n",
       "          3.02041122e-01,  5.08748153e+01,  4.26008695e-01],\n",
       "        [-1.22121845e+01,  5.47414508e+00,  1.66118315e+00, ...,\n",
       "          1.35042687e-01,  4.26008695e-01,  3.73181910e+01]])"
      ]
     },
     "execution_count": 34,
     "metadata": {},
     "output_type": "execute_result"
    }
   ],
   "source": [
    "C0"
   ]
  },
  {
   "cell_type": "code",
   "execution_count": 9,
   "id": "82d06620-4e4a-43ae-816a-995dd0d64f16",
   "metadata": {},
   "outputs": [
    {
     "data": {
      "text/plain": [
       "93"
      ]
     },
     "execution_count": 9,
     "metadata": {},
     "output_type": "execute_result"
    }
   ],
   "source": [
    "23+14+20+7+5+8+8+8"
   ]
  },
  {
   "cell_type": "code",
   "execution_count": 13,
   "id": "7b29ec6c-d2d6-4c89-aefc-fbae69d9ba5b",
   "metadata": {},
   "outputs": [
    {
     "data": {
      "text/plain": [
       "{'colIrr': 23,\n",
       " 'H500': 14,\n",
       " 'SLP': 20,\n",
       " 'T2m': 7,\n",
       " 'SOIL': 5,\n",
       " 'SF750': 8,\n",
       " 'SF100': 8,\n",
       " 'SST': 8}"
      ]
     },
     "execution_count": 13,
     "metadata": {},
     "output_type": "execute_result"
    }
   ],
   "source": [
    "eof_trunc = {\n",
    "            mn:{'colIrr':23,'H500':14,'SLP':20,'T2m':7,'SOIL':5,'SF750':8,'SF100':8,'SST':8} for mn in range(1,13)\n",
    "            }\n",
    "eof_lim=eof_trunc[m]\n",
    "eof_lim"
   ]
  },
  {
   "cell_type": "code",
   "execution_count": 22,
   "id": "c6cb3c91-535a-4cb9-a138-6ddca7521c7f",
   "metadata": {},
   "outputs": [],
   "source": [
    "eofobjs ={}\n",
    "for key in eof_lim.keys():\n",
    "    if eof_lim[key]>0:\n",
    "        eofobjs[key] = pickle.load( open( EOF_FILE_PREFIX+'+'.join(listify(key))+f'_{limkey}.p', \"rb\" ) )\n",
    "\n",
    "varobjs = [v for name in eofobjs.keys() for v in eofobjs[name].varobjs]\n"
   ]
  },
  {
   "cell_type": "code",
   "execution_count": 49,
   "id": "a43966b0-3a9b-4830-8729-c87730fcf989",
   "metadata": {},
   "outputs": [
    {
     "data": {
      "text/plain": [
       "(93,)"
      ]
     },
     "execution_count": 49,
     "metadata": {},
     "output_type": "execute_result"
    }
   ],
   "source": [
    "F = np.sqrt(np.diag(C0))\n",
    "F.shape\n",
    "\n"
   ]
  },
  {
   "cell_type": "code",
   "execution_count": 50,
   "id": "f5549ad9-0255-4101-a2ff-049170ba5051",
   "metadata": {},
   "outputs": [
    {
     "name": "stdout",
     "output_type": "stream",
     "text": [
      "colIrr 23\n",
      "H500 14\n",
      "SLP 20\n",
      "T2m 7\n",
      "SOIL 5\n",
      "SF750 8\n",
      "SF100 8\n",
      "SST 8\n"
     ]
    }
   ],
   "source": [
    "for eofname,plen in eof_lim.items():\n",
    "    print(eofname,plen)"
   ]
  },
  {
   "cell_type": "code",
   "execution_count": 53,
   "id": "ade39804-e7e7-4baa-b249-d11af117256c",
   "metadata": {},
   "outputs": [
    {
     "name": "stdout",
     "output_type": "stream",
     "text": [
      "colIrr 23\n",
      "(2700,)\n",
      "H500 14\n",
      "(6480,)\n",
      "SLP 20\n",
      "(6480,)\n",
      "T2m 7\n",
      "(696,)\n",
      "SOIL 5\n",
      "(683,)\n",
      "SF750 8\n",
      "(6480,)\n",
      "SF100 8\n",
      "(5580,)\n",
      "SST 8\n",
      "(2093,)\n"
     ]
    }
   ],
   "source": [
    "Fmap = {}\n",
    "\n",
    "if F is not None:\n",
    "    F = np.asarray(F)\n",
    "    #Reshape to (lead_times,pcs)\n",
    "    Pshape = F.shape\n",
    "    if len(Pshape)==1:\n",
    "        F = F[np.newaxis,:]\n",
    "        Pshape = F.shape\n",
    "    else:\n",
    "        F = F.reshape((np.product(Pshape[:-1]),Pshape[-1]))# the -1 dim is the total number of pcs (87)\n",
    "    i0 = 0\n",
    "    for eofname,plen in eof_lim.items():\n",
    "        print(eofname,plen)\n",
    "        # looping through all the variable of pcs, one variable at a time\n",
    "        recon = eofobjs[eofname].reconstruct(F[:,i0:i0+plen])\n",
    "        # print(recon)\n",
    "        # input F(lead_times,num_eofs), num_eofs is read from self.eofobjs\n",
    "        # recon(lead_times , # of grid pts of EOF patterns)\n",
    "        i0 += plen\n",
    "        for vname,v in recon.items(): # one item only (because one variable at a time from the parent loop)\n",
    "            # if regrid:\n",
    "            #     varobj = self.use_vars[vname]['data']\n",
    "            #     v = np.array(list(map(varobj.regrid,v)))\n",
    "            #     Fmap[vname] = v.reshape(Pshape[:-1]+v.shape[-2:]).squeeze()\n",
    "                \n",
    "            # else: # use this for converting F and E to grids in run_forecast_blend\n",
    "            Fmap[vname] = v.reshape((*Pshape[:-1],v.shape[-1])).squeeze()\n",
    "            print(Fmap[vname].shape)\n",
    "                # Fmap[vname] dim = (lead_times,# of grid pts of EOF patterns)\n"
   ]
  },
  {
   "cell_type": "code",
   "execution_count": 46,
   "id": "b131bd62-a490-4ae8-aa6a-874fcbf5f8e2",
   "metadata": {},
   "outputs": [
    {
     "data": {
      "text/plain": [
       "(696,)"
      ]
     },
     "execution_count": 46,
     "metadata": {},
     "output_type": "execute_result"
    }
   ],
   "source": [
    "Fmap['T2m'].shape"
   ]
  },
  {
   "cell_type": "code",
   "execution_count": 47,
   "id": "829840ea-39a9-472e-9096-07de2e2473d9",
   "metadata": {},
   "outputs": [
    {
     "name": "stdout",
     "output_type": "stream",
     "text": [
      "reading  /Projects/jalbers_process/CPC_LIM/yuan_ming/Data/v2p0_hindcast_fold_10/data_clim/tmp/fullyr_JRA_58-10_sliding_climo_SF100.p\n",
      "reading  /Projects/jalbers_process/CPC_LIM/yuan_ming/Data/v2p0_hindcast_fold_10/data_clim/tmp/fullyr_JRA_58-10_sliding_climo_SF750.p\n",
      "reading  /Projects/jalbers_process/CPC_LIM/yuan_ming/Data/v2p0_hindcast_fold_10/data_clim/tmp/fullyr_JRA_58-10_sliding_climo_T2m.p\n",
      "reading  /Projects/jalbers_process/CPC_LIM/yuan_ming/Data/v2p0_hindcast_fold_10/data_clim/tmp/fullyr_JRA_58-10_sliding_climo_SLP.p\n",
      "reading  /Projects/jalbers_process/CPC_LIM/yuan_ming/Data/v2p0_hindcast_fold_10/data_clim/tmp/fullyr_JRA_58-10_sliding_climo_H500.p\n",
      "reading  /Projects/jalbers_process/CPC_LIM/yuan_ming/Data/v2p0_hindcast_fold_10/data_clim/tmp/fullyr_JRA_58-10_sliding_climo_colIrr.p\n",
      "reading  /Projects/jalbers_process/CPC_LIM/yuan_ming/Data/v2p0_hindcast_fold_10/data_clim/tmp/fullyr_JRA_58-10_sliding_climo_SST.p\n",
      "reading  /Projects/jalbers_process/CPC_LIM/yuan_ming/Data/v2p0_hindcast_fold_10/data_clim/tmp/fullyr_JRA_58-10_sliding_climo_SOIL.p\n"
     ]
    }
   ],
   "source": [
    "VAR_FILE_PREFIX='/Projects/jalbers_process/CPC_LIM/yuan_ming/Data/v2p0_hindcast_fold_10/data_clim/tmp/fullyr_JRA_58-10_sliding_climo_'\n",
    "var_names= {'SF100':{},'SF750':{},'T2m':{},'SLP':{},'H500':{},'colIrr':{},'SST':{},'SOIL':{}}\n",
    "use_vars={}\n",
    "for name in var_names.keys():\n",
    "    print(\"reading \",f\"{VAR_FILE_PREFIX}{name}.p\")\n",
    "    use_vars[name] = pickle.load( open( f'{VAR_FILE_PREFIX}{name}.p', \"rb\" ) )\n",
    "# data = pickle.load(open(f'/Projects/jalbers_process/CPC_LIM/yuan_ming/Data/v2p0_hindcast_fold_10/data_clim/tmp/fullyr_JRA_58-16_sliding_climo_{name}.p', \"rb\" ) )\n"
   ]
  },
  {
   "cell_type": "code",
   "execution_count": 60,
   "id": "eaa302af-3f9a-4fa7-b6ee-1d4637d59715",
   "metadata": {},
   "outputs": [],
   "source": [
    "maps = {}\n",
    "for name in var_names.keys():\n",
    "    varobj = use_vars[name]['data']\n",
    "    maps[name] = varobj.regrid(Fmap[name])\n",
    "    lon = varobj.longrid[0,:]\n",
    "    lat = varobj.latgrid[:,0]\n"
   ]
  },
  {
   "cell_type": "code",
   "execution_count": 64,
   "id": "bb4057b1-fdf5-4c50-be8c-59f813d78c12",
   "metadata": {},
   "outputs": [],
   "source": [
    "ds = xr.Dataset()\n",
    "\n",
    "# Loop through the dictionary to add variables to the dataset\n",
    "for var_name, var_data in maps.items():\n",
    "    ds[var_name] = (('lat', 'lon'), var_data)\n",
    "\n",
    "# Add latitude and longitude coordinates to the dataset\n",
    "ds['lat'] = lat\n",
    "ds['lon'] = lon"
   ]
  },
  {
   "cell_type": "code",
   "execution_count": 67,
   "id": "3212e7eb-04a4-49ff-95e4-aa23f48cb364",
   "metadata": {},
   "outputs": [
    {
     "data": {
      "text/plain": [
       "<matplotlib.collections.QuadMesh at 0x7fa8fce91540>"
      ]
     },
     "execution_count": 67,
     "metadata": {},
     "output_type": "execute_result"
    },
    {
     "data": {
      "image/png": "[encoded data removed]",
      "text/plain": [
       "<Figure size 640x480 with 2 Axes>"
      ]
     },
     "metadata": {},
     "output_type": "display_data"
    }
   ],
   "source": [
    "ds['colIrr'].plot()"
   ]
  },
  {
   "cell_type": "code",
   "execution_count": null,
   "id": "c32f9de2-a7f2-4fff-931c-4db78a0707d2",
   "metadata": {},
   "outputs": [],
   "source": []
  }
 ],
 "metadata": {
  "kernelspec": {
   "display_name": "Python 3 (ipykernel)",
   "language": "python",
   "name": "python3"
  },
  "language_info": {
   "codemirror_mode": {
    "name": "ipython",
    "version": 3
   },
   "file_extension": ".py",
   "mimetype": "text/x-python",
   "name": "python",
   "nbconvert_exporter": "python",
   "pygments_lexer": "ipython3",
   "version": "3.10.4"
  }
 },
 "nbformat": 4,
 "nbformat_minor": 5
}

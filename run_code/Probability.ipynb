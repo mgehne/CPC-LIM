{
 "cells": [
  {
   "cell_type": "code",
   "execution_count": 2,
   "id": "c02ccd6b-e618-44f5-bc29-2edda82c40d8",
   "metadata": {
    "tags": []
   },
   "outputs": [],
   "source": [
    "import numpy as np\n",
    "from datetime import datetime as dt,timedelta\n",
    "import xarray as xr\n",
    "import importlib\n",
    "from lib import driver\n",
    " #import the module here, so that it can be reloaded.\n",
    "importlib.reload(driver)\n",
    "from lib import dataset\n",
    "import netCDF4 as nc\n",
    "import matplotlib.pyplot as plt\n",
    "from lib.tools import *\n",
    "from cartopy import crs as ccrs\n",
    "from datetime import datetime as dt,timedelta\n",
    "from calendar import monthrange\n",
    "import scipy as scipy\n",
    "from scipy import signal as sig, linalg, stats\n",
    "\n",
    "\n"
   ]
  },
  {
   "cell_type": "code",
   "execution_count": 2,
   "id": "cbeba157-58cc-4af0-8f03-105019a84ba3",
   "metadata": {
    "tags": []
   },
   "outputs": [
    {
     "name": "stdout",
     "output_type": "stream",
     "text": [
      "reading  data_clim/tmp/fullyr_JRA_58-16_sliding_climo_SST.p\n",
      "reading  data_clim/tmp/fullyr_JRA_58-16_sliding_climo_SF750.p\n",
      "reading  data_clim/tmp/fullyr_JRA_58-16_sliding_climo_SF100.p\n",
      "reading  data_clim/tmp/fullyr_JRA_58-16_sliding_climo_T2m.p\n",
      "reading  data_clim/tmp/fullyr_JRA_58-16_sliding_climo_SLP.p\n",
      "reading  data_clim/tmp/fullyr_JRA_58-16_sliding_climo_H500.p\n",
      "reading  data_clim/tmp/fullyr_JRA_58-16_sliding_climo_colIrr.p\n",
      "reading  data_clim/tmp/fullyr_JRA_58-16_sliding_climo_SOIL.p\n",
      "reading colIrr for LIM 1\n",
      "reading H500 for LIM 1\n",
      "reading SLP for LIM 1\n",
      "reading T2m for LIM 1\n",
      "reading SOIL for LIM 1\n",
      "reading SF750 for LIM 1\n",
      "reading SF100 for LIM 1\n",
      "reading SST for LIM 1\n",
      "reading CPCtemp for LIM 1\n",
      "reading colIrr for LIM 2\n",
      "reading H500 for LIM 2\n",
      "reading SLP for LIM 2\n",
      "reading T2m for LIM 2\n",
      "reading SOIL for LIM 2\n",
      "reading SF750 for LIM 2\n",
      "reading SF100 for LIM 2\n",
      "reading SST for LIM 2\n",
      "reading CPCtemp for LIM 2\n",
      "reading colIrr for LIM 3\n",
      "reading H500 for LIM 3\n",
      "reading SLP for LIM 3\n",
      "reading T2m for LIM 3\n",
      "reading SOIL for LIM 3\n",
      "reading SF750 for LIM 3\n",
      "reading SF100 for LIM 3\n",
      "reading SST for LIM 3\n",
      "reading CPCtemp for LIM 3\n",
      "reading colIrr for LIM 4\n",
      "reading H500 for LIM 4\n",
      "reading SLP for LIM 4\n",
      "reading T2m for LIM 4\n",
      "reading SOIL for LIM 4\n",
      "reading SF750 for LIM 4\n",
      "reading SF100 for LIM 4\n",
      "reading SST for LIM 4\n",
      "reading CPCtemp for LIM 4\n",
      "reading colIrr for LIM 5\n",
      "reading H500 for LIM 5\n",
      "reading SLP for LIM 5\n",
      "reading T2m for LIM 5\n",
      "reading SOIL for LIM 5\n",
      "reading SF750 for LIM 5\n",
      "reading SF100 for LIM 5\n",
      "reading SST for LIM 5\n",
      "reading CPCtemp for LIM 5\n",
      "reading colIrr for LIM 6\n",
      "reading H500 for LIM 6\n",
      "reading SLP for LIM 6\n",
      "reading T2m for LIM 6\n",
      "reading SOIL for LIM 6\n",
      "reading SF750 for LIM 6\n",
      "reading SF100 for LIM 6\n",
      "reading SST for LIM 6\n",
      "reading CPCtemp for LIM 6\n",
      "reading colIrr for LIM 7\n",
      "reading H500 for LIM 7\n",
      "reading SLP for LIM 7\n",
      "reading T2m for LIM 7\n",
      "reading SOIL for LIM 7\n",
      "reading SF750 for LIM 7\n",
      "reading SF100 for LIM 7\n",
      "reading SST for LIM 7\n",
      "reading CPCtemp for LIM 7\n",
      "reading colIrr for LIM 8\n",
      "reading H500 for LIM 8\n",
      "reading SLP for LIM 8\n",
      "reading T2m for LIM 8\n",
      "reading SOIL for LIM 8\n",
      "reading SF750 for LIM 8\n",
      "reading SF100 for LIM 8\n",
      "reading SST for LIM 8\n",
      "reading CPCtemp for LIM 8\n",
      "reading colIrr for LIM 9\n",
      "reading H500 for LIM 9\n",
      "reading SLP for LIM 9\n",
      "reading T2m for LIM 9\n",
      "reading SOIL for LIM 9\n",
      "reading SF750 for LIM 9\n",
      "reading SF100 for LIM 9\n",
      "reading SST for LIM 9\n",
      "reading CPCtemp for LIM 9\n",
      "reading colIrr for LIM 10\n",
      "reading H500 for LIM 10\n",
      "reading SLP for LIM 10\n",
      "reading T2m for LIM 10\n",
      "reading SOIL for LIM 10\n",
      "reading SF750 for LIM 10\n",
      "reading SF100 for LIM 10\n",
      "reading SST for LIM 10\n",
      "reading CPCtemp for LIM 10\n",
      "reading colIrr for LIM 11\n",
      "reading H500 for LIM 11\n",
      "reading SLP for LIM 11\n",
      "reading T2m for LIM 11\n",
      "reading SOIL for LIM 11\n",
      "reading SF750 for LIM 11\n",
      "reading SF100 for LIM 11\n",
      "reading SST for LIM 11\n",
      "reading CPCtemp for LIM 11\n",
      "reading colIrr for LIM 12\n",
      "reading H500 for LIM 12\n",
      "reading SLP for LIM 12\n",
      "reading T2m for LIM 12\n",
      "reading SOIL for LIM 12\n",
      "reading SF750 for LIM 12\n",
      "reading SF100 for LIM 12\n",
      "reading SST for LIM 12\n",
      "reading CPCtemp for LIM 12\n",
      "reading SOIL\n",
      "reading SF100\n",
      "reading SF750\n",
      "reading H500\n",
      "reading SLP\n",
      "reading T2m\n",
      "reading colIrr\n",
      "reading SST\n",
      "common times SOIL\n",
      "common times SF100\n",
      "common times SF750\n",
      "common times H500\n",
      "common times SLP\n",
      "common times T2m\n",
      "common times colIrr\n",
      "common times SST\n",
      "interp SOIL\n",
      "interp SF100\n",
      "interp SF750\n",
      "interp H500\n",
      "interp SLP\n",
      "interp T2m\n",
      "interp colIrr\n",
      "interp SST\n",
      "anom SOIL\n",
      "use_sliding_climo_realtime = True in pre_realtime_data to calculate anomaly\n",
      "anom SF100\n",
      "use_sliding_climo_realtime = True in pre_realtime_data to calculate anomaly\n",
      "anom SF750\n",
      "use_sliding_climo_realtime = True in pre_realtime_data to calculate anomaly\n",
      "anom H500\n",
      "use_sliding_climo_realtime = True in pre_realtime_data to calculate anomaly\n",
      "anom SLP\n",
      "use_sliding_climo_realtime = True in pre_realtime_data to calculate anomaly\n",
      "anom T2m\n",
      "use_sliding_climo_realtime = True in pre_realtime_data to calculate anomaly\n",
      "anom colIrr\n",
      "use_sliding_climo_realtime = True in pre_realtime_data to calculate anomaly\n",
      "anom SST\n",
      "use_sliding_climo_realtime = True in pre_realtime_data to calculate anomaly\n"
     ]
    }
   ],
   "source": [
    "expt_name = 'realtime'\n",
    "LIMdriver = driver.Driver(f'namelist_{expt_name}.py')\n",
    "LIMdriver.get_variables()\n",
    "LIMdriver.get_eofs()\n",
    "LIMdriver.prep_realtime_data(limkey=1,use_sliding_climo_realtime=True, verbose=True) \n"
   ]
  },
  {
   "cell_type": "code",
   "execution_count": 3,
   "id": "cbca8365",
   "metadata": {},
   "outputs": [
    {
     "name": "stdout",
     "output_type": "stream",
     "text": [
      "[datetime.datetime(2023, 6, 14, 0, 0)]\n",
      "!!!!\n",
      "--> Performing LIM forecast for lead times: [0 1 2]\n",
      "Got Forecast From LIM 5\n"
     ]
    },
    {
     "name": "stderr",
     "output_type": "stream",
     "text": [
      "/home/ycheng/.conda/envs/cpc/lib/python3.10/site-packages/numpy/lib/nanfunctions.py:1872: RuntimeWarning: Degrees of freedom <= 0 for slice.\n",
      "  var = nanvar(a, axis=axis, dtype=dtype, out=out, ddof=ddof,\n",
      "/home/ycheng/LIM/v2_CPC/run_code/lib/dataset.py:694: RuntimeWarning: invalid value encountered in sqrt\n",
      "  recon = np.array([np.diag(np.matrix(self.eof).T[:,:num_eofs] @ p \\\n"
     ]
    },
    {
     "name": "stdout",
     "output_type": "stream",
     "text": [
      "--> Performing LIM forecast for lead times: [0 1 2]\n",
      "Got Forecast From LIM 6\n",
      "--> Performing LIM forecast for lead times: [0 1 2]\n",
      "Got Forecast From LIM 7\n"
     ]
    }
   ],
   "source": [
    "FORECASTDAYS = dt(2023,6,14)\n",
    "T_INIT = FORECASTDAYS\n",
    "weekday = T_INIT.weekday()\n",
    "dayoffset = (4-weekday)%7\n",
    "\n",
    "\n",
    "pc_convert = None\n",
    "# pc_convert = ['T2m','CPCtempHR']\n",
    "\n",
    "# Run the LIM forecast\n",
    "LIMdriver.run_forecast_blend(t_init=T_INIT,lead_times=np.arange(0,3),fullVariance=True,\\\n",
    "            pc_convert=pc_convert) # Save files using LIMdriver.save_netcdf_files               \n"
   ]
  },
  {
   "cell_type": "code",
   "execution_count": 7,
   "metadata": {},
   "outputs": [
    {
     "name": "stdout",
     "output_type": "stream",
     "text": [
      "--> Performing LIM forecast for lead times: [ 0  1  2  3  4  5  6  7  8  9 10 11 12 13 14 15 16 17 18 19 20 21 22 23\n",
      " 24 25 26 27 28 29 30]\n"
     ]
    }
   ],
   "source": [
    "LIMdriver.run_forecast(t_init=T_INIT,lead_times=np.arange(0,3),fullVariance=True) # Save files using LIMdriver.save_netcdf_files  "
   ]
  },
  {
   "cell_type": "code",
   "execution_count": 13,
   "id": "91feabdb",
   "metadata": {},
   "outputs": [
    {
     "name": "stdout",
     "output_type": "stream",
     "text": [
      "weights = {8: 0.0, 9: 1, 10: 0.2857142857142857}\n"
     ]
    }
   ],
   "source": [
    "t_init = dt(2023,9,25)\n",
    "days_in_month = max(monthrange(t_init.year,t_init.month))\n",
    "\n",
    "mn1=8\n",
    "mn2=9\n",
    "mn3=10\n",
    "weights = {mn1:1-min([t_init.day,7])/7,mn2:1,mn3:1-min([days_in_month-t_init.day,7])/7}\n",
    "print(f'weights = {weights}')"
   ]
  },
  {
   "cell_type": "code",
   "execution_count": 14,
   "id": "64d86d41",
   "metadata": {},
   "outputs": [
    {
     "name": "stdout",
     "output_type": "stream",
     "text": [
      "Dot product of matrix_a and matrix_b:\n",
      " [[19 22]\n",
      " [43 50]]\n"
     ]
    }
   ],
   "source": [
    "# 2D arrays (matrices)\n",
    "matrix_a = np.array([[1, 2], [3, 4]])\n",
    "matrix_b = np.array([[5, 6], [7, 8]])\n",
    "\n",
    "# Dot product of 2D arrays\n",
    "result_matrix = np.dot(matrix_a, matrix_b)\n",
    "print(\"Dot product of matrix_a and matrix_b:\\n\", result_matrix)\n"
   ]
  },
  {
   "cell_type": "code",
   "execution_count": 15,
   "id": "21cfdfae",
   "metadata": {},
   "outputs": [
    {
     "name": "stdout",
     "output_type": "stream",
     "text": [
      "[[1 2]\n",
      " [3 4]]\n"
     ]
    }
   ],
   "source": [
    "print(matrix_a)"
   ]
  },
  {
   "cell_type": "code",
   "execution_count": 6,
   "id": "12bab674",
   "metadata": {},
   "outputs": [
    {
     "data": {
      "text/plain": [
       "10"
      ]
     },
     "execution_count": 6,
     "metadata": {},
     "output_type": "execute_result"
    }
   ],
   "source": [
    "np.product(np.array([5,2]))"
   ]
  },
  {
   "cell_type": "code",
   "execution_count": 7,
   "id": "f203a8bf",
   "metadata": {},
   "outputs": [
    {
     "name": "stdout",
     "output_type": "stream",
     "text": [
      "[[19 22]\n",
      " [43 50]]\n",
      "[[19 22]\n",
      " [43 50]]\n"
     ]
    }
   ],
   "source": [
    "import numpy as np\n",
    "A = np.array([[1, 2], [3, 4]])\n",
    "B = np.array([[5, 6], [7, 8]])\n",
    "print(np.dot(A, B))  # Matrix multiplication\n",
    "print(A@B)"
   ]
  },
  {
   "cell_type": "code",
   "execution_count": 14,
   "id": "14c71692",
   "metadata": {},
   "outputs": [
    {
     "name": "stdout",
     "output_type": "stream",
     "text": [
      "<class 'tuple'>\n"
     ]
    },
    {
     "data": {
      "text/plain": [
       "5"
      ]
     },
     "execution_count": 14,
     "metadata": {},
     "output_type": "execute_result"
    }
   ],
   "source": [
    "Pshape = A.shape\n",
    "Pshape=(5,2)\n",
    "print(type(Pshape))\n",
    "np.product(Pshape[:-1])"
   ]
  },
  {
   "cell_type": "code",
   "execution_count": 18,
   "id": "c699b20a",
   "metadata": {},
   "outputs": [
    {
     "name": "stdout",
     "output_type": "stream",
     "text": [
      "[datetime.datetime(2023, 5, 25, 0, 0), datetime.datetime(2023, 5, 26, 0, 0), datetime.datetime(2023, 5, 27, 0, 0), datetime.datetime(2023, 5, 28, 0, 0), datetime.datetime(2023, 5, 29, 0, 0), datetime.datetime(2023, 5, 30, 0, 0), datetime.datetime(2023, 5, 31, 0, 0), datetime.datetime(2023, 6, 1, 0, 0), datetime.datetime(2023, 6, 2, 0, 0), datetime.datetime(2023, 6, 3, 0, 0), datetime.datetime(2023, 6, 4, 0, 0), datetime.datetime(2023, 6, 5, 0, 0), datetime.datetime(2023, 6, 6, 0, 0), datetime.datetime(2023, 6, 7, 0, 0), datetime.datetime(2023, 6, 8, 0, 0), datetime.datetime(2023, 6, 9, 0, 0), datetime.datetime(2023, 6, 10, 0, 0), datetime.datetime(2023, 6, 11, 0, 0), datetime.datetime(2023, 6, 12, 0, 0), datetime.datetime(2023, 6, 13, 0, 0), datetime.datetime(2023, 6, 14, 0, 0), datetime.datetime(2023, 6, 15, 0, 0), datetime.datetime(2023, 6, 16, 0, 0), datetime.datetime(2023, 6, 17, 0, 0), datetime.datetime(2023, 6, 18, 0, 0), datetime.datetime(2023, 6, 19, 0, 0), datetime.datetime(2023, 6, 20, 0, 0), datetime.datetime(2023, 6, 21, 0, 0), datetime.datetime(2023, 6, 22, 0, 0), datetime.datetime(2023, 6, 23, 0, 0), datetime.datetime(2023, 6, 24, 0, 0), datetime.datetime(2023, 6, 25, 0, 0), datetime.datetime(2023, 6, 26, 0, 0), datetime.datetime(2023, 6, 27, 0, 0), datetime.datetime(2023, 6, 28, 0, 0), datetime.datetime(2023, 6, 29, 0, 0), datetime.datetime(2023, 6, 30, 0, 0), datetime.datetime(2023, 7, 1, 0, 0), datetime.datetime(2023, 7, 2, 0, 0), datetime.datetime(2023, 7, 3, 0, 0), datetime.datetime(2023, 7, 4, 0, 0), datetime.datetime(2023, 7, 5, 0, 0), datetime.datetime(2023, 7, 6, 0, 0), datetime.datetime(2023, 7, 7, 0, 0), datetime.datetime(2023, 7, 8, 0, 0), datetime.datetime(2023, 7, 9, 0, 0), datetime.datetime(2023, 7, 10, 0, 0), datetime.datetime(2023, 7, 11, 0, 0), datetime.datetime(2023, 7, 12, 0, 0), datetime.datetime(2023, 7, 13, 0, 0), datetime.datetime(2023, 7, 14, 0, 0), datetime.datetime(2023, 7, 15, 0, 0), datetime.datetime(2023, 7, 16, 0, 0), datetime.datetime(2023, 7, 17, 0, 0), datetime.datetime(2023, 7, 18, 0, 0), datetime.datetime(2023, 7, 19, 0, 0), datetime.datetime(2023, 7, 20, 0, 0), datetime.datetime(2023, 7, 21, 0, 0), datetime.datetime(2023, 7, 22, 0, 0), datetime.datetime(2023, 7, 23, 0, 0), datetime.datetime(2023, 7, 24, 0, 0), datetime.datetime(2023, 7, 25, 0, 0), datetime.datetime(2023, 7, 26, 0, 0), datetime.datetime(2023, 7, 27, 0, 0), datetime.datetime(2023, 7, 28, 0, 0), datetime.datetime(2023, 7, 29, 0, 0), datetime.datetime(2023, 7, 30, 0, 0), datetime.datetime(2023, 7, 31, 0, 0), datetime.datetime(2023, 8, 1, 0, 0), datetime.datetime(2023, 8, 2, 0, 0), datetime.datetime(2023, 8, 3, 0, 0), datetime.datetime(2023, 8, 4, 0, 0), datetime.datetime(2023, 8, 5, 0, 0), datetime.datetime(2023, 8, 6, 0, 0), datetime.datetime(2023, 8, 7, 0, 0), datetime.datetime(2023, 8, 8, 0, 0), datetime.datetime(2023, 8, 9, 0, 0), datetime.datetime(2023, 8, 10, 0, 0), datetime.datetime(2023, 8, 11, 0, 0), datetime.datetime(2023, 8, 12, 0, 0), datetime.datetime(2023, 8, 13, 0, 0), datetime.datetime(2023, 8, 14, 0, 0), datetime.datetime(2023, 8, 15, 0, 0), datetime.datetime(2023, 8, 16, 0, 0), datetime.datetime(2023, 8, 17, 0, 0), datetime.datetime(2023, 8, 18, 0, 0), datetime.datetime(2023, 8, 19, 0, 0), datetime.datetime(2023, 8, 20, 0, 0), datetime.datetime(2023, 8, 21, 0, 0), datetime.datetime(2023, 8, 22, 0, 0), datetime.datetime(2023, 8, 23, 0, 0), datetime.datetime(2023, 8, 24, 0, 0), datetime.datetime(2023, 8, 25, 0, 0), datetime.datetime(2023, 8, 26, 0, 0), datetime.datetime(2023, 8, 27, 0, 0), datetime.datetime(2023, 8, 28, 0, 0), datetime.datetime(2023, 8, 29, 0, 0), datetime.datetime(2023, 8, 30, 0, 0), datetime.datetime(2023, 8, 31, 0, 0), datetime.datetime(2023, 9, 1, 0, 0), datetime.datetime(2023, 9, 2, 0, 0), datetime.datetime(2023, 9, 3, 0, 0), datetime.datetime(2023, 9, 4, 0, 0), datetime.datetime(2023, 9, 5, 0, 0), datetime.datetime(2023, 9, 6, 0, 0), datetime.datetime(2023, 9, 7, 0, 0), datetime.datetime(2023, 9, 8, 0, 0), datetime.datetime(2023, 9, 9, 0, 0), datetime.datetime(2023, 9, 10, 0, 0), datetime.datetime(2023, 9, 11, 0, 0), datetime.datetime(2023, 9, 12, 0, 0), datetime.datetime(2023, 9, 13, 0, 0), datetime.datetime(2023, 9, 14, 0, 0), datetime.datetime(2023, 9, 15, 0, 0), datetime.datetime(2023, 9, 16, 0, 0), datetime.datetime(2023, 9, 17, 0, 0), datetime.datetime(2023, 9, 18, 0, 0), datetime.datetime(2023, 9, 19, 0, 0), datetime.datetime(2023, 9, 20, 0, 0), datetime.datetime(2023, 9, 21, 0, 0)]\n"
     ]
    }
   ],
   "source": [
    "t0=dt.now().replace(hour=0,minute=0,second=0,microsecond=0)\n",
    "print([t0+timedelta(days=i-120) for i in range(120)])"
   ]
  },
  {
   "cell_type": "code",
   "execution_count": 19,
   "id": "1fc4fce1",
   "metadata": {},
   "outputs": [
    {
     "name": "stdout",
     "output_type": "stream",
     "text": [
      "2\n"
     ]
    }
   ],
   "source": [
    "dic = {\"a\":1, \"b\": np.array([1,2])}\n",
    "print(len(dic))"
   ]
  },
  {
   "cell_type": "code",
   "execution_count": 20,
   "id": "79589b8b",
   "metadata": {},
   "outputs": [
    {
     "name": "stdout",
     "output_type": "stream",
     "text": [
      "<class 'dict'>\n"
     ]
    }
   ],
   "source": [
    "print(type(dic))"
   ]
  },
  {
   "cell_type": "code",
   "execution_count": 21,
   "id": "180dabde",
   "metadata": {},
   "outputs": [
    {
     "name": "stdout",
     "output_type": "stream",
     "text": [
      "Standard deviation (including NaN): nan\n",
      "1.5811388300841898\n"
     ]
    }
   ],
   "source": [
    "import numpy as np\n",
    "\n",
    "data = np.array([1, 2, np.nan, 4, 5])\n",
    "std = np.std(data)\n",
    "print(\"Standard deviation (including NaN):\", std)  # Output: nan\n",
    "print(np.nanstd(data))"
   ]
  },
  {
   "cell_type": "code",
   "execution_count": 8,
   "id": "7197d829",
   "metadata": {},
   "outputs": [
    {
     "name": "stdout",
     "output_type": "stream",
     "text": [
      "Original array:\n",
      "[[ 1  2  3]\n",
      " [ 4  5  6]\n",
      " [ 7  8  9]\n",
      " [10 11 12]]\n",
      "\n",
      "Array after swapping axes:\n",
      "[[ 1  4  7 10]\n",
      " [ 2  5  8 11]\n",
      " [ 3  6  9 12]]\n"
     ]
    }
   ],
   "source": [
    "\n",
    "# Example 2D array\n",
    "fcst = [[1, 2, 3],\n",
    "        [4, 5, 6],\n",
    "        [7, 8, 9],\n",
    "        [10, 11, 12]]\n",
    "\n",
    "print(\"Original array:\")\n",
    "print(np.array(fcst))\n",
    "# Convert to NumPy array and swap axes\n",
    "fcst = np.array(fcst).swapaxes(0, 1)\n",
    "\n",
    "\n",
    "\n",
    "print(\"\\nArray after swapping axes:\")\n",
    "print(fcst)\n"
   ]
  },
  {
   "cell_type": "code",
   "execution_count": 27,
   "id": "50d91628",
   "metadata": {},
   "outputs": [],
   "source": [
    "fcst = [-1,1]\n",
    "spread = [1,1]\n",
    "fnorm = [stats.norm(loc = np.array(f),scale = np.array(s)) for f,s in zip(fcst,spread)]"
   ]
  },
  {
   "cell_type": "code",
   "execution_count": 28,
   "id": "80e0487e",
   "metadata": {},
   "outputs": [],
   "source": [
    "bounds = [-np.inf*np.ones(1)]+[np.zeros(1)]+[np.inf*np.ones(1)]\n",
    "# bounds = [-2.35]+[np.zeros(1)]+[np.inf*np.ones(1)]\n",
    "K = len(bounds)-1\n",
    "cat_fcst = [np.array([f.cdf(bounds[c+1])-f.cdf(bounds[c]) for c in range(K)]).squeeze() for f in fnorm]\n"
   ]
  },
  {
   "cell_type": "code",
   "execution_count": 29,
   "id": "e2ced29c",
   "metadata": {},
   "outputs": [
    {
     "name": "stdout",
     "output_type": "stream",
     "text": [
      "[array([0.84134475, 0.15865525]), array([0.15865525, 0.84134475])]\n"
     ]
    }
   ],
   "source": [
    "print(cat_fcst)"
   ]
  },
  {
   "cell_type": "code",
   "execution_count": 14,
   "id": "71caeb0d",
   "metadata": {},
   "outputs": [
    {
     "name": "stdout",
     "output_type": "stream",
     "text": [
      "weekday = 0; 2023-10-02 00:00:00 = 4\n",
      "weekday = 1; 2023-10-03 00:00:00 = 3\n",
      "weekday = 2; 2023-10-04 00:00:00 = 2\n",
      "weekday = 3; 2023-10-05 00:00:00 = 1\n",
      "weekday = 4; 2023-10-06 00:00:00 = 0\n",
      "weekday = 5; 2023-10-07 00:00:00 = 6\n",
      "weekday = 6; 2023-10-08 00:00:00 = 5\n",
      "weekday = 0; 2023-10-09 00:00:00 = 4\n"
     ]
    }
   ],
   "source": [
    "for i in range(2,10,1):\n",
    "    T_INIT = dt(2023,10,i)\n",
    "    weekday = T_INIT.weekday()\n",
    "    dayoffset = (4-weekday)%7\n",
    "    print(f'weekday = {T_INIT.weekday()}; {T_INIT} = {dayoffset}')"
   ]
  },
  {
   "cell_type": "code",
   "execution_count": 4,
   "id": "c621fcf8",
   "metadata": {},
   "outputs": [
    {
     "name": "stdout",
     "output_type": "stream",
     "text": [
      "5\n"
     ]
    }
   ],
   "source": []
  },
  {
   "cell_type": "code",
   "execution_count": null,
   "id": "450a00cc",
   "metadata": {},
   "outputs": [],
   "source": []
  }
 ],
 "metadata": {
  "kernelspec": {
   "display_name": "Python 3 (ipykernel)",
   "language": "python",
   "name": "python3"
  },
  "language_info": {
   "codemirror_mode": {
    "name": "ipython",
    "version": 3
   },
   "file_extension": ".py",
   "mimetype": "text/x-python",
   "name": "python",
   "nbconvert_exporter": "python",
   "pygments_lexer": "ipython3",
   "version": "3.10.9"
  }
 },
 "nbformat": 4,
 "nbformat_minor": 5
}

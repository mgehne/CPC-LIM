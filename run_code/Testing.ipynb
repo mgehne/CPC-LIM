{
 "cells": [
  {
   "cell_type": "code",
   "execution_count": 2,
   "id": "4e0f9381-1f0f-42eb-af94-fbdc8c799ad8",
   "metadata": {
    "tags": []
   },
   "outputs": [],
   "source": [
    "import numpy as np"
   ]
  },
  {
   "cell_type": "code",
   "execution_count": 1,
   "id": "3aaacbf8-17f6-4a1e-b642-6873df77614e",
   "metadata": {
    "tags": []
   },
   "outputs": [
    {
     "name": "stdout",
     "output_type": "stream",
     "text": [
      "['T2m', 'SLP', 'colIrr', 'H500', 'SF100']\n",
      "period1 1958 -- 2004\n",
      "['T2m', 'SLP', 'colIrr', 'H500', 'SF100']\n",
      "period2 2011 -- 2016\n"
     ]
    }
   ],
   "source": [
    "var_choice = 'Sam_vars'\n",
    "forecast_mode = 'reforecast'\n",
    "# forecast_mode = 'hindcast_fold10'\n",
    "forecast_mode = 'hindcast_fold9'\n",
    "expt_name = f'12_{var_choice}_{forecast_mode}'\n",
    "\n",
    "training_periods = {\n",
    "\"reforecast\"     : {\"period1\": (1958,2016)},\n",
    "\"hindcast_fold10\": {\"period1\": (1958,2010)},\n",
    "\"hindcast_fold9\" : {\"period1\": (1958,2004), \"period2\":(2011,2016)},\n",
    "                               \n",
    "}\n",
    "\n",
    "in_data_folder = \"/Projects/jalbers_process/CPC_LIM/yuan_ming/Data/9b2_sliding_climo_no_double_running_mean\"\n",
    "out_data_folder = f\"/Projects/jalbers_process/CPC_LIM/yuan_ming/Data/{expt_name}\"\n",
    "\n",
    "if var_choice == '8_vars':\n",
    "    varnames = [\"T2m\", \"SOIL\", \"SLP\", \"colIrr\", \"H500\", \"SST\", \"SF100\", \"SF750\"]\n",
    "elif var_choice == 'Sam_vars':\n",
    "    varnames = [\"T2m\", \"SLP\", \"colIrr\", \"H500\", \"SF100\"]\n",
    "\n",
    "for period, years in training_periods[forecast_mode].items():\n",
    "    start_year, end_year = years\n",
    "    print(varnames) \n",
    "    print(period,f'{start_year} -- {end_year}')  "
   ]
  },
  {
   "cell_type": "code",
   "execution_count": 5,
   "id": "4ad3b406-4d28-4adc-aa1a-c130fadf3b8d",
   "metadata": {},
   "outputs": [
    {
     "data": {
      "text/plain": [
       "array([-10,  -9,  -8,  -7,  -6,  -5,  -4,  -3,  -2,  -1,   0,   1,   2,\n",
       "         3,   4,   5,   6,   7,   8,   9,  10])"
      ]
     },
     "execution_count": 5,
     "metadata": {},
     "output_type": "execute_result"
    }
   ],
   "source": [
    "np.linspace(-10,10,21).astype(int)"
   ]
  },
  {
   "cell_type": "code",
   "execution_count": 6,
   "id": "3ad0c663-9290-4b10-bf91-ea340a6e0c02",
   "metadata": {
    "tags": []
   },
   "outputs": [
    {
     "ename": "TypeError",
     "evalue": "array() takes from 1 to 2 positional arguments but 4 were given",
     "output_type": "error",
     "traceback": [
      "\u001b[0;31m---------------------------------------------------------------------------\u001b[0m",
      "\u001b[0;31mTypeError\u001b[0m                                 Traceback (most recent call last)",
      "Cell \u001b[0;32mIn[6], line 1\u001b[0m\n\u001b[0;32m----> 1\u001b[0m \u001b[43mnp\u001b[49m\u001b[38;5;241;43m.\u001b[39;49m\u001b[43marray\u001b[49m\u001b[43m(\u001b[49m\u001b[38;5;241;43m-\u001b[39;49m\u001b[38;5;241;43m5\u001b[39;49m\u001b[43m,\u001b[49m\u001b[38;5;241;43m-\u001b[39;49m\u001b[38;5;241;43m4\u001b[39;49m\u001b[43m,\u001b[49m\u001b[38;5;241;43m-\u001b[39;49m\u001b[38;5;241;43m3\u001b[39;49m\u001b[43m,\u001b[49m\u001b[38;5;241;43m-\u001b[39;49m\u001b[38;5;241;43m1\u001b[39;49m\u001b[43m)\u001b[49m\n",
      "\u001b[0;31mTypeError\u001b[0m: array() takes from 1 to 2 positional arguments but 4 were given"
     ]
    }
   ],
   "source": [
    "np.array(-5,-4,-3,-1)"
   ]
  },
  {
   "cell_type": "code",
   "execution_count": 8,
   "id": "3e997d18-81a1-4d2f-9be5-0a91161ab0ad",
   "metadata": {
    "tags": []
   },
   "outputs": [
    {
     "data": {
      "text/plain": [
       "array([ 5, -4, -3, -1])"
      ]
     },
     "execution_count": 8,
     "metadata": {},
     "output_type": "execute_result"
    }
   ],
   "source": [
    "np.array([-5,-4,-3,-2,-1,]).astype(int)"
   ]
  },
  {
   "cell_type": "code",
   "execution_count": 11,
   "id": "2025544d-55af-4074-b9ea-bdf149c67419",
   "metadata": {
    "tags": []
   },
   "outputs": [
    {
     "ename": "KeyError",
     "evalue": "'levels'",
     "output_type": "error",
     "traceback": [
      "\u001b[0;31m---------------------------------------------------------------------------\u001b[0m",
      "\u001b[0;31mKeyError\u001b[0m                                  Traceback (most recent call last)",
      "Cell \u001b[0;32mIn[11], line 4\u001b[0m\n\u001b[1;32m      1\u001b[0m prop\u001b[38;5;241m=\u001b[39m{}\n\u001b[1;32m      2\u001b[0m prop[\u001b[38;5;124m'\u001b[39m\u001b[38;5;124mcmap\u001b[39m\u001b[38;5;124m'\u001b[39m] \u001b[38;5;241m=\u001b[39m {\u001b[38;5;241m0\u001b[39m:\u001b[38;5;124m'\u001b[39m\u001b[38;5;124mviolet\u001b[39m\u001b[38;5;124m'\u001b[39m,\u001b[38;5;241m22.5\u001b[39m:\u001b[38;5;124m'\u001b[39m\u001b[38;5;124mmediumblue\u001b[39m\u001b[38;5;124m'\u001b[39m,\u001b[38;5;241m40\u001b[39m:\u001b[38;5;124m'\u001b[39m\u001b[38;5;124mlightskyblue\u001b[39m\u001b[38;5;124m'\u001b[39m,\\\n\u001b[1;32m      3\u001b[0m                 \u001b[38;5;241m47.5\u001b[39m:\u001b[38;5;124m'\u001b[39m\u001b[38;5;124mw\u001b[39m\u001b[38;5;124m'\u001b[39m,\u001b[38;5;241m52.5\u001b[39m:\u001b[38;5;124m'\u001b[39m\u001b[38;5;124mw\u001b[39m\u001b[38;5;124m'\u001b[39m,\u001b[38;5;241m60\u001b[39m:\u001b[38;5;124m'\u001b[39m\u001b[38;5;124mgold\u001b[39m\u001b[38;5;124m'\u001b[39m,\u001b[38;5;241m77.5\u001b[39m:\u001b[38;5;124m'\u001b[39m\u001b[38;5;124mfirebrick\u001b[39m\u001b[38;5;124m'\u001b[39m,\u001b[38;5;241m100\u001b[39m:\u001b[38;5;124m'\u001b[39m\u001b[38;5;124mviolet\u001b[39m\u001b[38;5;124m'\u001b[39m}\n\u001b[0;32m----> 4\u001b[0m \u001b[38;5;28mlen\u001b[39m(\u001b[43mprop\u001b[49m\u001b[43m[\u001b[49m\u001b[38;5;124;43m'\u001b[39;49m\u001b[38;5;124;43mlevels\u001b[39;49m\u001b[38;5;124;43m'\u001b[39;49m\u001b[43m]\u001b[49m)\n",
      "\u001b[0;31mKeyError\u001b[0m: 'levels'"
     ]
    }
   ],
   "source": [
    "prop={}\n",
    "prop['cmap'] = {0:'violet',22.5:'mediumblue',40:'lightskyblue',\\\n",
    "                47.5:'w',52.5:'w',60:'gold',77.5:'firebrick',100:'violet'}\n",
    "len(prop['levels'])"
   ]
  },
  {
   "cell_type": "code",
   "execution_count": 12,
   "id": "c1e0eb58-2f09-4552-8bb9-52e373c7e8ee",
   "metadata": {
    "tags": []
   },
   "outputs": [
    {
     "data": {
      "text/plain": [
       "array([-6., -5., -4., -3., -2., -1.,  0.,  1.,  2.,  3.,  4.,  5.,  6.])"
      ]
     },
     "execution_count": 12,
     "metadata": {},
     "output_type": "execute_result"
    }
   ],
   "source": [
    "np.linspace(-6,6,13)"
   ]
  },
  {
   "cell_type": "code",
   "execution_count": null,
   "id": "6ab181b2-fad8-4751-8a08-9819b7bc97c4",
   "metadata": {},
   "outputs": [],
   "source": []
  }
 ],
 "metadata": {
  "kernelspec": {
   "display_name": "Python 3 (ipykernel)",
   "language": "python",
   "name": "python3"
  },
  "language_info": {
   "codemirror_mode": {
    "name": "ipython",
    "version": 3
   },
   "file_extension": ".py",
   "mimetype": "text/x-python",
   "name": "python",
   "nbconvert_exporter": "python",
   "pygments_lexer": "ipython3",
   "version": "3.10.9"
  }
 },
 "nbformat": 4,
 "nbformat_minor": 5
}

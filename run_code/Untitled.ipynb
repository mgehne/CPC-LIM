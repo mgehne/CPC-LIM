{
 "cells": [
  {
   "cell_type": "code",
   "execution_count": 7,
   "id": "2c674828-e7b4-4ff8-a9d6-b0cd6b20e31b",
   "metadata": {
    "tags": []
   },
   "outputs": [
    {
     "name": "stdout",
     "output_type": "stream",
     "text": [
      "0     NaN\n",
      "1     NaN\n",
      "2     6.0\n",
      "3     9.0\n",
      "4    12.0\n",
      "5    15.0\n",
      "6    18.0\n",
      "7    21.0\n",
      "8    24.0\n",
      "9    27.0\n",
      "Name: data, dtype: float64\n"
     ]
    }
   ],
   "source": [
    "import pandas as pd\n",
    "import numpy as np\n",
    "\n",
    "# Create a DataFrame with a single column\n",
    "df = pd.DataFrame({'data': [1, 2, 3, 4, 5, 6, 7, 8, 9, 10]})\n",
    "\n",
    "# Calculate the rolling sum with a window size of 3\n",
    "rolling_sum = df['data'].rolling(window=3).sum()\n",
    "\n",
    "print(rolling_sum)\n"
   ]
  },
  {
   "cell_type": "code",
   "execution_count": 10,
   "id": "27c0ab6e-3b9f-454d-bf9b-4639ab95ab4e",
   "metadata": {
    "tags": []
   },
   "outputs": [],
   "source": [
    "verify_sum = ['NaN','NaN',6,9,12,15,18,21,24,27]"
   ]
  },
  {
   "cell_type": "code",
   "execution_count": 12,
   "id": "af2565fe-012b-462b-ac94-21c968d222b3",
   "metadata": {
    "tags": []
   },
   "outputs": [
    {
     "name": "stdout",
     "output_type": "stream",
     "text": [
      "['NaN', 'NaN', 6, 9, 12, 15, 18, 21, 24, 27]\n"
     ]
    }
   ],
   "source": [
    "print(verify_sum)"
   ]
  },
  {
   "cell_type": "code",
   "execution_count": 13,
   "id": "00808737-070d-4569-9cec-d336fed4c0eb",
   "metadata": {
    "tags": []
   },
   "outputs": [
    {
     "data": {
      "text/plain": [
       "list"
      ]
     },
     "execution_count": 13,
     "metadata": {},
     "output_type": "execute_result"
    }
   ],
   "source": [
    "type(verify_sum)"
   ]
  },
  {
   "cell_type": "code",
   "execution_count": 29,
   "id": "c651e764-c190-46fb-8313-3a076f544875",
   "metadata": {
    "tags": []
   },
   "outputs": [],
   "source": [
    "def get_running_mean(data,time_window,verbose=False):\n",
    "    r\"\"\"\n",
    "    Calculates running mean of data\n",
    "\n",
    "    Parameters\n",
    "    ----------\n",
    "    time_window : int\n",
    "        Length of the window for averaging, in days.\n",
    "\n",
    "    Returns\n",
    "    -------\n",
    "    ndarray-like\n",
    "        Data smoothed using the running mean.\n",
    "    \"\"\"\n",
    "\n",
    "    # timer_start = dt.now()\n",
    "    filt = [1./float(time_window)]*int(time_window)\n",
    "    running_mean = np.apply_along_axis(lambda m: np.convolve(m, filt, mode='valid'), axis=0, arr=data)\n",
    "    running_mean = np.append(np.ones([len(data)-len(running_mean),*data.shape[1:]])*np.nan,running_mean,axis=0)\n",
    "    # if verbose: print(f'--> Completed calculating running mean ({(dt.now()-timer_start).total_seconds():.1f} seconds)')\n",
    "    return running_mean"
   ]
  },
  {
   "cell_type": "code",
   "execution_count": 30,
   "id": "f259430b-3830-49d2-9eef-6ce53ca84508",
   "metadata": {
    "tags": []
   },
   "outputs": [],
   "source": [
    "data = np.arange(0,10)"
   ]
  },
  {
   "cell_type": "code",
   "execution_count": 31,
   "id": "bdcad683-938b-411e-b9e5-409fd000d27c",
   "metadata": {
    "tags": []
   },
   "outputs": [
    {
     "data": {
      "text/plain": [
       "array([0, 1, 2, 3, 4, 5, 6, 7, 8, 9])"
      ]
     },
     "execution_count": 31,
     "metadata": {},
     "output_type": "execute_result"
    }
   ],
   "source": [
    "data"
   ]
  },
  {
   "cell_type": "code",
   "execution_count": 32,
   "id": "a692e1b5-d2af-47bf-9e69-2df1656beb37",
   "metadata": {
    "tags": []
   },
   "outputs": [],
   "source": [
    "data_running_mean = get_running_mean(data,3)"
   ]
  },
  {
   "cell_type": "code",
   "execution_count": 33,
   "id": "1939ce05-f573-487d-967b-5d641cf7f13e",
   "metadata": {
    "tags": []
   },
   "outputs": [
    {
     "data": {
      "text/plain": [
       "array([nan, nan,  1.,  2.,  3.,  4.,  5.,  6.,  7.,  8.])"
      ]
     },
     "execution_count": 33,
     "metadata": {},
     "output_type": "execute_result"
    }
   ],
   "source": [
    "data_running_mean"
   ]
  },
  {
   "cell_type": "code",
   "execution_count": null,
   "id": "7d04aa39-dcb4-4021-ac1a-661b954edb88",
   "metadata": {},
   "outputs": [],
   "source": []
  }
 ],
 "metadata": {
  "kernelspec": {
   "display_name": "Python 3 (ipykernel)",
   "language": "python",
   "name": "python3"
  },
  "language_info": {
   "codemirror_mode": {
    "name": "ipython",
    "version": 3
   },
   "file_extension": ".py",
   "mimetype": "text/x-python",
   "name": "python",
   "nbconvert_exporter": "python",
   "pygments_lexer": "ipython3",
   "version": "3.10.9"
  }
 },
 "nbformat": 4,
 "nbformat_minor": 5
}

{
 "cells": [
  {
   "cell_type": "code",
   "execution_count": 12,
   "id": "2cabb0b6-750a-469f-b342-23dab55db0bd",
   "metadata": {
    "tags": []
   },
   "outputs": [],
   "source": [
    "def listify(x):\n",
    "    if isinstance(x,(tuple,list)):\n",
    "        return [i for i in x]\n",
    "    else:\n",
    "        return [x]"
   ]
  },
  {
   "cell_type": "code",
   "execution_count": 15,
   "id": "cc6b498a-3d64-4444-918e-4c337ea6144a",
   "metadata": {
    "tags": []
   },
   "outputs": [
    {
     "name": "stdout",
     "output_type": "stream",
     "text": [
      "Processing limkey: key1 [0, 1]\n"
     ]
    },
    {
     "ename": "TypeError",
     "evalue": "unhashable type: 'list'",
     "output_type": "error",
     "traceback": [
      "\u001b[0;31m---------------------------------------------------------------------------\u001b[0m",
      "\u001b[0;31mTypeError\u001b[0m                                 Traceback (most recent call last)",
      "Cell \u001b[0;32mIn[15], line 30\u001b[0m\n\u001b[1;32m     26\u001b[0m \u001b[38;5;28mprint\u001b[39m(\u001b[38;5;124m\"\u001b[39m\u001b[38;5;124mProcessing limkey:\u001b[39m\u001b[38;5;124m\"\u001b[39m, key,  eof_lim[key])\n\u001b[1;32m     27\u001b[0m \u001b[38;5;66;03m# eofobj = eofDataset([tmpobjs[k] for k in eof_lim[key]])\u001b[39;00m\n\u001b[1;32m     28\u001b[0m \u001b[38;5;66;03m# eofobj = eofDataset([tmpobjs[k] for k in eof_lim[key]])\u001b[39;00m\n\u001b[0;32m---> 30\u001b[0m eofobj \u001b[38;5;241m=\u001b[39m eofDataset([\u001b[43mtmpobjs\u001b[49m\u001b[43m[\u001b[49m\u001b[43meof_lim\u001b[49m\u001b[43m[\u001b[49m\u001b[43mkey\u001b[49m\u001b[43m]\u001b[49m\u001b[43m]\u001b[49m])\n\u001b[1;32m     31\u001b[0m \u001b[38;5;28mprint\u001b[39m(\u001b[38;5;124m\"\u001b[39m\u001b[38;5;124mObjects associated with\u001b[39m\u001b[38;5;124m\"\u001b[39m, key, \u001b[38;5;124m\"\u001b[39m\u001b[38;5;124m:\u001b[39m\u001b[38;5;124m\"\u001b[39m, eofobj\u001b[38;5;241m.\u001b[39mdata_objects)\n\u001b[1;32m     32\u001b[0m \u001b[38;5;28mprint\u001b[39m()\n",
      "\u001b[0;31mTypeError\u001b[0m: unhashable type: 'list'"
     ]
    }
   ],
   "source": [
    "# Sample data\n",
    "eof_lim = {\n",
    "    'key1': [0, 1],\n",
    "    'key2': [2, 3, 4],\n",
    "}\n",
    "# eof_lim = {\n",
    "    # 'key1': 1,\n",
    "    # 'key2': 2,\n",
    "# }\n",
    "\n",
    "tmpobjs = {\n",
    "    0: 'Data Object 1',\n",
    "    1: 'Data Object 2',\n",
    "    2: 'Data Object 3',\n",
    "    3: 'Data Object 4',\n",
    "    4: 'Data Object 5',\n",
    "}\n",
    "\n",
    "# Define the eofDataset class (an example class for demonstration purposes)\n",
    "class eofDataset:\n",
    "    def __init__(self, data_objects):\n",
    "        self.data_objects = f'eofDataset: {data_objects}'\n",
    "\n",
    "# Loop over the keys in eof_lim and create eofDataset objects\n",
    "for key in eof_lim.keys():\n",
    "    print(\"Processing limkey:\", key,  eof_lim[key])\n",
    "    # eofobj = eofDataset([tmpobjs[k] for k in eof_lim[key]])\n",
    "    # eofobj = eofDataset([tmpobjs[k] for k in eof_lim[key]])\n",
    "    \n",
    "    eofobj = eofDataset([tmpobjs[eof_lim[key]]])\n",
    "    print(\"Objects associated with\", key, \":\", eofobj.data_objects)\n",
    "    print()\n"
   ]
  },
  {
   "cell_type": "code",
   "execution_count": 16,
   "id": "d506d15e-1f9d-4be2-a422-ff7cecf0f271",
   "metadata": {},
   "outputs": [
    {
     "name": "stdout",
     "output_type": "stream",
     "text": [
      "[10, 8, 6, 4, 2]\n"
     ]
    }
   ],
   "source": [
    "my_list = [1, 2, 3, 4, 5, 6, 7, 8, 9, 10]\n",
    "print(my_list[-1::-2])"
   ]
  },
  {
   "cell_type": "code",
   "execution_count": 39,
   "id": "dc233b90-f6d9-4f18-af39-6ff98f59d2e0",
   "metadata": {
    "tags": []
   },
   "outputs": [],
   "source": [
    "# datebounds=('1/1','3/1')\n",
    "# datebounds=('3/1','1/1')\n",
    "datebounds=('12/1','1/29')\n",
    "\n",
    "def date_range_test(t):\n",
    "    t_min,t_max = [dt.strptime(i,'%m/%d') for i in datebounds]\n",
    "    # print(t_min,t_max)\n",
    "    t_max += timedelta(days=1,seconds=-1)\n",
    "    # print(t_min,t_max)\n",
    "    # print(t.year)\n",
    "    if t_min<t_max:\n",
    "        test1 = (t>=t_min.replace(year=t.year))\n",
    "        test2 = (t<=t_max.replace(year=t.year))\n",
    "        return test1 & test2\n",
    "    else:\n",
    "        test1 = (t_min.replace(year=t.year)<=t<dt(t.year+1,1,1))\n",
    "        test2 = (dt(t.year,1,1)<=t<=t_max.replace(year=t.year))\n",
    "        return test1 | test2"
   ]
  },
  {
   "cell_type": "code",
   "execution_count": 40,
   "id": "cdd7f39f-4546-4ebc-a12b-7fb98acd036c",
   "metadata": {
    "tags": []
   },
   "outputs": [
    {
     "name": "stdout",
     "output_type": "stream",
     "text": [
      "True\n",
      "False\n"
     ]
    }
   ],
   "source": [
    "# from datetime import datetime as dt\n",
    "from datetime import datetime as dt,timedelta\n",
    "\n",
    "# Assume self.datebounds = ['05/01', '09/30']\n",
    "# Let's test the date range function\n",
    "# date_range_checker = DateRangeChecker()  # Assuming DateRangeChecker is the class that contains the _date_range_test function\n",
    "\n",
    "# Test with a date within the range\n",
    "test_date_inside = dt.strptime('1/1', '%m/%d')\n",
    "result_inside = date_range_test(test_date_inside)\n",
    "print(result_inside)  # Output: True\n",
    "\n",
    "# Test with a date outside the range\n",
    "test_date_outside = dt.strptime('1/30', '%m/%d')\n",
    "# print(test_date_outside.year)\n",
    "result_outside = date_range_test(test_date_outside)\n",
    "print(result_outside)  # Output: False\n"
   ]
  },
  {
   "cell_type": "code",
   "execution_count": null,
   "id": "a88f70b3-cdbb-4266-85a7-12a491c0f354",
   "metadata": {},
   "outputs": [],
   "source": []
  }
 ],
 "metadata": {
  "kernelspec": {
   "display_name": "Python 3 (ipykernel)",
   "language": "python",
   "name": "python3"
  },
  "language_info": {
   "codemirror_mode": {
    "name": "ipython",
    "version": 3
   },
   "file_extension": ".py",
   "mimetype": "text/x-python",
   "name": "python",
   "nbconvert_exporter": "python",
   "pygments_lexer": "ipython3",
   "version": "3.10.9"
  }
 },
 "nbformat": 4,
 "nbformat_minor": 5
}

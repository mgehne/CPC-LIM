{
 "cells": [
  {
   "cell_type": "code",
   "execution_count": 1,
   "id": "8d7003a2-b88a-447f-b31c-ff2e329b0721",
   "metadata": {
    "tags": []
   },
   "outputs": [],
   "source": [
    "from datetime import datetime as dt,timedelta\n"
   ]
  },
  {
   "cell_type": "code",
   "execution_count": 2,
   "id": "5bc2cb0b-f090-4f3b-929f-0dd36cd734b4",
   "metadata": {
    "tags": []
   },
   "outputs": [],
   "source": [
    "# datebounds=('1/1','3/1')\n",
    "# datebounds=('3/1','1/1')\n",
    "datebounds=('12/1','1/29')\n",
    "\n",
    "def date_range_test(t):\n",
    "    t_min,t_max = [dt.strptime(i,'%m/%d') for i in datebounds]\n",
    "    # print(t_min,t_max)\n",
    "    t_max += timedelta(days=1,seconds=-1)\n",
    "    # print(t_min,t_max)\n",
    "    # print(t.year)\n",
    "    if t_min<t_max:\n",
    "        test1 = (t>=t_min.replace(year=t.year))\n",
    "        test2 = (t<=t_max.replace(year=t.year))\n",
    "        return test1 & test2\n",
    "    else:\n",
    "        test1 = (t_min.replace(year=t.year)<=t<dt(t.year+1,1,1))\n",
    "        test2 = (dt(t.year,1,1)<=t<=t_max.replace(year=t.year))\n",
    "        return test1 | test2\n",
    "    "
   ]
  },
  {
   "cell_type": "code",
   "execution_count": 4,
   "id": "e7590009-2f57-4c51-afb5-b9e1ddac8dd2",
   "metadata": {
    "tags": []
   },
   "outputs": [
    {
     "name": "stdout",
     "output_type": "stream",
     "text": [
      "True\n",
      "False\n"
     ]
    }
   ],
   "source": [
    "test_date_inside = dt.strptime('1/1', '%m/%d')\n",
    "result_inside = date_range_test(test_date_inside)\n",
    "print(result_inside) \n",
    "\n",
    "test_date_outside = dt.strptime('1/30', '%m/%d')\n",
    "result_outside = date_range_test(test_date_outside)\n",
    "print(result_outside)  # Output: False"
   ]
  },
  {
   "cell_type": "code",
   "execution_count": 13,
   "id": "6c7c8fd8-8d55-4f78-b6b2-a22873778495",
   "metadata": {
    "tags": []
   },
   "outputs": [
    {
     "name": "stdout",
     "output_type": "stream",
     "text": [
      "2000-12-01 00:00:00 2001-01-30 00:00:00\n"
     ]
    }
   ],
   "source": [
    "limkey = 12\n",
    "t1 = dt(2000,limkey,1)-timedelta(days=0)\n",
    "t2 = dt(2000,limkey,1)+timedelta(days=60)\n",
    "print(t1,t2)"
   ]
  },
  {
   "cell_type": "code",
   "execution_count": 16,
   "id": "17028a38-bfc1-4f25-950a-ab941863ea55",
   "metadata": {
    "tags": []
   },
   "outputs": [
    {
     "name": "stdout",
     "output_type": "stream",
     "text": [
      "60 days, 0:00:00\n"
     ]
    }
   ],
   "source": [
    "print(t2-t1)"
   ]
  },
  {
   "cell_type": "code",
   "execution_count": null,
   "id": "0cf18ca5-499e-4cda-8145-533b31efdef6",
   "metadata": {},
   "outputs": [],
   "source": []
  }
 ],
 "metadata": {
  "kernelspec": {
   "display_name": "Python 3 (ipykernel)",
   "language": "python",
   "name": "python3"
  },
  "language_info": {
   "codemirror_mode": {
    "name": "ipython",
    "version": 3
   },
   "file_extension": ".py",
   "mimetype": "text/x-python",
   "name": "python",
   "nbconvert_exporter": "python",
   "pygments_lexer": "ipython3",
   "version": "3.10.9"
  }
 },
 "nbformat": 4,
 "nbformat_minor": 5
}

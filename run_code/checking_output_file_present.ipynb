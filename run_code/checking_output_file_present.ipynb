{
 "cells": [
  {
   "cell_type": "code",
   "execution_count": 2,
   "metadata": {},
   "outputs": [],
   "source": [
    "import os\n",
    "from datetime import datetime as dt,timedelta\n"
   ]
  },
  {
   "cell_type": "code",
   "execution_count": 33,
   "metadata": {},
   "outputs": [],
   "source": [
    "expt_name = 'retrospective_8_vars_9f_sliding_climo_no_double_running_mean_output_vars'\n",
    "# expt_name = 'retrospective_11a_no_SOIL'\n",
    "expt_name = 'retrospective_11b_no_SST'\n",
    "diri = f'/Projects/jalbers_process/CPC_LIM/yuan_ming/CPC/Images_{expt_name}/'\n"
   ]
  },
  {
   "cell_type": "code",
   "execution_count": 34,
   "metadata": {},
   "outputs": [],
   "source": [
    "T_START = dt(2017,1,1) #dt(YEAR,MONTH,1) \n",
    "T_END = dt(2022,12,31) #dt(YEAR,MONTH,LASTDAY)\n",
    "hindcastdays = [T_START + timedelta(days=i) for i in range((T_END-T_START).days+1)]\n",
    "formatted_date = [day.strftime(\"%Y%m%d\") for day in hindcastdays]\n"
   ]
  },
  {
   "cell_type": "code",
   "execution_count": 35,
   "metadata": {},
   "outputs": [],
   "source": [
    "for target in formatted_date:\n",
    "    file_to_check = f'{diri}{target}/T2m/T2m.{target}.nc'\n",
    "\n",
    "    # Check if the file exists\n",
    "    if os.path.exists(file_to_check):\n",
    "        continue\n",
    "    else:\n",
    "        print(f'{target} missing')\n"
   ]
  },
  {
   "cell_type": "code",
   "execution_count": null,
   "metadata": {},
   "outputs": [],
   "source": []
  }
 ],
 "metadata": {
  "kernelspec": {
   "display_name": "cpc",
   "language": "python",
   "name": "python3"
  },
  "language_info": {
   "codemirror_mode": {
    "name": "ipython",
    "version": 3
   },
   "file_extension": ".py",
   "mimetype": "text/x-python",
   "name": "python",
   "nbconvert_exporter": "python",
   "pygments_lexer": "ipython3",
   "version": "3.10.9"
  }
 },
 "nbformat": 4,
 "nbformat_minor": 2
}

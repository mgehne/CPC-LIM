{
 "cells": [
  {
   "cell_type": "code",
   "execution_count": 10,
   "id": "09ad3d6b-55a8-4644-9aef-3f057ef5baa3",
   "metadata": {
    "tags": []
   },
   "outputs": [
    {
     "name": "stdout",
     "output_type": "stream",
     "text": [
      "[array([0.5, 0.5])]\n",
      "[<scipy.stats._distn_infrastructure.rv_continuous_frozen object at 0x7f7a89b0e710>]\n"
     ]
    }
   ],
   "source": [
    "import numpy as np\n",
    "from scipy.stats import norm\n",
    "import matplotlib.pyplot as plt\n",
    "\n",
    "# Example bounds and parameters\n",
    "bounds = [-np.inf, 0.0, np.inf]\n",
    "fcst = [0]\n",
    "spread = [0.1]\n",
    "\n",
    "# Calculate categorical forecast probabilities\n",
    "fnorm = [norm(loc=f, scale=s) for f, s in zip(fcst, spread)]\n",
    "K = len(bounds) - 1\n",
    "cat_fcst = [np.array([f.cdf(bounds[c+1])-f.cdf(bounds[c]) for c in range(K)]).squeeze() for f in fnorm]\n",
    "# print(type(cat_fcst))\n",
    "# Print the result\n",
    "print(cat_fcst)\n",
    "print(np.asarray(fnorm))"
   ]
  },
  {
   "cell_type": "code",
   "execution_count": null,
   "id": "27a0532b-7cc7-422f-b262-36a54967cbb3",
   "metadata": {
    "tags": []
   },
   "outputs": [],
   "source": [
    "fig, ax = plt.subplots()\n",
    "\n",
    "# Plot fnorm distributions\n",
    "x = np.linspace(-3, 3, 100)  # x-axis values for plotting\n",
    "colors = ['r', 'g', 'b']  # colors for each distribution\n",
    "for f, s, color in zip(fcst, spread, colors):\n",
    "    dist = norm(loc=f, scale=s)  # Create the normal distribution\n",
    "    y = dist.pdf(x)  # Calculate probability density function values\n",
    "    ax.plot(x, y, color=color, label=f\"fcst={f}, spread={s}\")  # Plot the distribution\n",
    "\n",
    "# Set plot title and labels\n",
    "ax.set_title(\"fnorm Distributions\")\n",
    "ax.set_xlabel(\"x\")\n",
    "ax.set_ylabel(\"Probability Density\")\n",
    "ax.legend()\n",
    "\n",
    "# Show the plot\n",
    "plt.show()"
   ]
  },
  {
   "cell_type": "code",
   "execution_count": null,
   "id": "ab65f426-3492-4023-a44b-4f77eec52f93",
   "metadata": {
    "tags": []
   },
   "outputs": [],
   "source": [
    "print(K)"
   ]
  },
  {
   "cell_type": "code",
   "execution_count": null,
   "id": "8c15efe2-c3e4-4b10-ad27-3dc68b4849f8",
   "metadata": {},
   "outputs": [],
   "source": [
    "eof_trunc_reg = {\n",
    "            mn: {'colIrr':23,'H500':8,'SLP':20,'T2m':7,'SOIL':5,'SF750':8,'SF100':8,'SST':8,'CPCtemp':5} for mn in range(1,13)\n",
    "            }\n"
   ]
  },
  {
   "cell_type": "code",
   "execution_count": null,
   "id": "87604150-04a8-41c5-a0be-02798e076b56",
   "metadata": {
    "tags": []
   },
   "outputs": [],
   "source": [
    "eofobjs = {}\n",
    "for limkey,eof_lim in eof_trunc_reg.items():\n",
    "    eofobjs[limkey] = {}\n",
    "    print(limkey,eof_lim)\n",
    "    for key in eof_lim.keys():\n",
    "        print(f'reading {key} for LIM {limkey}')"
   ]
  },
  {
   "cell_type": "code",
   "execution_count": null,
   "id": "f5cd9565-6b26-4b11-809d-0502ba3d64ae",
   "metadata": {},
   "outputs": [],
   "source": []
  }
 ],
 "metadata": {
  "kernelspec": {
   "display_name": "Python 3 (ipykernel)",
   "language": "python",
   "name": "python3"
  },
  "language_info": {
   "codemirror_mode": {
    "name": "ipython",
    "version": 3
   },
   "file_extension": ".py",
   "mimetype": "text/x-python",
   "name": "python",
   "nbconvert_exporter": "python",
   "pygments_lexer": "ipython3",
   "version": "3.10.9"
  }
 },
 "nbformat": 4,
 "nbformat_minor": 5
}

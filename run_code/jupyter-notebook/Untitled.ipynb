{
 "cells": [
  {
   "cell_type": "code",
   "execution_count": 1,
   "id": "72b6d892-f4ae-41c4-be90-fcb762394a02",
   "metadata": {
    "tags": []
   },
   "outputs": [],
   "source": [
    "import numpy as np"
   ]
  },
  {
   "cell_type": "code",
   "execution_count": 6,
   "id": "c915c9da-473b-4e49-9ca9-10000a394c44",
   "metadata": {
    "tags": []
   },
   "outputs": [],
   "source": [
    "RT_INTERP={}"
   ]
  },
  {
   "cell_type": "code",
   "execution_count": 14,
   "id": "98bafacd-3078-486e-8403-711f866fc8f5",
   "metadata": {
    "tags": []
   },
   "outputs": [],
   "source": [
    "RT_INTERP['SOIL']=np.array([1,2,3,4,5])"
   ]
  },
  {
   "cell_type": "code",
   "execution_count": 15,
   "id": "347ad989-030a-47e5-9ead-a23d2b25b339",
   "metadata": {
    "tags": []
   },
   "outputs": [
    {
     "data": {
      "text/plain": [
       "(5,)"
      ]
     },
     "execution_count": 15,
     "metadata": {},
     "output_type": "execute_result"
    }
   ],
   "source": [
    "RT_INTERP['SOIL'].shape"
   ]
  },
  {
   "cell_type": "code",
   "execution_count": 16,
   "id": "90745ebe-b60e-4265-83bb-f22b785a3503",
   "metadata": {
    "tags": []
   },
   "outputs": [],
   "source": [
    "RT_INTERP['SOIL'] = np.zeros(RT_INTERP['SOIL'].shape)"
   ]
  },
  {
   "cell_type": "code",
   "execution_count": 17,
   "id": "d2a9a0a1-d6d3-4e0c-8eec-cbf0a10e2ba2",
   "metadata": {
    "tags": []
   },
   "outputs": [
    {
     "data": {
      "text/plain": [
       "array([0., 0., 0., 0., 0.])"
      ]
     },
     "execution_count": 17,
     "metadata": {},
     "output_type": "execute_result"
    }
   ],
   "source": [
    "RT_INTERP['SOIL']"
   ]
  },
  {
   "cell_type": "code",
   "execution_count": 20,
   "id": "8e24ef6d-10bb-4380-9061-68cf1d22073b",
   "metadata": {},
   "outputs": [
    {
     "name": "stdout",
     "output_type": "stream",
     "text": [
      "[datetime.datetime(2023, 12, 9, 0, 0), datetime.datetime(2023, 12, 10, 0, 0), datetime.datetime(2023, 12, 11, 0, 0), datetime.datetime(2023, 12, 12, 0, 0), datetime.datetime(2023, 12, 13, 0, 0), datetime.datetime(2023, 12, 14, 0, 0), datetime.datetime(2023, 12, 15, 0, 0), datetime.datetime(2023, 12, 16, 0, 0), datetime.datetime(2023, 12, 17, 0, 0), datetime.datetime(2023, 12, 18, 0, 0), datetime.datetime(2023, 12, 19, 0, 0), datetime.datetime(2023, 12, 20, 0, 0), datetime.datetime(2023, 12, 21, 0, 0), datetime.datetime(2023, 12, 22, 0, 0), datetime.datetime(2023, 12, 23, 0, 0), datetime.datetime(2023, 12, 24, 0, 0), datetime.datetime(2023, 12, 25, 0, 0), datetime.datetime(2023, 12, 26, 0, 0), datetime.datetime(2023, 12, 27, 0, 0), datetime.datetime(2023, 12, 28, 0, 0), datetime.datetime(2023, 12, 29, 0, 0), datetime.datetime(2023, 12, 30, 0, 0), datetime.datetime(2023, 12, 31, 0, 0), datetime.datetime(2024, 1, 1, 0, 0), datetime.datetime(2024, 1, 2, 0, 0), datetime.datetime(2024, 1, 3, 0, 0), datetime.datetime(2024, 1, 4, 0, 0), datetime.datetime(2024, 1, 5, 0, 0), datetime.datetime(2024, 1, 6, 0, 0), datetime.datetime(2024, 1, 7, 0, 0), datetime.datetime(2024, 1, 8, 0, 0), datetime.datetime(2024, 1, 9, 0, 0), datetime.datetime(2024, 1, 10, 0, 0), datetime.datetime(2024, 1, 11, 0, 0), datetime.datetime(2024, 1, 12, 0, 0), datetime.datetime(2024, 1, 13, 0, 0), datetime.datetime(2024, 1, 14, 0, 0), datetime.datetime(2024, 1, 15, 0, 0), datetime.datetime(2024, 1, 16, 0, 0), datetime.datetime(2024, 1, 17, 0, 0)]\n"
     ]
    }
   ],
   "source": [
    "from datetime import datetime as dt,timedelta\n",
    "t0=dt(2024,1,17)\n",
    "print([t0+timedelta(days=i-39) for i in range(40)])"
   ]
  },
  {
   "cell_type": "code",
   "execution_count": null,
   "id": "4d5a3c29-356e-4dd0-b08c-ffb429e5e5c0",
   "metadata": {},
   "outputs": [],
   "source": []
  }
 ],
 "metadata": {
  "kernelspec": {
   "display_name": "Python 3 (ipykernel)",
   "language": "python",
   "name": "python3"
  },
  "language_info": {
   "codemirror_mode": {
    "name": "ipython",
    "version": 3
   },
   "file_extension": ".py",
   "mimetype": "text/x-python",
   "name": "python",
   "nbconvert_exporter": "python",
   "pygments_lexer": "ipython3",
   "version": "3.10.9"
  }
 },
 "nbformat": 4,
 "nbformat_minor": 5
}

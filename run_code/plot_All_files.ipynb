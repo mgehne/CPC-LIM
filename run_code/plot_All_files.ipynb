{
 "cells": [
  {
   "cell_type": "code",
   "execution_count": 1,
   "id": "57f2d443-a689-4005-abab-3aefc73804a8",
   "metadata": {
    "tags": []
   },
   "outputs": [],
   "source": [
    "import xarray as xr\n",
    "import cartopy.crs as ccrs\n",
    "import matplotlib.pyplot as plt\n",
    "\n",
    "\n"
   ]
  },
  {
   "cell_type": "code",
   "execution_count": 2,
   "id": "57ea9add-aba5-4855-bc25-96954ebad754",
   "metadata": {
    "tags": []
   },
   "outputs": [],
   "source": [
    "import numpy as np\n",
    "import netCDF4 as nc\n"
   ]
  },
  {
   "cell_type": "code",
   "execution_count": 3,
   "id": "2de73dec-3967-4a04-b63a-7ac7b9624d07",
   "metadata": {
    "tags": []
   },
   "outputs": [],
   "source": [
    "# Open the NetCDF file\n",
    "ds = xr.open_dataset('/data/ycheng/JRA/Data/Python/data_retrospective/surfAll.nc')\n",
    "\n",
    "# Extract the variable you want to plot\n",
    "ds = ds['msl']\n",
    "start_date = '2018-6-4'\n",
    "# end_date = '2022-12-31'\n",
    "\n",
    "    # Select data within the specified date range\n",
    "var = ds.sel(time=start_date)"
   ]
  },
  {
   "cell_type": "code",
   "execution_count": 6,
   "id": "58a8ddb1-eb04-4811-91f9-7a4cc514925e",
   "metadata": {
    "tags": []
   },
   "outputs": [
    {
     "data": {
      "text/html": [
       "<div><svg style=\"position: absolute; width: 0; height: 0; overflow: hidden\">\n",
       "<defs>\n",
       "<symbol id=\"icon-database\" viewBox=\"0 0 32 32\">\n",
       "<path d=\"M16 0c-8.837 0-16 2.239-16 5v4c0 2.761 7.163 5 16 5s16-2.239 16-5v-4c0-2.761-7.163-5-16-5z\"></path>\n",
       "<path d=\"M16 17c-8.837 0-16-2.239-16-5v6c0 2.761 7.163 5 16 5s16-2.239 16-5v-6c0 2.761-7.163 5-16 5z\"></path>\n",
       "<path d=\"M16 26c-8.837 0-16-2.239-16-5v6c0 2.761 7.163 5 16 5s16-2.239 16-5v-6c0 2.761-7.163 5-16 5z\"></path>\n",
       "</symbol>\n",
       "<symbol id=\"icon-file-text2\" viewBox=\"0 0 32 32\">\n",
       "<path d=\"M28.681 7.159c-0.694-0.947-1.662-2.053-2.724-3.116s-2.169-2.030-3.116-2.724c-1.612-1.182-2.393-1.319-2.841-1.319h-15.5c-1.378 0-2.5 1.121-2.5 2.5v27c0 1.378 1.122 2.5 2.5 2.5h23c1.378 0 2.5-1.122 2.5-2.5v-19.5c0-0.448-0.137-1.23-1.319-2.841zM24.543 5.457c0.959 0.959 1.712 1.825 2.268 2.543h-4.811v-4.811c0.718 0.556 1.584 1.309 2.543 2.268zM28 29.5c0 0.271-0.229 0.5-0.5 0.5h-23c-0.271 0-0.5-0.229-0.5-0.5v-27c0-0.271 0.229-0.5 0.5-0.5 0 0 15.499-0 15.5 0v7c0 0.552 0.448 1 1 1h7v19.5z\"></path>\n",
       "<path d=\"M23 26h-14c-0.552 0-1-0.448-1-1s0.448-1 1-1h14c0.552 0 1 0.448 1 1s-0.448 1-1 1z\"></path>\n",
       "<path d=\"M23 22h-14c-0.552 0-1-0.448-1-1s0.448-1 1-1h14c0.552 0 1 0.448 1 1s-0.448 1-1 1z\"></path>\n",
       "<path d=\"M23 18h-14c-0.552 0-1-0.448-1-1s0.448-1 1-1h14c0.552 0 1 0.448 1 1s-0.448 1-1 1z\"></path>\n",
       "</symbol>\n",
       "</defs>\n",
       "</svg>\n",
       "<style>/* CSS stylesheet for displaying xarray objects in jupyterlab.\n",
       " *\n",
       " */\n",
       "\n",
       ":root {\n",
       "  --xr-font-color0: var(--jp-content-font-color0, rgba(0, 0, 0, 1));\n",
       "  --xr-font-color2: var(--jp-content-font-color2, rgba(0, 0, 0, 0.54));\n",
       "  --xr-font-color3: var(--jp-content-font-color3, rgba(0, 0, 0, 0.38));\n",
       "  --xr-border-color: var(--jp-border-color2, #e0e0e0);\n",
       "  --xr-disabled-color: var(--jp-layout-color3, #bdbdbd);\n",
       "  --xr-background-color: var(--jp-layout-color0, white);\n",
       "  --xr-background-color-row-even: var(--jp-layout-color1, white);\n",
       "  --xr-background-color-row-odd: var(--jp-layout-color2, #eeeeee);\n",
       "}\n",
       "\n",
       "html[theme=dark],\n",
       "body[data-theme=dark],\n",
       "body.vscode-dark {\n",
       "  --xr-font-color0: rgba(255, 255, 255, 1);\n",
       "  --xr-font-color2: rgba(255, 255, 255, 0.54);\n",
       "  --xr-font-color3: rgba(255, 255, 255, 0.38);\n",
       "  --xr-border-color: #1F1F1F;\n",
       "  --xr-disabled-color: #515151;\n",
       "  --xr-background-color: #111111;\n",
       "  --xr-background-color-row-even: #111111;\n",
       "  --xr-background-color-row-odd: #313131;\n",
       "}\n",
       "\n",
       ".xr-wrap {\n",
       "  display: block !important;\n",
       "  min-width: 300px;\n",
       "  max-width: 700px;\n",
       "}\n",
       "\n",
       ".xr-text-repr-fallback {\n",
       "  /* fallback to plain text repr when CSS is not injected (untrusted notebook) */\n",
       "  display: none;\n",
       "}\n",
       "\n",
       ".xr-header {\n",
       "  padding-top: 6px;\n",
       "  padding-bottom: 6px;\n",
       "  margin-bottom: 4px;\n",
       "  border-bottom: solid 1px var(--xr-border-color);\n",
       "}\n",
       "\n",
       ".xr-header > div,\n",
       ".xr-header > ul {\n",
       "  display: inline;\n",
       "  margin-top: 0;\n",
       "  margin-bottom: 0;\n",
       "}\n",
       "\n",
       ".xr-obj-type,\n",
       ".xr-array-name {\n",
       "  margin-left: 2px;\n",
       "  margin-right: 10px;\n",
       "}\n",
       "\n",
       ".xr-obj-type {\n",
       "  color: var(--xr-font-color2);\n",
       "}\n",
       "\n",
       ".xr-sections {\n",
       "  padding-left: 0 !important;\n",
       "  display: grid;\n",
       "  grid-template-columns: 150px auto auto 1fr 20px 20px;\n",
       "}\n",
       "\n",
       ".xr-section-item {\n",
       "  display: contents;\n",
       "}\n",
       "\n",
       ".xr-section-item input {\n",
       "  display: none;\n",
       "}\n",
       "\n",
       ".xr-section-item input + label {\n",
       "  color: var(--xr-disabled-color);\n",
       "}\n",
       "\n",
       ".xr-section-item input:enabled + label {\n",
       "  cursor: pointer;\n",
       "  color: var(--xr-font-color2);\n",
       "}\n",
       "\n",
       ".xr-section-item input:enabled + label:hover {\n",
       "  color: var(--xr-font-color0);\n",
       "}\n",
       "\n",
       ".xr-section-summary {\n",
       "  grid-column: 1;\n",
       "  color: var(--xr-font-color2);\n",
       "  font-weight: 500;\n",
       "}\n",
       "\n",
       ".xr-section-summary > span {\n",
       "  display: inline-block;\n",
       "  padding-left: 0.5em;\n",
       "}\n",
       "\n",
       ".xr-section-summary-in:disabled + label {\n",
       "  color: var(--xr-font-color2);\n",
       "}\n",
       "\n",
       ".xr-section-summary-in + label:before {\n",
       "  display: inline-block;\n",
       "  content: '►';\n",
       "  font-size: 11px;\n",
       "  width: 15px;\n",
       "  text-align: center;\n",
       "}\n",
       "\n",
       ".xr-section-summary-in:disabled + label:before {\n",
       "  color: var(--xr-disabled-color);\n",
       "}\n",
       "\n",
       ".xr-section-summary-in:checked + label:before {\n",
       "  content: '▼';\n",
       "}\n",
       "\n",
       ".xr-section-summary-in:checked + label > span {\n",
       "  display: none;\n",
       "}\n",
       "\n",
       ".xr-section-summary,\n",
       ".xr-section-inline-details {\n",
       "  padding-top: 4px;\n",
       "  padding-bottom: 4px;\n",
       "}\n",
       "\n",
       ".xr-section-inline-details {\n",
       "  grid-column: 2 / -1;\n",
       "}\n",
       "\n",
       ".xr-section-details {\n",
       "  display: none;\n",
       "  grid-column: 1 / -1;\n",
       "  margin-bottom: 5px;\n",
       "}\n",
       "\n",
       ".xr-section-summary-in:checked ~ .xr-section-details {\n",
       "  display: contents;\n",
       "}\n",
       "\n",
       ".xr-array-wrap {\n",
       "  grid-column: 1 / -1;\n",
       "  display: grid;\n",
       "  grid-template-columns: 20px auto;\n",
       "}\n",
       "\n",
       ".xr-array-wrap > label {\n",
       "  grid-column: 1;\n",
       "  vertical-align: top;\n",
       "}\n",
       "\n",
       ".xr-preview {\n",
       "  color: var(--xr-font-color3);\n",
       "}\n",
       "\n",
       ".xr-array-preview,\n",
       ".xr-array-data {\n",
       "  padding: 0 5px !important;\n",
       "  grid-column: 2;\n",
       "}\n",
       "\n",
       ".xr-array-data,\n",
       ".xr-array-in:checked ~ .xr-array-preview {\n",
       "  display: none;\n",
       "}\n",
       "\n",
       ".xr-array-in:checked ~ .xr-array-data,\n",
       ".xr-array-preview {\n",
       "  display: inline-block;\n",
       "}\n",
       "\n",
       ".xr-dim-list {\n",
       "  display: inline-block !important;\n",
       "  list-style: none;\n",
       "  padding: 0 !important;\n",
       "  margin: 0;\n",
       "}\n",
       "\n",
       ".xr-dim-list li {\n",
       "  display: inline-block;\n",
       "  padding: 0;\n",
       "  margin: 0;\n",
       "}\n",
       "\n",
       ".xr-dim-list:before {\n",
       "  content: '(';\n",
       "}\n",
       "\n",
       ".xr-dim-list:after {\n",
       "  content: ')';\n",
       "}\n",
       "\n",
       ".xr-dim-list li:not(:last-child):after {\n",
       "  content: ',';\n",
       "  padding-right: 5px;\n",
       "}\n",
       "\n",
       ".xr-has-index {\n",
       "  font-weight: bold;\n",
       "}\n",
       "\n",
       ".xr-var-list,\n",
       ".xr-var-item {\n",
       "  display: contents;\n",
       "}\n",
       "\n",
       ".xr-var-item > div,\n",
       ".xr-var-item label,\n",
       ".xr-var-item > .xr-var-name span {\n",
       "  background-color: var(--xr-background-color-row-even);\n",
       "  margin-bottom: 0;\n",
       "}\n",
       "\n",
       ".xr-var-item > .xr-var-name:hover span {\n",
       "  padding-right: 5px;\n",
       "}\n",
       "\n",
       ".xr-var-list > li:nth-child(odd) > div,\n",
       ".xr-var-list > li:nth-child(odd) > label,\n",
       ".xr-var-list > li:nth-child(odd) > .xr-var-name span {\n",
       "  background-color: var(--xr-background-color-row-odd);\n",
       "}\n",
       "\n",
       ".xr-var-name {\n",
       "  grid-column: 1;\n",
       "}\n",
       "\n",
       ".xr-var-dims {\n",
       "  grid-column: 2;\n",
       "}\n",
       "\n",
       ".xr-var-dtype {\n",
       "  grid-column: 3;\n",
       "  text-align: right;\n",
       "  color: var(--xr-font-color2);\n",
       "}\n",
       "\n",
       ".xr-var-preview {\n",
       "  grid-column: 4;\n",
       "}\n",
       "\n",
       ".xr-index-preview {\n",
       "  grid-column: 2 / 5;\n",
       "  color: var(--xr-font-color2);\n",
       "}\n",
       "\n",
       ".xr-var-name,\n",
       ".xr-var-dims,\n",
       ".xr-var-dtype,\n",
       ".xr-preview,\n",
       ".xr-attrs dt {\n",
       "  white-space: nowrap;\n",
       "  overflow: hidden;\n",
       "  text-overflow: ellipsis;\n",
       "  padding-right: 10px;\n",
       "}\n",
       "\n",
       ".xr-var-name:hover,\n",
       ".xr-var-dims:hover,\n",
       ".xr-var-dtype:hover,\n",
       ".xr-attrs dt:hover {\n",
       "  overflow: visible;\n",
       "  width: auto;\n",
       "  z-index: 1;\n",
       "}\n",
       "\n",
       ".xr-var-attrs,\n",
       ".xr-var-data,\n",
       ".xr-index-data {\n",
       "  display: none;\n",
       "  background-color: var(--xr-background-color) !important;\n",
       "  padding-bottom: 5px !important;\n",
       "}\n",
       "\n",
       ".xr-var-attrs-in:checked ~ .xr-var-attrs,\n",
       ".xr-var-data-in:checked ~ .xr-var-data,\n",
       ".xr-index-data-in:checked ~ .xr-index-data {\n",
       "  display: block;\n",
       "}\n",
       "\n",
       ".xr-var-data > table {\n",
       "  float: right;\n",
       "}\n",
       "\n",
       ".xr-var-name span,\n",
       ".xr-var-data,\n",
       ".xr-index-name div,\n",
       ".xr-index-data,\n",
       ".xr-attrs {\n",
       "  padding-left: 25px !important;\n",
       "}\n",
       "\n",
       ".xr-attrs,\n",
       ".xr-var-attrs,\n",
       ".xr-var-data,\n",
       ".xr-index-data {\n",
       "  grid-column: 1 / -1;\n",
       "}\n",
       "\n",
       "dl.xr-attrs {\n",
       "  padding: 0;\n",
       "  margin: 0;\n",
       "  display: grid;\n",
       "  grid-template-columns: 125px auto;\n",
       "}\n",
       "\n",
       ".xr-attrs dt,\n",
       ".xr-attrs dd {\n",
       "  padding: 0;\n",
       "  margin: 0;\n",
       "  float: left;\n",
       "  padding-right: 10px;\n",
       "  width: auto;\n",
       "}\n",
       "\n",
       ".xr-attrs dt {\n",
       "  font-weight: normal;\n",
       "  grid-column: 1;\n",
       "}\n",
       "\n",
       ".xr-attrs dt:hover span {\n",
       "  display: inline-block;\n",
       "  background: var(--xr-background-color);\n",
       "  padding-right: 10px;\n",
       "}\n",
       "\n",
       ".xr-attrs dd {\n",
       "  grid-column: 2;\n",
       "  white-space: pre-wrap;\n",
       "  word-break: break-all;\n",
       "}\n",
       "\n",
       ".xr-icon-database,\n",
       ".xr-icon-file-text2,\n",
       ".xr-no-icon {\n",
       "  display: inline-block;\n",
       "  vertical-align: middle;\n",
       "  width: 1em;\n",
       "  height: 1.5em !important;\n",
       "  stroke-width: 0;\n",
       "  stroke: currentColor;\n",
       "  fill: currentColor;\n",
       "}\n",
       "</style><pre class='xr-text-repr-fallback'>&lt;xarray.DataArray &#x27;time&#x27; (time: 1833)&gt;\n",
       "array([&#x27;2017-12-25T00:00:00.000000000&#x27;, &#x27;2017-12-26T00:00:00.000000000&#x27;,\n",
       "       &#x27;2017-12-27T00:00:00.000000000&#x27;, ..., &#x27;2022-12-29T00:00:00.000000000&#x27;,\n",
       "       &#x27;2022-12-30T00:00:00.000000000&#x27;, &#x27;2022-12-31T00:00:00.000000000&#x27;],\n",
       "      dtype=&#x27;datetime64[ns]&#x27;)\n",
       "Coordinates:\n",
       "    number             int64 ...\n",
       "    step               timedelta64[ns] ...\n",
       "    meanSea            float64 ...\n",
       "    heightAboveGround  float64 ...\n",
       "  * time               (time) datetime64[ns] 2017-12-25 ... 2022-12-31</pre><div class='xr-wrap' style='display:none'><div class='xr-header'><div class='xr-obj-type'>xarray.DataArray</div><div class='xr-array-name'>'time'</div><ul class='xr-dim-list'><li><span class='xr-has-index'>time</span>: 1833</li></ul></div><ul class='xr-sections'><li class='xr-section-item'><div class='xr-array-wrap'><input id='section-2849a605-4ad7-4144-8426-25754859be3b' class='xr-array-in' type='checkbox' checked><label for='section-2849a605-4ad7-4144-8426-25754859be3b' title='Show/hide data repr'><svg class='icon xr-icon-database'><use xlink:href='#icon-database'></use></svg></label><div class='xr-array-preview xr-preview'><span>2017-12-25 2017-12-26 2017-12-27 ... 2022-12-29 2022-12-30 2022-12-31</span></div><div class='xr-array-data'><pre>array([&#x27;2017-12-25T00:00:00.000000000&#x27;, &#x27;2017-12-26T00:00:00.000000000&#x27;,\n",
       "       &#x27;2017-12-27T00:00:00.000000000&#x27;, ..., &#x27;2022-12-29T00:00:00.000000000&#x27;,\n",
       "       &#x27;2022-12-30T00:00:00.000000000&#x27;, &#x27;2022-12-31T00:00:00.000000000&#x27;],\n",
       "      dtype=&#x27;datetime64[ns]&#x27;)</pre></div></div></li><li class='xr-section-item'><input id='section-f636d666-01c4-4f32-b9da-ab7c5915ae86' class='xr-section-summary-in' type='checkbox'  checked><label for='section-f636d666-01c4-4f32-b9da-ab7c5915ae86' class='xr-section-summary' >Coordinates: <span>(5)</span></label><div class='xr-section-inline-details'></div><div class='xr-section-details'><ul class='xr-var-list'><li class='xr-var-item'><div class='xr-var-name'><span>number</span></div><div class='xr-var-dims'>()</div><div class='xr-var-dtype'>int64</div><div class='xr-var-preview xr-preview'>...</div><input id='attrs-ec86c8bd-60e8-4ebf-8e1e-ecf27e0a8310' class='xr-var-attrs-in' type='checkbox' ><label for='attrs-ec86c8bd-60e8-4ebf-8e1e-ecf27e0a8310' title='Show/Hide attributes'><svg class='icon xr-icon-file-text2'><use xlink:href='#icon-file-text2'></use></svg></label><input id='data-572ae72b-0ea1-402e-8346-8a42436bd041' class='xr-var-data-in' type='checkbox'><label for='data-572ae72b-0ea1-402e-8346-8a42436bd041' title='Show/Hide data repr'><svg class='icon xr-icon-database'><use xlink:href='#icon-database'></use></svg></label><div class='xr-var-attrs'><dl class='xr-attrs'><dt><span>long_name :</span></dt><dd>ensemble member numerical id</dd><dt><span>units :</span></dt><dd>1</dd><dt><span>standard_name :</span></dt><dd>realization</dd></dl></div><div class='xr-var-data'><pre>[1 values with dtype=int64]</pre></div></li><li class='xr-var-item'><div class='xr-var-name'><span>step</span></div><div class='xr-var-dims'>()</div><div class='xr-var-dtype'>timedelta64[ns]</div><div class='xr-var-preview xr-preview'>...</div><input id='attrs-d758f08f-abea-4fae-ab04-0fd806393c4a' class='xr-var-attrs-in' type='checkbox' ><label for='attrs-d758f08f-abea-4fae-ab04-0fd806393c4a' title='Show/Hide attributes'><svg class='icon xr-icon-file-text2'><use xlink:href='#icon-file-text2'></use></svg></label><input id='data-937223d7-f154-4272-a4a4-633f964aaca8' class='xr-var-data-in' type='checkbox'><label for='data-937223d7-f154-4272-a4a4-633f964aaca8' title='Show/Hide data repr'><svg class='icon xr-icon-database'><use xlink:href='#icon-database'></use></svg></label><div class='xr-var-attrs'><dl class='xr-attrs'><dt><span>long_name :</span></dt><dd>time since forecast_reference_time</dd><dt><span>standard_name :</span></dt><dd>forecast_period</dd></dl></div><div class='xr-var-data'><pre>[1 values with dtype=timedelta64[ns]]</pre></div></li><li class='xr-var-item'><div class='xr-var-name'><span>meanSea</span></div><div class='xr-var-dims'>()</div><div class='xr-var-dtype'>float64</div><div class='xr-var-preview xr-preview'>...</div><input id='attrs-4d929c21-edc1-4a82-80e1-603dd5573c61' class='xr-var-attrs-in' type='checkbox' ><label for='attrs-4d929c21-edc1-4a82-80e1-603dd5573c61' title='Show/Hide attributes'><svg class='icon xr-icon-file-text2'><use xlink:href='#icon-file-text2'></use></svg></label><input id='data-b3a5c7e0-34c6-4df6-99e8-29f1d9f225c9' class='xr-var-data-in' type='checkbox'><label for='data-b3a5c7e0-34c6-4df6-99e8-29f1d9f225c9' title='Show/Hide data repr'><svg class='icon xr-icon-database'><use xlink:href='#icon-database'></use></svg></label><div class='xr-var-attrs'><dl class='xr-attrs'><dt><span>long_name :</span></dt><dd>original GRIB coordinate for key: level(meanSea)</dd><dt><span>units :</span></dt><dd>1</dd></dl></div><div class='xr-var-data'><pre>[1 values with dtype=float64]</pre></div></li><li class='xr-var-item'><div class='xr-var-name'><span>heightAboveGround</span></div><div class='xr-var-dims'>()</div><div class='xr-var-dtype'>float64</div><div class='xr-var-preview xr-preview'>...</div><input id='attrs-0556d6cc-ac18-402e-8111-649f88d92cfc' class='xr-var-attrs-in' type='checkbox' ><label for='attrs-0556d6cc-ac18-402e-8111-649f88d92cfc' title='Show/Hide attributes'><svg class='icon xr-icon-file-text2'><use xlink:href='#icon-file-text2'></use></svg></label><input id='data-68e98431-ad80-470e-9331-d0613bc8d0b3' class='xr-var-data-in' type='checkbox'><label for='data-68e98431-ad80-470e-9331-d0613bc8d0b3' title='Show/Hide data repr'><svg class='icon xr-icon-database'><use xlink:href='#icon-database'></use></svg></label><div class='xr-var-attrs'><dl class='xr-attrs'><dt><span>long_name :</span></dt><dd>height above the surface</dd><dt><span>units :</span></dt><dd>m</dd><dt><span>positive :</span></dt><dd>up</dd><dt><span>standard_name :</span></dt><dd>height</dd></dl></div><div class='xr-var-data'><pre>[1 values with dtype=float64]</pre></div></li><li class='xr-var-item'><div class='xr-var-name'><span class='xr-has-index'>time</span></div><div class='xr-var-dims'>(time)</div><div class='xr-var-dtype'>datetime64[ns]</div><div class='xr-var-preview xr-preview'>2017-12-25 ... 2022-12-31</div><input id='attrs-2b0819d2-cc49-48ce-9b28-e8b0c7b7ecde' class='xr-var-attrs-in' type='checkbox' disabled><label for='attrs-2b0819d2-cc49-48ce-9b28-e8b0c7b7ecde' title='Show/Hide attributes'><svg class='icon xr-icon-file-text2'><use xlink:href='#icon-file-text2'></use></svg></label><input id='data-d87da2e7-ed81-4a15-89d4-a35dafcc795e' class='xr-var-data-in' type='checkbox'><label for='data-d87da2e7-ed81-4a15-89d4-a35dafcc795e' title='Show/Hide data repr'><svg class='icon xr-icon-database'><use xlink:href='#icon-database'></use></svg></label><div class='xr-var-attrs'><dl class='xr-attrs'></dl></div><div class='xr-var-data'><pre>array([&#x27;2017-12-25T00:00:00.000000000&#x27;, &#x27;2017-12-26T00:00:00.000000000&#x27;,\n",
       "       &#x27;2017-12-27T00:00:00.000000000&#x27;, ..., &#x27;2022-12-29T00:00:00.000000000&#x27;,\n",
       "       &#x27;2022-12-30T00:00:00.000000000&#x27;, &#x27;2022-12-31T00:00:00.000000000&#x27;],\n",
       "      dtype=&#x27;datetime64[ns]&#x27;)</pre></div></li></ul></div></li><li class='xr-section-item'><input id='section-dcd28194-190f-4a97-b31c-a60d86839914' class='xr-section-summary-in' type='checkbox'  ><label for='section-dcd28194-190f-4a97-b31c-a60d86839914' class='xr-section-summary' >Indexes: <span>(1)</span></label><div class='xr-section-inline-details'></div><div class='xr-section-details'><ul class='xr-var-list'><li class='xr-var-item'><div class='xr-index-name'><div>time</div></div><div class='xr-index-preview'>PandasIndex</div><div></div><input id='index-c147c6c1-1aaf-4756-8f5c-4a8b173d4072' class='xr-index-data-in' type='checkbox'/><label for='index-c147c6c1-1aaf-4756-8f5c-4a8b173d4072' title='Show/Hide index repr'><svg class='icon xr-icon-database'><use xlink:href='#icon-database'></use></svg></label><div class='xr-index-data'><pre>PandasIndex(DatetimeIndex([&#x27;2017-12-25&#x27;, &#x27;2017-12-26&#x27;, &#x27;2017-12-27&#x27;, &#x27;2017-12-28&#x27;,\n",
       "               &#x27;2017-12-29&#x27;, &#x27;2017-12-30&#x27;, &#x27;2017-12-31&#x27;, &#x27;2018-01-01&#x27;,\n",
       "               &#x27;2018-01-02&#x27;, &#x27;2018-01-03&#x27;,\n",
       "               ...\n",
       "               &#x27;2022-12-22&#x27;, &#x27;2022-12-23&#x27;, &#x27;2022-12-24&#x27;, &#x27;2022-12-25&#x27;,\n",
       "               &#x27;2022-12-26&#x27;, &#x27;2022-12-27&#x27;, &#x27;2022-12-28&#x27;, &#x27;2022-12-29&#x27;,\n",
       "               &#x27;2022-12-30&#x27;, &#x27;2022-12-31&#x27;],\n",
       "              dtype=&#x27;datetime64[ns]&#x27;, name=&#x27;time&#x27;, length=1833, freq=None))</pre></div></li></ul></div></li><li class='xr-section-item'><input id='section-9c0b69f5-8efe-430a-98ad-f9a5d3e20c08' class='xr-section-summary-in' type='checkbox' disabled ><label for='section-9c0b69f5-8efe-430a-98ad-f9a5d3e20c08' class='xr-section-summary'  title='Expand/collapse section'>Attributes: <span>(0)</span></label><div class='xr-section-inline-details'></div><div class='xr-section-details'><dl class='xr-attrs'></dl></div></li></ul></div></div>"
      ],
      "text/plain": [
       "<xarray.DataArray 'time' (time: 1833)>\n",
       "array(['2017-12-25T00:00:00.000000000', '2017-12-26T00:00:00.000000000',\n",
       "       '2017-12-27T00:00:00.000000000', ..., '2022-12-29T00:00:00.000000000',\n",
       "       '2022-12-30T00:00:00.000000000', '2022-12-31T00:00:00.000000000'],\n",
       "      dtype='datetime64[ns]')\n",
       "Coordinates:\n",
       "    number             int64 ...\n",
       "    step               timedelta64[ns] ...\n",
       "    meanSea            float64 ...\n",
       "    heightAboveGround  float64 ...\n",
       "  * time               (time) datetime64[ns] 2017-12-25 ... 2022-12-31"
      ]
     },
     "execution_count": 6,
     "metadata": {},
     "output_type": "execute_result"
    }
   ],
   "source": [
    "ds.time"
   ]
  },
  {
   "cell_type": "code",
   "execution_count": 7,
   "id": "2e4bd696-25c9-4a00-bf93-b8ab30976e8e",
   "metadata": {
    "tags": []
   },
   "outputs": [
    {
     "data": {
      "image/png": "[encoded data removed]",
      "text/plain": [
       "<Figure size 640x480 with 2 Axes>"
      ]
     },
     "metadata": {},
     "output_type": "display_data"
    }
   ],
   "source": [
    "# Define the map projection\n",
    "projection = ccrs.PlateCarree(central_longitude=180)\n",
    "\n",
    "# Create the figure and axis\n",
    "fig, ax = plt.subplots(subplot_kw={'projection': projection})\n",
    "\n",
    "# Plot the variable on the map\n",
    "var.plot.imshow(ax=ax, transform=projection, cmap='jet', vmin=958, vmax=1056)\n",
    "\n",
    "# Add map features (coastlines, gridlines, etc.)\n",
    "ax.coastlines()\n",
    "ax.gridlines()\n",
    "\n",
    "# Set the plot title\n",
    "plt.title('Your Map Plot')\n",
    "\n",
    "# Show the plot\n",
    "plt.show()"
   ]
  },
  {
   "cell_type": "code",
   "execution_count": 7,
   "id": "09b11e41-8438-4bcc-bd82-fc1c2cf74fb0",
   "metadata": {},
   "outputs": [],
   "source": [
    "ds = nc.Dataset('/data/ycheng/JRA/Data/Python/data_retrospective/surfAll.nc')\n",
    " \n",
    "times = nc.num2date(ds['time'][:],ds['time'].units,\\\n",
    "            only_use_cftime_datetimes=False,only_use_python_datetimes=True)\n",
    "perday = int(86400/(times[1]-times[0]).total_seconds())\n",
    "times = times[::perday]\n",
    "\n",
    "newdata = ds['t2m'][:]"
   ]
  },
  {
   "cell_type": "code",
   "execution_count": 8,
   "id": "bc15c4c4-c6e5-46ab-afd3-095afaf0077a",
   "metadata": {
    "tags": []
   },
   "outputs": [
    {
     "data": {
      "text/plain": [
       "masked_array(data=[real_datetime(2017, 12, 25, 0, 0),\n",
       "                   real_datetime(2017, 12, 26, 0, 0),\n",
       "                   real_datetime(2017, 12, 27, 0, 0), ...,\n",
       "                   real_datetime(2022, 12, 29, 0, 0),\n",
       "                   real_datetime(2022, 12, 30, 0, 0),\n",
       "                   real_datetime(2022, 12, 31, 0, 0)],\n",
       "             mask=False,\n",
       "       fill_value='?',\n",
       "            dtype=object)"
      ]
     },
     "execution_count": 8,
     "metadata": {},
     "output_type": "execute_result"
    }
   ],
   "source": [
    "times"
   ]
  },
  {
   "cell_type": "code",
   "execution_count": 9,
   "id": "250fe6d6-2979-4cf2-86a7-5b827784f9b8",
   "metadata": {
    "tags": []
   },
   "outputs": [
    {
     "data": {
      "text/plain": [
       "1"
      ]
     },
     "execution_count": 9,
     "metadata": {},
     "output_type": "execute_result"
    }
   ],
   "source": [
    "perday"
   ]
  },
  {
   "cell_type": "code",
   "execution_count": 11,
   "id": "22312a9f-1375-455a-b9bb-bc438b54f066",
   "metadata": {
    "tags": []
   },
   "outputs": [],
   "source": [
    "newdata2 = np.apply_along_axis(lambda x: np.convolve(x,np.ones(perday)/perday, mode='valid')[::perday],\\\n",
    "                                                              axis=0, arr=newdata)"
   ]
  },
  {
   "cell_type": "code",
   "execution_count": 15,
   "id": "01b5f6bc-2ecd-4752-a1c4-0d66ed4672e4",
   "metadata": {
    "tags": []
   },
   "outputs": [
    {
     "data": {
      "text/plain": [
       "numpy.ndarray"
      ]
     },
     "execution_count": 15,
     "metadata": {},
     "output_type": "execute_result"
    }
   ],
   "source": [
    "type(newdata2)"
   ]
  },
  {
   "cell_type": "code",
   "execution_count": 14,
   "id": "166dbbed-905e-492d-85e0-a0d087b196a1",
   "metadata": {
    "tags": []
   },
   "outputs": [
    {
     "data": {
      "text/plain": [
       "numpy.ma.core.MaskedArray"
      ]
     },
     "execution_count": 14,
     "metadata": {},
     "output_type": "execute_result"
    }
   ],
   "source": [
    "type(newdata)"
   ]
  },
  {
   "cell_type": "code",
   "execution_count": 16,
   "id": "bd32f3a4-6c0e-4c9a-a8f7-05bfc866aa56",
   "metadata": {
    "tags": []
   },
   "outputs": [],
   "source": [
    "time = ds.variables['time'][:]"
   ]
  },
  {
   "cell_type": "code",
   "execution_count": 17,
   "id": "9c6fb1db-c87e-4ff7-8cef-2a02e1df75e9",
   "metadata": {
    "tags": []
   },
   "outputs": [
    {
     "data": {
      "text/plain": [
       "masked_array(data=[ 358,  359,  360, ..., 2188, 2189, 2190],\n",
       "             mask=False,\n",
       "       fill_value=999999)"
      ]
     },
     "execution_count": 17,
     "metadata": {},
     "output_type": "execute_result"
    }
   ],
   "source": [
    "time"
   ]
  },
  {
   "cell_type": "code",
   "execution_count": 19,
   "id": "ca8afdf8-7d9f-4f55-bbc4-b42c78af659f",
   "metadata": {
    "tags": []
   },
   "outputs": [],
   "source": [
    "attribute_names = ds.variables['time'].ncattrs()\n"
   ]
  },
  {
   "cell_type": "code",
   "execution_count": 23,
   "id": "90bdd4d3-06a7-43dc-a326-789e3bd20b7c",
   "metadata": {
    "tags": []
   },
   "outputs": [
    {
     "name": "stdout",
     "output_type": "stream",
     "text": [
      "units = days since 2017-01-01\n",
      "calendar = proleptic_gregorian\n"
     ]
    }
   ],
   "source": [
    "for attr_name in attribute_names:\n",
    "    attr_value = getattr(ds.variables['time'], attr_name)\n",
    "    print(attr_name, \"=\", attr_value)"
   ]
  },
  {
   "cell_type": "code",
   "execution_count": 24,
   "id": "0f8ac9bd-97e7-4b46-bd50-2dd49266410b",
   "metadata": {
    "tags": []
   },
   "outputs": [
    {
     "data": {
      "text/plain": [
       "<class 'netCDF4._netCDF4.Variable'>\n",
       "float64 longitude(longitude)\n",
       "    _FillValue: nan\n",
       "    units: degrees_east\n",
       "    standard_name: longitude\n",
       "    long_name: longitude\n",
       "unlimited dimensions: \n",
       "current shape = (288,)\n",
       "filling on"
      ]
     },
     "execution_count": 24,
     "metadata": {},
     "output_type": "execute_result"
    }
   ],
   "source": [
    "ds['longitude']"
   ]
  },
  {
   "cell_type": "code",
   "execution_count": 25,
   "id": "8da4aff9-07c0-452c-9557-89abc933f3d8",
   "metadata": {
    "tags": []
   },
   "outputs": [
    {
     "data": {
      "text/plain": [
       "masked_array(data=[ -1.25,   0.  ,   1.25,   2.5 ,   3.75,   5.  ,   6.25,\n",
       "                     7.5 ,   8.75,  10.  ,  11.25,  12.5 ,  13.75,  15.  ,\n",
       "                    16.25,  17.5 ,  18.75,  20.  ,  21.25,  22.5 ,  23.75,\n",
       "                    25.  ,  26.25,  27.5 ,  28.75,  30.  ,  31.25,  32.5 ,\n",
       "                    33.75,  35.  ,  36.25,  37.5 ,  38.75,  40.  ,  41.25,\n",
       "                    42.5 ,  43.75,  45.  ,  46.25,  47.5 ,  48.75,  50.  ,\n",
       "                    51.25,  52.5 ,  53.75,  55.  ,  56.25,  57.5 ,  58.75,\n",
       "                    60.  ,  61.25,  62.5 ,  63.75,  65.  ,  66.25,  67.5 ,\n",
       "                    68.75,  70.  ,  71.25,  72.5 ,  73.75,  75.  ,  76.25,\n",
       "                    77.5 ,  78.75,  80.  ,  81.25,  82.5 ,  83.75,  85.  ,\n",
       "                    86.25,  87.5 ,  88.75,  90.  ,  91.25,  92.5 ,  93.75,\n",
       "                    95.  ,  96.25,  97.5 ,  98.75, 100.  , 101.25, 102.5 ,\n",
       "                   103.75, 105.  , 106.25, 107.5 , 108.75, 110.  , 111.25,\n",
       "                   112.5 , 113.75, 115.  , 116.25, 117.5 , 118.75, 120.  ,\n",
       "                   121.25, 122.5 , 123.75, 125.  , 126.25, 127.5 , 128.75,\n",
       "                   130.  , 131.25, 132.5 , 133.75, 135.  , 136.25, 137.5 ,\n",
       "                   138.75, 140.  , 141.25, 142.5 , 143.75, 145.  , 146.25,\n",
       "                   147.5 , 148.75, 150.  , 151.25, 152.5 , 153.75, 155.  ,\n",
       "                   156.25, 157.5 , 158.75, 160.  , 161.25, 162.5 , 163.75,\n",
       "                   165.  , 166.25, 167.5 , 168.75, 170.  , 171.25, 172.5 ,\n",
       "                   173.75, 175.  , 176.25, 177.5 , 178.75, 180.  , 181.25,\n",
       "                   182.5 , 183.75, 185.  , 186.25, 187.5 , 188.75, 190.  ,\n",
       "                   191.25, 192.5 , 193.75, 195.  , 196.25, 197.5 , 198.75,\n",
       "                   200.  , 201.25, 202.5 , 203.75, 205.  , 206.25, 207.5 ,\n",
       "                   208.75, 210.  , 211.25, 212.5 , 213.75, 215.  , 216.25,\n",
       "                   217.5 , 218.75, 220.  , 221.25, 222.5 , 223.75, 225.  ,\n",
       "                   226.25, 227.5 , 228.75, 230.  , 231.25, 232.5 , 233.75,\n",
       "                   235.  , 236.25, 237.5 , 238.75, 240.  , 241.25, 242.5 ,\n",
       "                   243.75, 245.  , 246.25, 247.5 , 248.75, 250.  , 251.25,\n",
       "                   252.5 , 253.75, 255.  , 256.25, 257.5 , 258.75, 260.  ,\n",
       "                   261.25, 262.5 , 263.75, 265.  , 266.25, 267.5 , 268.75,\n",
       "                   270.  , 271.25, 272.5 , 273.75, 275.  , 276.25, 277.5 ,\n",
       "                   278.75, 280.  , 281.25, 282.5 , 283.75, 285.  , 286.25,\n",
       "                   287.5 , 288.75, 290.  , 291.25, 292.5 , 293.75, 295.  ,\n",
       "                   296.25, 297.5 , 298.75, 300.  , 301.25, 302.5 , 303.75,\n",
       "                   305.  , 306.25, 307.5 , 308.75, 310.  , 311.25, 312.5 ,\n",
       "                   313.75, 315.  , 316.25, 317.5 , 318.75, 320.  , 321.25,\n",
       "                   322.5 , 323.75, 325.  , 326.25, 327.5 , 328.75, 330.  ,\n",
       "                   331.25, 332.5 , 333.75, 335.  , 336.25, 337.5 , 338.75,\n",
       "                   340.  , 341.25, 342.5 , 343.75, 345.  , 346.25, 347.5 ,\n",
       "                   348.75, 350.  , 351.25, 352.5 , 353.75, 355.  , 356.25,\n",
       "                   357.5 ],\n",
       "             mask=False,\n",
       "       fill_value=1e+20)"
      ]
     },
     "execution_count": 25,
     "metadata": {},
     "output_type": "execute_result"
    }
   ],
   "source": [
    "ds['longitude'][:]"
   ]
  },
  {
   "cell_type": "code",
   "execution_count": null,
   "id": "12b836d1-c9b5-4443-845a-1c8b57265ee7",
   "metadata": {},
   "outputs": [],
   "source": []
  }
 ],
 "metadata": {
  "kernelspec": {
   "display_name": "Python 3 (ipykernel)",
   "language": "python",
   "name": "python3"
  },
  "language_info": {
   "codemirror_mode": {
    "name": "ipython",
    "version": 3
   },
   "file_extension": ".py",
   "mimetype": "text/x-python",
   "name": "python",
   "nbconvert_exporter": "python",
   "pygments_lexer": "ipython3",
   "version": "3.10.9"
  }
 },
 "nbformat": 4,
 "nbformat_minor": 5
}

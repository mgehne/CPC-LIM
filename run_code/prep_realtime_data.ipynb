{
 "cells": [
  {
   "cell_type": "code",
   "execution_count": 1,
   "id": "8ee47b4c-f169-4fb6-9029-71fe8a12262f",
   "metadata": {
    "tags": []
   },
   "outputs": [
    {
     "name": "stderr",
     "output_type": "stream",
     "text": [
      "ERROR 1: PROJ: proj_create_from_database: Open of /home/ycheng/.conda/envs/cpc/share/proj failed\n"
     ]
    }
   ],
   "source": [
    "import numpy as np\n",
    "from datetime import datetime as dt,timedelta\n",
    "import xarray as xr\n",
    "from lib import driver\n",
    "from lib import dataset\n",
    "import netCDF4 as nc\n",
    "import matplotlib.pyplot as plt\n",
    "from lib.tools import *"
   ]
  },
  {
   "cell_type": "code",
   "execution_count": 2,
   "id": "ad0b37d2-1e20-45d9-bce7-c7c228d5ee67",
   "metadata": {
    "tags": []
   },
   "outputs": [
    {
     "name": "stdout",
     "output_type": "stream",
     "text": [
      "before driver.Driver in prep_realtime_data.py\n",
      "cyms file here\n",
      "reading  /Projects/jalbers_process/CPC_LIM/yuan_ming/Data/10d_sliding_climo/data_clim/tmp/fullyr_JRA_58-16_sliding_climo_CPCtemp.p\n",
      "reading  /Projects/jalbers_process/CPC_LIM/yuan_ming/Data/10d_sliding_climo/data_clim/tmp/fullyr_JRA_58-16_sliding_climo_SST.p\n",
      "reading  /Projects/jalbers_process/CPC_LIM/yuan_ming/Data/10d_sliding_climo/data_clim/tmp/fullyr_JRA_58-16_sliding_climo_SF750.p\n",
      "reading  /Projects/jalbers_process/CPC_LIM/yuan_ming/Data/10d_sliding_climo/data_clim/tmp/fullyr_JRA_58-16_sliding_climo_SF100.p\n",
      "reading  /Projects/jalbers_process/CPC_LIM/yuan_ming/Data/10d_sliding_climo/data_clim/tmp/fullyr_JRA_58-16_sliding_climo_T2m.p\n",
      "reading  /Projects/jalbers_process/CPC_LIM/yuan_ming/Data/10d_sliding_climo/data_clim/tmp/fullyr_JRA_58-16_sliding_climo_SLP.p\n",
      "reading  /Projects/jalbers_process/CPC_LIM/yuan_ming/Data/10d_sliding_climo/data_clim/tmp/fullyr_JRA_58-16_sliding_climo_H500.p\n",
      "reading  /Projects/jalbers_process/CPC_LIM/yuan_ming/Data/10d_sliding_climo/data_clim/tmp/fullyr_JRA_58-16_sliding_climo_colIrr.p\n",
      "reading  /Projects/jalbers_process/CPC_LIM/yuan_ming/Data/10d_sliding_climo/data_clim/tmp/fullyr_JRA_58-16_sliding_climo_SOIL.p\n"
     ]
    }
   ],
   "source": [
    "expt_name = '10d_sliding_climo'\n",
    "print(\"before driver.Driver in prep_realtime_data.py\")\n",
    "LIMdriver = driver.Driver(f'namelist_{expt_name}.py')\n",
    "LIMdriver.get_variables()"
   ]
  },
  {
   "cell_type": "code",
   "execution_count": 3,
   "id": "393f3f35-8d94-44cd-b61a-30c10806398e",
   "metadata": {
    "tags": []
   },
   "outputs": [],
   "source": [
    "name='T2m'\n",
    "varobj = LIMdriver.use_vars[name]['data']\n",
    "dsclimo = xr.open_dataset(f'{LIMdriver.SLIDING_CLIMO_FILE_PREFIX}/{name}/{name}.{2022}.nc')\n",
    "sliding_climo = np.array(dsclimo['climo'][:])\n",
    "# print(varobj.domain)\n",
    "# sliding_climo = np.array([varobj.flatten(i) for i in dsclimo])\n",
    "# sliding_climo[abs(sliding_climo)>1e29]=np.nan\n",
    "dsnc = nc.Dataset(f'{LIMdriver.SLIDING_CLIMO_FILE_PREFIX}/{name}/{name}.{2022}.nc')\n",
    "time = dsnc['time']\n",
    "times = nc.num2date(dsnc['time'][:],dsnc['time'].units,\\\n",
    "                            only_use_cftime_datetimes=False,only_use_python_datetimes=True)"
   ]
  },
  {
   "cell_type": "code",
   "execution_count": 4,
   "id": "4bb7dec7-903d-498f-aa78-1f47a108fc37",
   "metadata": {
    "tags": []
   },
   "outputs": [
    {
     "name": "stdout",
     "output_type": "stream",
     "text": [
      "(365, 696)\n"
     ]
    }
   ],
   "source": [
    "dsclimo = xr.open_dataset(f'data_clim/T2m/T2m.2022.nc')\n",
    "climo_RT = np.array(dsclimo['climo'])\n",
    "climo_RT = np.array([LIMdriver.use_vars['T2m']['data'].flatten(i) for i in climo_RT])\n",
    "print(climo_RT.shape)\n",
    "climo_RT[abs(climo_RT)>1e29]=np.nan\n",
    "# ds['time']"
   ]
  },
  {
   "cell_type": "code",
   "execution_count": 5,
   "id": "65a7b5a6-f711-4c4f-9a2c-617c0e5bc303",
   "metadata": {
    "tags": []
   },
   "outputs": [
    {
     "name": "stdout",
     "output_type": "stream",
     "text": [
      "(365, 696)\n"
     ]
    }
   ],
   "source": [
    "print(LIMdriver.use_vars['T2m']['data'].climo.shape)"
   ]
  },
  {
   "cell_type": "code",
   "execution_count": 6,
   "id": "ceae0b3a-c57d-443a-95b1-8017edf8a2c2",
   "metadata": {
    "tags": []
   },
   "outputs": [],
   "source": [
    "diff = climo_RT-LIMdriver.use_vars['T2m']['data'].climo"
   ]
  },
  {
   "cell_type": "code",
   "execution_count": 7,
   "id": "3c2ee536-b7ef-4e1b-a306-920535280838",
   "metadata": {
    "tags": []
   },
   "outputs": [],
   "source": [
    "fig = plt.figure"
   ]
  },
  {
   "cell_type": "code",
   "execution_count": 8,
   "id": "1f62bceb-50f5-4fb5-8169-fe135414d097",
   "metadata": {
    "tags": []
   },
   "outputs": [
    {
     "data": {
      "image/png": "[encoded data removed]",
      "text/plain": [
       "<Figure size 640x480 with 2 Axes>"
      ]
     },
     "metadata": {},
     "output_type": "display_data"
    }
   ],
   "source": [
    "type(diff)\n",
    "diff.shape\n",
    "plot = plt.contourf(diff)\n",
    "colorbar = plt.colorbar(plot)\n",
    "plt.show()"
   ]
  },
  {
   "cell_type": "code",
   "execution_count": 40,
   "id": "44da9ab2-2e4c-4f9f-97c6-6b148a1be435",
   "metadata": {
    "tags": []
   },
   "outputs": [
    {
     "name": "stdout",
     "output_type": "stream",
     "text": [
      "Indices: (array([2]),)\n",
      "Anomalies: [-2]\n"
     ]
    }
   ],
   "source": [
    "data = np.array([10, 15, 20, 25, 30])\n",
    "climo = np.array([12, 18, 22, 28, 32])\n",
    "doy = np.array([0, 50, 100, 150, 200])  # Example day of year values\n",
    "\n",
    "# Define a specific DOY value you're interested in\n",
    "target_doy = np.array(100)\n",
    "\n",
    "# Find indices where the DOY matches the target value\n",
    "indices = np.where(doy % 365 == target_doy)\n",
    "\n",
    "# Calculate anomalies for the specified indices\n",
    "anomalies = data[indices] - climo[indices]\n",
    "\n",
    "print(\"Indices:\", indices)\n",
    "print(\"Anomalies:\", anomalies)\n"
   ]
  },
  {
   "cell_type": "code",
   "execution_count": 11,
   "id": "8eb11947-58c9-4762-9183-0d837a2f2888",
   "metadata": {
    "tags": []
   },
   "outputs": [
    {
     "data": {
      "text/plain": [
       "{'filename': '/data/ycheng/JRA/Data/2023_realtime/surf_2023.nc',\n",
       " 'varname': 't2m'}"
      ]
     },
     "execution_count": 11,
     "metadata": {},
     "output_type": "execute_result"
    }
   ],
   "source": [
    "LIMdriver.RT_VARS[\"T2m\"]"
   ]
  },
  {
   "cell_type": "code",
   "execution_count": 12,
   "id": "2864c9b2-f3be-43a8-8d15-952f0f9be898",
   "metadata": {
    "tags": []
   },
   "outputs": [
    {
     "data": {
      "text/plain": [
       "{'SOIL': {'filename': '/data/ycheng/JRA/Data/2023_realtime/land_2023.nc',\n",
       "  'varname': 'ussl'},\n",
       " 'SF100': {'filename': '/data/ycheng/JRA/Data/2023_realtime/sf_2023.nc',\n",
       "  'varname': 'strf',\n",
       "  'level': 100,\n",
       "  'levname': 'isobaricInhPa'},\n",
       " 'SF750': {'filename': '/data/ycheng/JRA/Data/2023_realtime/sf_2023.nc',\n",
       "  'varname': 'strf',\n",
       "  'level': 750,\n",
       "  'levname': 'isobaricInhPa'},\n",
       " 'H500': {'filename': '/data/ycheng/JRA/Data/2023_realtime/hgt_2023.nc',\n",
       "  'varname': 'gh',\n",
       "  'level': 500,\n",
       "  'levname': 'isobaricInhPa'},\n",
       " 'SLP': {'filename': '/data/ycheng/JRA/Data/2023_realtime/surf_2023.nc',\n",
       "  'varname': 'msl'},\n",
       " 'T2m': {'filename': '/data/ycheng/JRA/Data/2023_realtime/surf_2023.nc',\n",
       "  'varname': 't2m'},\n",
       " 'colIrr': {'filename': '/data/ycheng/JRA/Data/2023_realtime/phy2m_2023.nc',\n",
       "  'varname': 'colIrr'},\n",
       " 'SST': {'filename': '/data/ycheng/JRA/Data/2023_realtime/sst_2023.nc',\n",
       "  'varname': 'btmp'}}"
      ]
     },
     "execution_count": 12,
     "metadata": {},
     "output_type": "execute_result"
    }
   ],
   "source": [
    "LIMdriver.RT_VARS"
   ]
  },
  {
   "cell_type": "code",
   "execution_count": 50,
   "id": "6071681d-e9f0-4aa7-956c-b0cc49719cb9",
   "metadata": {},
   "outputs": [],
   "source": [
    "# def get_anomaly(data,time,climo):\n",
    "#     #print('--> Starting to calculate anomaly')\n",
    "#     timer_start = dt.now()\n",
    "#     print('-----------------------------------------')\n",
    "#     import cftime\n",
    "#     if isinstance(time, cftime._cftime.real_datetime):\n",
    "#         # Handle the case where it's a single value\n",
    "#         # count = time\n",
    "#         # time = np.ma.masked_array([time])\n",
    "#         doy = np.array([int(dt.strftime(time,'%j'))-1])\n",
    "#         # time = [cftime.real_datetime(2023, 1, 1, 0, 0), cftime.real_datetime(2023, 1, 2, 0, 0), cftime.real_datetime(2023, 1, 3, 0, 0), cftime.real_datetime(2023, 1, 4, 0, 0)]\n",
    "#         # time = [time]\n",
    "#     # print(type(time))\n",
    "#     # print(time)\n",
    "#     else:\n",
    "#         doy = np.array([int(dt.strftime(i,'%j'))-1 for i in time])\n",
    "#     # print(type(time[0]))\n",
    "#     # print(type(doy[0]))\n",
    "#     # print(type(doy))\n",
    "#     print('doy = ',doy)\n",
    "#     # print(data.shape)\n",
    "#     # doy = np.array([0,1,3,4,5])\n",
    "#     # index = np.where(doy%365==5)\n",
    "#     # print( data[index] - climo[5])\n",
    "    \n",
    "#     anomaly = np.zeros(data.shape)\n",
    "#     for i,j in enumerate(climo):\n",
    "#         # print(i)\n",
    "#         try:\n",
    "#             print('before index')\n",
    "#             index = np.where(doy[0] % 365 == i)  # Get the index value\n",
    "#             print('before anomaly')\n",
    "#             print('index = ',index)\n",
    "#             anomaly[index] = data[index] - j\n",
    "#             print('after anomaly[index]')\n",
    "#             # print('index = ',index)\n",
    "#             # print(anomaly[index])\n",
    "#             # anomaly[np.where(doy%365==i)] = data[np.where(doy%365==i)] - j\n",
    "#         except:\n",
    "#             print('passs')\n",
    "#             pass\n",
    "#     # print('--> Completed calculating anomaly (%.1f seconds)' \\\n",
    "#           # % (dt.now()-timer_start).total_seconds())\n",
    "#     # print(anomaly.shape)\n",
    "#     return anomaly"
   ]
  },
  {
   "cell_type": "code",
   "execution_count": 53,
   "id": "b6bf1200-83dd-4b94-a5a1-261670d57438",
   "metadata": {
    "tags": []
   },
   "outputs": [],
   "source": [
    "def get_anomaly(data,time,climo):\n",
    "    import cftime\n",
    "    print('--> Starting to calculate anomaly')\n",
    "    timer_start = dt.now()\n",
    "    anomaly = np.zeros(data.shape)\n",
    "    if isinstance(time, cftime._cftime.real_datetime):\n",
    "        # Handle the case where it's a single time\n",
    "        doy = np.array(int(dt.strftime(time,'%j'))-1)\n",
    "        for i,j in enumerate(climo):\n",
    "            try:\n",
    "                if doy%365==i:\n",
    "                    anomaly = data - j\n",
    "            except:\n",
    "                print('error in get_anomaly'\n",
    "                pass\n",
    "    else: \n",
    "        doy = np.array([int(dt.strftime(i,'%j'))-1 for i in time])\n",
    "        print(doy)\n",
    "        for i,j in enumerate(climo):\n",
    "            try:\n",
    "                anomaly[np.where(doy%365==i)] = data[np.where(doy%365==i)] - j\n",
    "            except:\n",
    "                print('error in get_anomaly'\n",
    "                pass\n",
    "    print('--> Completed calculating anomaly (%.1f seconds)' \\\n",
    "          % (dt.now()-timer_start).total_seconds())\n",
    "    return anomaly\n"
   ]
  },
  {
   "cell_type": "code",
   "execution_count": 65,
   "id": "9fdf7f3b-fe1f-48e1-ab0d-ef3fdda95c33",
   "metadata": {
    "tags": []
   },
   "outputs": [],
   "source": [
    "ds = nc.Dataset('/data/ycheng/JRA/Data/2023_realtime/surf_2023.nc')\n",
    "dsx = xr.open_dataset('/data/ycheng/JRA/Data/2023_realtime/surf_2023.nc')\n",
    "data = np.array(ds.variables['t2m'])\n",
    "time_variable = ds.variables['time']\n",
    "latitude = ds.variables['latitude']\n",
    "longitude = ds.variables['longitude']\n",
    "time = nc.num2date(ds['time'][:],ds['time'].units,\\\n",
    "                            only_use_cftime_datetimes=False,only_use_python_datetimes=True)\n",
    "\n",
    "t2m = np.array([interp2LIM(latitude,longitude,var_day,LIMdriver.use_vars[name]['data']) for var_day in data])\n"
   ]
  },
  {
   "cell_type": "code",
   "execution_count": 23,
   "id": "0be430cb-65b7-4f1a-9bc9-6195ebb68e98",
   "metadata": {
    "tags": []
   },
   "outputs": [
    {
     "name": "stdout",
     "output_type": "stream",
     "text": [
      "(365, 696)\n",
      "(365, 696)\n",
      "0 2023-01-01 00:00:00\n",
      "1 2023-01-02 00:00:00\n"
     ]
    }
   ],
   "source": [
    "print(LIMdriver.use_vars['T2m']['data'].climo.shape)\n",
    "print(climo_RT.shape)\n",
    "for t, date in enumerate(time[0:2]):\n",
    "    print(t,date)"
   ]
  },
  {
   "cell_type": "code",
   "execution_count": 58,
   "id": "07bc20ce-12c7-4c0d-a75c-5fd2e5692702",
   "metadata": {
    "tags": []
   },
   "outputs": [
    {
     "name": "stdout",
     "output_type": "stream",
     "text": [
      "!!!!!!!!!!!!!!!!!!!!!!!!!!!!!!!!!\n",
      "[  0   1   2   3   4   5   6   7   8   9  10  11  12  13  14  15  16  17\n",
      "  18  19  20  21  22  23  24  25  26  27  28  29  30  31  32  33  34  35\n",
      "  36  37  38  39  40  41  42  43  44  45  46  47  48  49  50  51  52  53\n",
      "  54  55  56  57  58  59  60  61  62  63  64  65  66  67  68  69  70  71\n",
      "  72  73  74  75  76  77  78  79  80  81  82  83  84  85  86  87  88  89\n",
      "  90  91  92  93  94  95  96  97  98  99 100 101 102 103 104 105 106 107\n",
      " 108 109 110 111 112 113 114 115 116 117 118 119 120 121 122 123 124 125\n",
      " 126 127 128 129 130 131 132 133 134 135 136 137 138 139 140 141 142 143\n",
      " 144 145 146 147 148 149 150 151 152 153 154 155 156 157 158 159 160 161\n",
      " 162 163 164 165 166 167 168 169 170 171 172 173 174 175 176 177 178 179\n",
      " 180 181 182 183 184 185 186 187 188 189 190 191 192 193 194 195 196 197\n",
      " 198 199 200 201 202 203 204 205 206 207 208 209 210 211 212 213 214 215\n",
      " 216 217 218 219 220 221 222 223 224]\n"
     ]
    }
   ],
   "source": [
    "anomaly_list = []\n",
    "for t, date in enumerate(time):\n",
    "    anom = np.array(get_anomaly(t2m[t],date,climo_RT))\n",
    "    # anom = np.array(get_anomaly(t2m[t],date,LIMdriver.use_vars['T2m']['data'].climo))\n",
    "#     # print(anom.shape)\n",
    "    anomaly_list.append(anom)\n",
    "anomaly_array = np.array(anomaly_list)\n",
    "\n",
    "print('!!!!!!!!!!!!!!!!!!!!!!!!!!!!!!!!!')\n",
    "# anomaly_all = get_anomaly(t2m,time,LIMdriver.use_vars['T2m']['data'].climo)\n",
    "anomaly_all = get_anomaly(t2m,time,climo_RT)\n",
    "# plt.contourf(anomaly_array[0])\n",
    "plot = plt.contourf(anomaly_all)\n",
    "colorbar = plt.colorbar(plot)\n",
    "plt.show()\n",
    "plot2 = plt.contourf(anomaly_array)\n",
    "colorbar = plt.colorbar(plot2)\n",
    "plt.show()"
   ]
  },
  {
   "cell_type": "code",
   "execution_count": 64,
   "id": "45934fd3-32f3-4667-a62b-ca1f5eb85e42",
   "metadata": {
    "tags": []
   },
   "outputs": [
    {
     "data": {
      "image/png": "[encoded data removed]",
      "text/plain": [
       "<Figure size 640x480 with 2 Axes>"
      ]
     },
     "metadata": {},
     "output_type": "display_data"
    }
   ],
   "source": [
    "diff = anomaly_array-anomaly_all\n",
    "diff.shape\n",
    "# contour_levels = np.arange(-1,1.5,0.5)\n",
    "contour_levels = np.linspace(-1, 1, 11)\n",
    "\n",
    "plot = plt.contourf(diff,levels = contour_levels)\n",
    "colorbar = plt.colorbar(plot)\n",
    "plt.show()"
   ]
  },
  {
   "cell_type": "code",
   "execution_count": 48,
   "id": "b52a904e-2454-4e88-aac1-a77eabf32700",
   "metadata": {
    "tags": []
   },
   "outputs": [
    {
     "name": "stdout",
     "output_type": "stream",
     "text": [
      "(225, 696)\n",
      "(2, 696)\n"
     ]
    }
   ],
   "source": [
    "print(anomaly_all.shape)\n",
    "print(anomaly_array.shape)"
   ]
  },
  {
   "cell_type": "code",
   "execution_count": null,
   "id": "5d532025-5e93-4be7-9476-3603e2d104f9",
   "metadata": {},
   "outputs": [],
   "source": []
  }
 ],
 "metadata": {
  "kernelspec": {
   "display_name": "Python 3 (ipykernel)",
   "language": "python",
   "name": "python3"
  },
  "language_info": {
   "codemirror_mode": {
    "name": "ipython",
    "version": 3
   },
   "file_extension": ".py",
   "mimetype": "text/x-python",
   "name": "python",
   "nbconvert_exporter": "python",
   "pygments_lexer": "ipython3",
   "version": "3.10.9"
  }
 },
 "nbformat": 4,
 "nbformat_minor": 5
}

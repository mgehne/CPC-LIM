{
 "cells": [
  {
   "cell_type": "code",
   "execution_count": 1,
   "id": "426926ed-0bc0-4cc3-9e53-b84d7ad026e3",
   "metadata": {
    "tags": []
   },
   "outputs": [
    {
     "name": "stdout",
     "output_type": "stream",
     "text": [
      "Requirement already satisfied: requests in /home/ycheng/.conda/envs/cpc/lib/python3.10/site-packages (2.28.2)\n",
      "Requirement already satisfied: beautifulsoup4 in /home/ycheng/.conda/envs/cpc/lib/python3.10/site-packages (4.11.2)\n",
      "Requirement already satisfied: urllib3<1.27,>=1.21.1 in /home/ycheng/.conda/envs/cpc/lib/python3.10/site-packages (from requests) (1.26.15)\n",
      "Requirement already satisfied: certifi>=2017.4.17 in /home/ycheng/.conda/envs/cpc/lib/python3.10/site-packages (from requests) (2022.12.7)\n",
      "Requirement already satisfied: charset-normalizer<4,>=2 in /home/ycheng/.conda/envs/cpc/lib/python3.10/site-packages (from requests) (2.1.1)\n",
      "Requirement already satisfied: idna<4,>=2.5 in /home/ycheng/.conda/envs/cpc/lib/python3.10/site-packages (from requests) (3.4)\n",
      "Requirement already satisfied: soupsieve>1.2 in /home/ycheng/.conda/envs/cpc/lib/python3.10/site-packages (from beautifulsoup4) (2.4)\n",
      "Note: you may need to restart the kernel to use updated packages.\n"
     ]
    }
   ],
   "source": [
    "pip install requests beautifulsoup4\n"
   ]
  },
  {
   "cell_type": "code",
   "execution_count": 7,
   "id": "908873ee-3d84-43f6-a560-c934d63c43a7",
   "metadata": {
    "tags": []
   },
   "outputs": [
    {
     "name": "stdout",
     "output_type": "stream",
     "text": [
      "Availability information not found.\n"
     ]
    }
   ],
   "source": [
    "import requests\n",
    "from bs4 import BeautifulSoup\n",
    "import time\n",
    "\n",
    "def check_campsite_availability(url):\n",
    "    headers = {\n",
    "        \"User-Agent\": \"Mozilla/5.0 (Windows NT 10.0; Win64; x64) AppleWebKit/537.36 (KHTML, like Gecko) Chrome/58.0.3029.110 Safari/537.3\"\n",
    "    }\n",
    "\n",
    "    session = requests.Session()\n",
    "\n",
    "    try:\n",
    "        response = session.get(url, headers=headers)\n",
    "\n",
    "        if response.status_code == 200:\n",
    "            soup = BeautifulSoup(response.content, \"html.parser\")\n",
    "            availability_element = soup.find(\"div\", class_=\"availability\")\n",
    "\n",
    "            if availability_element:\n",
    "                availability_text = availability_element.get_text()\n",
    "                print(\"Campsite Availability:\", availability_text)\n",
    "            else:\n",
    "                print(\"Availability information not found.\")\n",
    "        else:\n",
    "            print(\"Failed to retrieve the website. Status code:\", response.status_code)\n",
    "    except requests.RequestException as e:\n",
    "        print(\"An error occurred:\", e)\n",
    "\n",
    "# URL of the campsite availability page on recreation.gov\n",
    "url = \"https://www.recreation.gov/camping/campgrounds/231860/availability\"\n",
    "\n",
    "# Call the function to check availability\n",
    "check_campsite_availability(url)\n"
   ]
  },
  {
   "cell_type": "code",
   "execution_count": null,
   "id": "b2eda654-e011-43cc-8097-a046840b2f58",
   "metadata": {},
   "outputs": [],
   "source": []
  }
 ],
 "metadata": {
  "kernelspec": {
   "display_name": "Python 3 (ipykernel)",
   "language": "python",
   "name": "python3"
  },
  "language_info": {
   "codemirror_mode": {
    "name": "ipython",
    "version": 3
   },
   "file_extension": ".py",
   "mimetype": "text/x-python",
   "name": "python",
   "nbconvert_exporter": "python",
   "pygments_lexer": "ipython3",
   "version": "3.10.9"
  }
 },
 "nbformat": 4,
 "nbformat_minor": 5
}

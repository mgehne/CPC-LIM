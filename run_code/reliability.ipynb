{
 "cells": [
  {
   "cell_type": "code",
   "execution_count": 68,
   "id": "1a294511-d248-44d5-81f2-92fda8d9af1f",
   "metadata": {
    "tags": []
   },
   "outputs": [],
   "source": [
    "import numpy as np\n",
    "from datetime import datetime as dt,timedelta\n",
    "import xarray as xr\n",
    "import netCDF4 as nc\n",
    "import os\n",
    "import copy\n",
    "import matplotlib.colors as mcolors\n",
    "from scipy.interpolate import griddata\n",
    "import matplotlib.pyplot as plt\n",
    "import matplotlib.dates as mdates\n",
    "import cftime\n",
    "# import xesmf as xe\n",
    "import matplotlib.pyplot as plt\n",
    "from lib import driver\n",
    "# from lib import plot \n",
    "from lib.tools import get_categorical_obs, get_categorical_fcst, get_heidke, get_rpss\n",
    "# from lib import verif\n",
    "from lib.tools import *\n",
    "import pandas as pd\n",
    "import xskillscore as xs"
   ]
  },
  {
   "cell_type": "code",
   "execution_count": 2,
   "id": "545478db-bbfa-4b1e-b3e9-4257e77b38c0",
   "metadata": {
    "tags": []
   },
   "outputs": [],
   "source": [
    "def check_lat_order(dataset,verbose=False):\n",
    "    \"\"\"\n",
    "    Check the order of latitude coordinates in the dataset.\n",
    "    \n",
    "    Parameters:\n",
    "    - dataset: xarray.Dataset or xarray.DataArray\n",
    "    \n",
    "    Returns:\n",
    "    - True if latitude is ordered from North to South (N to S).\n",
    "    - False if latitude is ordered from South to North (S to N).\n",
    "    - None if the order is ambiguous or the dataset is empty.\n",
    "    \"\"\"\n",
    "    if 'latitude' in dataset.coords:\n",
    "        dataset = dataset.rename_dims({'latitude': 'lat', 'longitude': 'lon'})\n",
    "\n",
    "    lat_coords = dataset['lat']\n",
    "    lat_diff = lat_coords.diff(dim='lat')\n",
    "    if verbose:\n",
    "        print(lat_diff)\n",
    "\n",
    "    if (lat_diff < 0.).all():\n",
    "        dataset= dataset.sel(lat=dataset.lat[::-1])\n",
    "        print('change latitude from S to N')\n",
    "        # print(dataset.lat)\n",
    "    elif (lat_diff > 0.).all():\n",
    "        dataset = dataset\n",
    "        print('====latitude from S to N----')\n",
    "        # print(dataset.lat)\n",
    "    else:\n",
    "        print('!!!!!! Latitude ambiguous or unordered !!!!!!')\n",
    "    return(dataset)"
   ]
  },
  {
   "cell_type": "code",
   "execution_count": 58,
   "id": "f39e90a9-e3fe-40c7-ad34-516306a6f280",
   "metadata": {
    "tags": []
   },
   "outputs": [
    {
     "name": "stdout",
     "output_type": "stream",
     "text": [
      "====latitude from S to N----\n"
     ]
    }
   ],
   "source": [
    "ds = xr.open_dataset('/home/ycheng/LIM/Scoring_John_code/cpc_data/cpc_anom_2019.nc')\n",
    "ds = check_lat_order(ds)\n",
    "ds\n",
    "obs = ds['cpc_anom']"
   ]
  },
  {
   "cell_type": "code",
   "execution_count": 3,
   "id": "2c1fd15d-1bdf-425d-94b8-ddb7ee69a3a8",
   "metadata": {
    "tags": []
   },
   "outputs": [
    {
     "name": "stdout",
     "output_type": "stream",
     "text": [
      "change latitude from S to N\n"
     ]
    }
   ],
   "source": [
    "varname = 'T2m'\n",
    "LIMpage_path = f'/Projects/jalbers_process/CPC_LIM/yuan_ming/CPC/Images_retrospective_8_vars_9e_sliding_climo_no_double_running_mean_add_offset_simple_map'\n",
    "FCSTDIR = f'{LIMpage_path}/lim_t2m_retrospective/wk34separate_regression/offset/' \n",
    "VERIFDIR = f'{FCSTDIR}'\n",
    "anomvar = varname+'_anom'\n",
    "spreadvar = varname+'_spread' \n",
    "\n",
    "start_date = \"2019-01-01\"\n",
    "end_date   = \"2019-05-31\"\n",
    "date_range = pd.date_range(start=start_date, end=end_date)\n",
    "files = [os.path.join(VERIFDIR, f'{varname}_offset.{date}.nc') for date in date_range.strftime('%Y%m%d')]\n",
    "ds = xr.open_mfdataset(files)\n",
    "ds = check_lat_order(ds,verbose=False)\n",
    "\n",
    "for label,lt in zip(['wk34'],[(21,28)]):\n",
    "    # new dataset with current lead time. if more than one, concatenate lead times\n",
    "    newds = xr.concat([ds.sel(lead_time=f'{i} days') for i in lt],dim='lead_time').mean('lead_time')\n",
    "    anom   = newds[anomvar]\n",
    "    spread = newds[spreadvar]"
   ]
  },
  {
   "cell_type": "code",
   "execution_count": 54,
   "id": "b68f0783-c577-46ab-82d1-5bf35729f97d",
   "metadata": {
    "tags": []
   },
   "outputs": [
    {
     "name": "stdout",
     "output_type": "stream",
     "text": [
      "[[False  True]\n",
      " [False  True]\n",
      " [False  True]\n",
      " ...\n",
      " [False  True]\n",
      " [False  True]\n",
      " [ True False]]\n",
      "[[0.38606221 0.61393779]\n",
      " [0.3605475  0.6394525 ]\n",
      " [0.3402959  0.6597041 ]\n",
      " ...\n",
      " [0.35040156 0.64959844]\n",
      " [0.34263167 0.65736833]\n",
      " [0.2648879  0.7351121 ]]\n",
      "(693, 2)\n",
      "(693, 2)\n",
      "[[0. 1.]\n",
      " [0. 1.]\n",
      " [0. 1.]\n",
      " ...\n",
      " [0. 1.]\n",
      " [0. 1.]\n",
      " [0. 1.]]\n",
      "0.4545454545454546 0.4545454545454546\n",
      "(693,)\n",
      "(693,)\n",
      "(2, 693)\n",
      "vCPC: [ 2.3006744   1.5604553   2.440105    0.68184555 -1.1301793  -0.7203849\n",
      "  0.43824983  1.160806    0.59903175 -0.23971558 -0.4666639  -0.05189514\n",
      "  1.1588309   1.3595036   1.0805686   0.49445012 -0.1608756  -0.52076286\n",
      "  1.5721893   0.7065582 ]\n",
      "ANOM: [ 0.29401222  0.40167356  0.5074975  -0.04454565  0.03907806  0.09459484\n",
      " -0.43705225  0.18341203  0.12389901 -0.03120705 -0.22803088 -0.21548001\n",
      "  0.28212085  0.13959002 -0.05678168 -0.0494462  -0.00705289 -0.35120118\n",
      "  0.40935427  0.6609683 ]\n",
      "cat_fcst: [[0. 1.]\n",
      " [0. 1.]\n",
      " [0. 1.]\n",
      " [1. 0.]\n",
      " [0. 1.]\n",
      " [0. 1.]\n",
      " [1. 0.]\n",
      " [0. 1.]\n",
      " [0. 1.]\n",
      " [1. 0.]\n",
      " [1. 0.]\n",
      " [1. 0.]\n",
      " [0. 1.]\n",
      " [0. 1.]\n",
      " [1. 0.]\n",
      " [1. 0.]\n",
      " [1. 0.]\n",
      " [1. 0.]\n",
      " [0. 1.]\n",
      " [0. 1.]]\n",
      "cat_obs [[False  True]\n",
      " [False  True]\n",
      " [False  True]\n",
      " [False  True]\n",
      " [ True False]\n",
      " [ True False]\n",
      " [False  True]\n",
      " [False  True]\n",
      " [False  True]\n",
      " [ True False]\n",
      " [ True False]\n",
      " [ True False]\n",
      " [False  True]\n",
      " [False  True]\n",
      " [False  True]\n",
      " [False  True]\n",
      " [ True False]\n",
      " [ True False]\n",
      " [False  True]\n",
      " [False  True]]\n",
      "multiplication [[0. 1.]\n",
      " [0. 1.]\n",
      " [0. 1.]\n",
      " [0. 0.]\n",
      " [0. 0.]\n",
      " [0. 0.]\n",
      " [0. 0.]\n",
      " [0. 1.]\n",
      " [0. 1.]\n",
      " [1. 0.]\n",
      " [1. 0.]\n",
      " [1. 0.]\n",
      " [0. 1.]\n",
      " [0. 1.]\n",
      " [0. 0.]\n",
      " [0. 0.]\n",
      " [1. 0.]\n",
      " [1. 0.]\n",
      " [0. 1.]\n",
      " [0. 1.]]\n",
      "sum [1. 1. 1. 0. 0. 0. 0. 1. 1. 1. 1. 1. 1. 1. 0. 0. 1. 1. 1. 1.]\n"
     ]
    }
   ],
   "source": [
    "for date in date_range[0:1]:\n",
    "    vCPC = xr.concat([obs.sel(time=date+timedelta(days=l)) for l in lt],dim='time').mean(dim='time')\n",
    "\n",
    "    ANOM = anom.sel(time=date)\n",
    "    SPREAD = spread.sel(time=date)\n",
    "\n",
    "    vCPC   = xr.where(~ANOM.isnull() & ~vCPC.isnull() ,vCPC  ,np.nan)\n",
    "    ANOM   = xr.where(~ANOM.isnull() & ~vCPC.isnull() ,ANOM  ,np.nan)\n",
    "    SPREAD = xr.where(~vCPC.isnull() & ~SPREAD.isnull() ,SPREAD,np.nan)\n",
    "    \n",
    "    vCPC   = xr.where(SPREAD.isnull(),np.nan,vCPC)\n",
    "    ANOM   = xr.where(vCPC.isnull()  ,np.nan,ANOM)\n",
    "    SPREAD = xr.where(vCPC.isnull()  ,np.nan,SPREAD)\n",
    "\n",
    "    vCPC   = np.array(vCPC)[vCPC.notnull()]\n",
    "    ANOM   = np.array(ANOM)[ANOM.notnull()]\n",
    "    SPREAD = np.array(SPREAD)[SPREAD.notnull()]\n",
    "\n",
    "\n",
    "    bounds = [-np.inf*np.ones(len(vCPC)),np.zeros(len(vCPC)),np.inf*np.ones(len(vCPC))]\n",
    "    OBS = get_categorical_obs((vCPC,),bounds)[0]\n",
    "    bounds = [-np.inf*np.ones(len(ANOM)),np.zeros(len(ANOM)),np.inf*np.ones(len(ANOM))]\n",
    "    PROB = get_categorical_fcst((ANOM,),(SPREAD,),bounds)[0]\n",
    "    cat_fcst = PROB.T\n",
    "    cat_obs  = OBS.T\n",
    "    hits = np.sum(np.sum(cat_fcst*cat_obs,axis=1))\n",
    "    N,C = cat_fcst.shape\n",
    "    \n",
    "    weights = np.ones(N)\n",
    "    N = sum(weights)\n",
    "    \n",
    "    categorical = True\n",
    "    print(cat_obs)\n",
    "    print(cat_fcst)\n",
    "    print(cat_obs.shape)\n",
    "    print(cat_fcst.shape)\n",
    "    if categorical:\n",
    "        cat_fcst = np.round(cat_fcst)\n",
    "    print(cat_fcst)\n",
    "    if N==0:\n",
    "        H1 = 0\n",
    "    else:\n",
    "        H1 = N**-1 * np.sum(np.sum(cat_fcst*cat_obs,axis=1)*weights)\n",
    "    H2 = 1/C\n",
    "#    H2 = N**-2 * np.sum(np.sum((cat_fcst*cat_obs+(1-cat_fcst)*cat_obs)*weights[:,None],axis=1)*\n",
    "#                       np.sum((cat_fcst*cat_obs+cat_fcst*(1-cat_obs))*weights[:,None],axis=1))\n",
    "    HSS = (H1 - H2) / (1 - H2)\n",
    "    HSS_2 = get_heidke(PROB.T,OBS.T,categorical=True)\n",
    "    print(HSS,HSS_2)\n",
    "#     skill.append(HSS)\n",
    "    print(vCPC.shape)\n",
    "    print(ANOM.shape)\n",
    "    print(PROB.shape)\n",
    "    print('vCPC:', vCPC[0:20])\n",
    "    print('ANOM:',ANOM[0:20])\n",
    "    print('cat_fcst:', cat_fcst[0:20])\n",
    "    print('cat_obs',cat_obs[0:20])\n",
    "    # print(PROB[0][0])\n",
    "    multiplication = cat_fcst*cat_obs\n",
    "    print('multiplication',multiplication[0:20])\n",
    "    # print((cat_fcst*cat_obs).shape)\n",
    "    print('sum',np.sum(cat_fcst*cat_obs,axis=1)[0:20])\n"
   ]
  },
  {
   "cell_type": "code",
   "execution_count": 82,
   "id": "1d9a7e63-6557-48a7-9b10-a72d22732662",
   "metadata": {
    "tags": []
   },
   "outputs": [],
   "source": [
    "# probability_bin_edges=np.array([0.05, 0.15, 0.25, 0.35, 0.45, 0.55, 0.65, 0.75, 0.85, 0.95, 1.05])\n",
    "# obs_list = []\n",
    "# fcst_list = []\n",
    "# for date in date_range:\n",
    "#     vCPC = xr.concat([obs.sel(time=date+timedelta(days=l)) for l in lt],dim='time').mean(dim='time')\n",
    "\n",
    "#     ANOM = anom.sel(time=date)\n",
    "#     SPREAD = spread.sel(time=date)\n",
    "\n",
    "#     vCPC   = xr.where(~ANOM.isnull() & ~vCPC.isnull() ,vCPC  ,np.nan)\n",
    "#     ANOM   = xr.where(~ANOM.isnull() & ~vCPC.isnull() ,ANOM  ,np.nan)\n",
    "#     SPREAD = xr.where(~vCPC.isnull() & ~SPREAD.isnull() ,SPREAD,np.nan)\n",
    "    \n",
    "#     vCPC   = xr.where(SPREAD.isnull(),np.nan,vCPC)\n",
    "#     ANOM   = xr.where(vCPC.isnull()  ,np.nan,ANOM)\n",
    "#     SPREAD = xr.where(vCPC.isnull()  ,np.nan,SPREAD)\n",
    "\n",
    "#     vCPC   = np.array(vCPC)[vCPC.notnull()]\n",
    "#     ANOM   = np.array(ANOM)[ANOM.notnull()]\n",
    "#     SPREAD = np.array(SPREAD)[SPREAD.notnull()]\n",
    "\n",
    "    \n",
    "#     bounds = [-np.inf*np.ones(len(vCPC)),np.zeros(len(vCPC)),np.inf*np.ones(len(vCPC))]\n",
    "#     OBS = get_categorical_obs((vCPC,),bounds)[0]\n",
    "#     bounds = [-np.inf*np.ones(len(ANOM)),np.zeros(len(ANOM)),np.inf*np.ones(len(ANOM))]\n",
    "#     PROB = get_categorical_fcst((ANOM,),(SPREAD,),bounds)[0]\n",
    "#     cat_fcst = PROB.T\n",
    "#     cat_obs  = OBS.T\n",
    "#     obs_reliability = cat_obs[:,0]\n",
    "#     fcst_reliability = cat_fcst[:,0] \n",
    "#     obs_list.append(obs_reliability)\n",
    "#     fcst_list.append(fcst_reliability)\n",
    "\n"
   ]
  },
  {
   "cell_type": "code",
   "execution_count": 95,
   "id": "4cf52b86-18af-4829-a383-057be445645a",
   "metadata": {
    "tags": []
   },
   "outputs": [],
   "source": [
    "dims = ('time','point')\n",
    "coords = {'time': date_range,'point':np.arange(np.array(obs_list).shape[1])}\n",
    "\n",
    "\n",
    "ds_obs  = xr.DataArray(obs_list , dims=dims,coords=coords)\n",
    "ds_fcst = xr.DataArray(fcst_list, dims=dims,coords=coords)\n"
   ]
  },
  {
   "cell_type": "code",
   "execution_count": 100,
   "id": "b1db33c5-ac1c-45fa-84bc-e2a5db4b312c",
   "metadata": {
    "tags": []
   },
   "outputs": [
    {
     "data": {
      "text/plain": [
       "'/Projects/jalbers_process/CPC_LIM/yuan_ming/CPC/Images_retrospective_8_vars_9e_sliding_climo_no_double_running_mean_add_offset_simple_map/lim_t2m_retrospective/wk34separate_regression/offset//verification'"
      ]
     },
     "execution_count": 100,
     "metadata": {},
     "output_type": "execute_result"
    }
   ],
   "source": []
  },
  {
   "cell_type": "code",
   "execution_count": 96,
   "id": "25e39de3-d248-49bb-a1a6-99423544a262",
   "metadata": {
    "tags": []
   },
   "outputs": [
    {
     "name": "stderr",
     "output_type": "stream",
     "text": [
      "/home/ycheng/.conda/envs/cpc/lib/python3.10/site-packages/xskillscore/core/np_probabilistic.py:39: RuntimeWarning: invalid value encountered in scalar divide\n",
      "  r[..., i] = N_o_f_in_bin / N_f_in_bin\n"
     ]
    }
   ],
   "source": [
    "reliability = xs.reliability(ds_obs,ds_fcst,probability_bin_edges=probability_bin_edges)"
   ]
  },
  {
   "cell_type": "code",
   "execution_count": 97,
   "id": "e6828896-b811-4b49-b004-c556f53c1653",
   "metadata": {
    "tags": []
   },
   "outputs": [
    {
     "name": "stdout",
     "output_type": "stream",
     "text": [
      "<xarray.DataArray (forecast_probability: 10)>\n",
      "array([0.42348754, 0.38413838, 0.30299675, 0.4644867 , 0.52461322,\n",
      "       0.49162345, 0.36090591, 0.1206544 , 0.        ,        nan])\n",
      "Coordinates:\n",
      "  * forecast_probability  (forecast_probability) float64 0.1 0.2 0.3 ... 0.9 1.0\n",
      "    samples               (forecast_probability) float64 281.0 3.064e+03 ... 0.0\n"
     ]
    }
   ],
   "source": [
    "print(reliability)"
   ]
  },
  {
   "cell_type": "code",
   "execution_count": 98,
   "id": "0f26ad95-59ef-42f3-8e72-a8a91f6d0811",
   "metadata": {
    "tags": []
   },
   "outputs": [
    {
     "data": {
      "text/plain": [
       "[<matplotlib.lines.Line2D at 0x7f55f1df2620>]"
      ]
     },
     "execution_count": 98,
     "metadata": {},
     "output_type": "execute_result"
    },
    {
     "data": {
      "image/png": "[encoded data removed]",
      "text/plain": [
       "<Figure size 640x480 with 1 Axes>"
      ]
     },
     "metadata": {},
     "output_type": "display_data"
    }
   ],
   "source": [
    "reliability.plot()"
   ]
  },
  {
   "cell_type": "code",
   "execution_count": null,
   "id": "66798e40-4cc0-4db8-8941-e3fb3d68aa0c",
   "metadata": {},
   "outputs": [],
   "source": []
  }
 ],
 "metadata": {
  "kernelspec": {
   "display_name": "Python 3 (ipykernel)",
   "language": "python",
   "name": "python3"
  },
  "language_info": {
   "codemirror_mode": {
    "name": "ipython",
    "version": 3
   },
   "file_extension": ".py",
   "mimetype": "text/x-python",
   "name": "python",
   "nbconvert_exporter": "python",
   "pygments_lexer": "ipython3",
   "version": "3.10.9"
  }
 },
 "nbformat": 4,
 "nbformat_minor": 5
}

{
 "cells": [
  {
   "cell_type": "code",
   "execution_count": 1,
   "id": "bb3f8467-f0db-4044-80c4-2049712f6bd2",
   "metadata": {
    "tags": []
   },
   "outputs": [],
   "source": [
    "import numpy as np\n",
    "import matplotlib.pyplot as plt\n",
    "from datetime import datetime as dt,timedelta\n"
   ]
  },
  {
   "cell_type": "code",
   "execution_count": 3,
   "id": "b63a4ffb-f364-40ae-85b5-58bb7dae624c",
   "metadata": {
    "tags": []
   },
   "outputs": [
    {
     "name": "stdout",
     "output_type": "stream",
     "text": [
      "[(2, 20), (4, 40)]\n"
     ]
    }
   ],
   "source": [
    "# Sample time values\n",
    "RT_VARS_time = [1, 2, 3, 4, 5]\n",
    "\n",
    "# Sample values for variable 'name'\n",
    "RT_PCS_name = [10, 20, 30, 40, 50]\n",
    "\n",
    "# Sample 'init_times' list\n",
    "init_times = [2, 4, 6]\n",
    "\n",
    "# Using the generator expression with 'zip'\n",
    "result = [(t, p) for t, p in zip(RT_VARS_time, RT_PCS_name) if t in init_times]\n",
    "\n",
    "print(result)\n",
    "\n"
   ]
  },
  {
   "cell_type": "code",
   "execution_count": 5,
   "id": "9f7c808a-c8be-49e4-9eef-247a487a048d",
   "metadata": {
    "tags": []
   },
   "outputs": [],
   "source": [
    "list_of_p = []\n",
    "for t, p in zip(RT_VARS_time, RT_PCS_name):\n",
    "    if t in init_times:\n",
    "        list_of_p.append(p)"
   ]
  },
  {
   "cell_type": "code",
   "execution_count": 6,
   "id": "81f4f4b4-6bf8-4405-8719-c4417fa00859",
   "metadata": {
    "tags": []
   },
   "outputs": [
    {
     "name": "stdout",
     "output_type": "stream",
     "text": [
      "[20, 40]\n"
     ]
    }
   ],
   "source": [
    "print(list_of_p)"
   ]
  },
  {
   "cell_type": "code",
   "execution_count": 33,
   "id": "6debfdb9-6a5a-40c5-92ed-aae45c97cb12",
   "metadata": {
    "tags": []
   },
   "outputs": [
    {
     "name": "stdout",
     "output_type": "stream",
     "text": [
      "(1, 87)\n",
      "Original Array:\n",
      "[[[0.35574537 0.63562358 0.40718576 ... 0.02375912 0.70294386 0.35722787]\n",
      "  [0.97392739 0.9781372  0.34668684 ... 0.98679172 0.26418374 0.29931024]\n",
      "  [0.8322333  0.9528467  0.19735012 ... 0.17022573 0.79347681 0.43356934]\n",
      "  [0.31951814 0.7876469  0.47455142 ... 0.06723113 0.98922398 0.90139229]\n",
      "  [0.68707875 0.82473219 0.74571329 ... 0.71111955 0.56819384 0.91163853]\n",
      "  [0.56204505 0.4046207  0.38893689 ... 0.46526051 0.79994802 0.99204675]]\n",
      "\n",
      " [[0.67851282 0.36899206 0.68236429 ... 0.56938281 0.87998782 0.7259836 ]\n",
      "  [0.77128753 0.76882538 0.03569088 ... 0.53779535 0.32996706 0.70858666]\n",
      "  [0.72844466 0.25731371 0.11444156 ... 0.21458898 0.97830898 0.44496076]\n",
      "  [0.16817229 0.25539013 0.22716695 ... 0.69060125 0.15819417 0.74448203]\n",
      "  [0.25485955 0.20896344 0.99841387 ... 0.93140688 0.37762456 0.23475418]\n",
      "  [0.46872226 0.69734655 0.35953704 ... 0.75801226 0.74267078 0.75191333]]\n",
      "\n",
      " [[0.66516418 0.23122874 0.61357923 ... 0.18756203 0.32955917 0.23171034]\n",
      "  [0.29423189 0.11113631 0.25054845 ... 0.6698538  0.39174011 0.09877701]\n",
      "  [0.31066665 0.62695144 0.2601179  ... 0.5371574  0.5914012  0.47645326]\n",
      "  [0.22669088 0.22810389 0.47932111 ... 0.01932436 0.31065694 0.91783764]\n",
      "  [0.0147471  0.50214653 0.99112548 ... 0.82511179 0.02149288 0.63412565]\n",
      "  [0.74266344 0.1079567  0.30631011 ... 0.07016361 0.33306418 0.95187901]]\n",
      "\n",
      " [[0.98473958 0.64922299 0.41724747 ... 0.98603967 0.12629188 0.91093331]\n",
      "  [0.67573823 0.87756459 0.38873879 ... 0.27223815 0.92691118 0.49565116]\n",
      "  [0.34524914 0.84502645 0.14539357 ... 0.14763241 0.02357189 0.04881478]\n",
      "  [0.27886712 0.58246552 0.81232601 ... 0.29937841 0.8025203  0.23823672]\n",
      "  [0.2917778  0.74695754 0.79539792 ... 0.12319486 0.40345907 0.38588693]\n",
      "  [0.99557013 0.81184591 0.982609   ... 0.28764347 0.91621572 0.16047468]]]\n",
      "\n",
      "Masked Array (Excluding columns 1, 3, and 5):\n",
      "[[[0.         0.         0.40718576 ... 0.         0.         0.        ]\n",
      "  [0.         0.         0.34668684 ... 0.         0.         0.        ]\n",
      "  [0.         0.         0.19735012 ... 0.         0.         0.        ]\n",
      "  [0.         0.         0.47455142 ... 0.         0.         0.        ]\n",
      "  [0.         0.         0.74571329 ... 0.         0.         0.        ]\n",
      "  [0.         0.         0.38893689 ... 0.         0.         0.        ]]\n",
      "\n",
      " [[0.         0.         0.68236429 ... 0.         0.         0.        ]\n",
      "  [0.         0.         0.03569088 ... 0.         0.         0.        ]\n",
      "  [0.         0.         0.11444156 ... 0.         0.         0.        ]\n",
      "  [0.         0.         0.22716695 ... 0.         0.         0.        ]\n",
      "  [0.         0.         0.99841387 ... 0.         0.         0.        ]\n",
      "  [0.         0.         0.35953704 ... 0.         0.         0.        ]]\n",
      "\n",
      " [[0.         0.         0.61357923 ... 0.         0.         0.        ]\n",
      "  [0.         0.         0.25054845 ... 0.         0.         0.        ]\n",
      "  [0.         0.         0.2601179  ... 0.         0.         0.        ]\n",
      "  [0.         0.         0.47932111 ... 0.         0.         0.        ]\n",
      "  [0.         0.         0.99112548 ... 0.         0.         0.        ]\n",
      "  [0.         0.         0.30631011 ... 0.         0.         0.        ]]\n",
      "\n",
      " [[0.         0.         0.41724747 ... 0.         0.         0.        ]\n",
      "  [0.         0.         0.38873879 ... 0.         0.         0.        ]\n",
      "  [0.         0.         0.14539357 ... 0.         0.         0.        ]\n",
      "  [0.         0.         0.81232601 ... 0.         0.         0.        ]\n",
      "  [0.         0.         0.79539792 ... 0.         0.         0.        ]\n",
      "  [0.         0.         0.982609   ... 0.         0.         0.        ]]]\n"
     ]
    }
   ],
   "source": [
    "import numpy as np\n",
    "import numpy as np\n",
    "\n",
    "# Sample array of shape (6, 87)\n",
    "# original_array = np.random.rand(6, 87)\n",
    "original_array = np.random.rand(4,6,87)\n",
    "\n",
    "# Columns to exclude (indices to mask out)\n",
    "columns_to_retain = np.arange(2,5)\n",
    "mask = np.zeros((1, original_array.shape[2]), dtype=bool)\n",
    "mask[0, columns_to_retain] = True\n",
    "masked_array = original_array * mask\n",
    "print(mask.shape)\n",
    "print(\"Original Array:\")\n",
    "print(original_array)\n",
    "\n",
    "print(\"\\nMasked Array (Excluding columns 1, 3, and 5):\")\n",
    "print(masked_array)\n"
   ]
  },
  {
   "cell_type": "code",
   "execution_count": 28,
   "id": "2026cff6-8a64-4272-8c99-0d7fbfc1514a",
   "metadata": {
    "tags": []
   },
   "outputs": [
    {
     "name": "stdout",
     "output_type": "stream",
     "text": [
      "23 0 22\n",
      "8 23 30\n",
      "20 31 50\n",
      "7 51 57\n",
      "5 58 62\n",
      "8 63 70\n",
      "8 71 78\n",
      "8 79 86\n"
     ]
    }
   ],
   "source": [
    "npcs = [23,8,20,7,5,8,8,8]\n",
    "colStart = 0\n",
    "colEnd   = 0\n",
    "for npc in npcs:\n",
    "    colEnd   = colStart + npc-1\n",
    "    print(npc, colStart, colEnd)\n",
    "        colStart = colEnd + 1\n"
   ]
  },
  {
   "cell_type": "code",
   "execution_count": null,
   "id": "90df6bf4-2cb7-405d-abbd-2fb17bef131c",
   "metadata": {},
   "outputs": [],
   "source": []
  }
 ],
 "metadata": {
  "kernelspec": {
   "display_name": "Python 3 (ipykernel)",
   "language": "python",
   "name": "python3"
  },
  "language_info": {
   "codemirror_mode": {
    "name": "ipython",
    "version": 3
   },
   "file_extension": ".py",
   "mimetype": "text/x-python",
   "name": "python",
   "nbconvert_exporter": "python",
   "pygments_lexer": "ipython3",
   "version": "3.10.9"
  }
 },
 "nbformat": 4,
 "nbformat_minor": 5
}
